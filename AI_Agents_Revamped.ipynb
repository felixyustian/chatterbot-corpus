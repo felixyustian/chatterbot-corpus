{
  "cells": [
    {
      "cell_type": "markdown",
      "metadata": {
        "id": "view-in-github",
        "colab_type": "text"
      },
      "source": [
        "<a href=\"https://colab.research.google.com/github/felixyustian/chatterbot-corpus/blob/master/AI_Agents_Revamped.ipynb\" target=\"_parent\"><img src=\"https://colab.research.google.com/assets/colab-badge.svg\" alt=\"Open In Colab\"/></a>"
      ]
    },
    {
      "cell_type": "markdown",
      "metadata": {
        "id": "xNHSJfzoP_ls"
      },
      "source": [
        "# AI Agents with LangGraph Part 1"
      ]
    },
    {
      "cell_type": "code",
      "execution_count": null,
      "metadata": {
        "colab": {
          "base_uri": "https://localhost:8080/"
        },
        "id": "6LpUsIe3P_lu",
        "outputId": "515a02d1-601a-43d8-e439-4eb63d32fda2"
      },
      "outputs": [
        {
          "output_type": "stream",
          "name": "stdout",
          "text": [
            "\u001b[?25l     \u001b[90m━━━━━━━━━━━━━━━━━━━━━━━━━━━━━━━━━━━━━━━━\u001b[0m \u001b[32m0.0/43.7 kB\u001b[0m \u001b[31m?\u001b[0m eta \u001b[36m-:--:--\u001b[0m\r\u001b[2K     \u001b[90m━━━━━━━━━━━━━━━━━━━━━━━━━━━━━━━━━━━━━━━━\u001b[0m \u001b[32m43.7/43.7 kB\u001b[0m \u001b[31m3.1 MB/s\u001b[0m eta \u001b[36m0:00:00\u001b[0m\n",
            "\u001b[2K   \u001b[90m━━━━━━━━━━━━━━━━━━━━━━━━━━━━━━━━━━━━━━━━\u001b[0m \u001b[32m153.3/153.3 kB\u001b[0m \u001b[31m13.1 MB/s\u001b[0m eta \u001b[36m0:00:00\u001b[0m\n",
            "\u001b[2K   \u001b[90m━━━━━━━━━━━━━━━━━━━━━━━━━━━━━━━━━━━━━━━━\u001b[0m \u001b[32m49.4/49.4 kB\u001b[0m \u001b[31m3.8 MB/s\u001b[0m eta \u001b[36m0:00:00\u001b[0m\n",
            "\u001b[2K   \u001b[90m━━━━━━━━━━━━━━━━━━━━━━━━━━━━━━━━━━━━━━━━\u001b[0m \u001b[32m1.4/1.4 MB\u001b[0m \u001b[31m59.0 MB/s\u001b[0m eta \u001b[36m0:00:00\u001b[0m\n",
            "\u001b[2K   \u001b[90m━━━━━━━━━━━━━━━━━━━━━━━━━━━━━━━━━━━━━━━━\u001b[0m \u001b[32m444.0/444.0 kB\u001b[0m \u001b[31m26.8 MB/s\u001b[0m eta \u001b[36m0:00:00\u001b[0m\n",
            "\u001b[2K   \u001b[90m━━━━━━━━━━━━━━━━━━━━━━━━━━━━━━━━━━━━━━━━\u001b[0m \u001b[32m43.9/43.9 kB\u001b[0m \u001b[31m3.1 MB/s\u001b[0m eta \u001b[36m0:00:00\u001b[0m\n",
            "\u001b[2K   \u001b[90m━━━━━━━━━━━━━━━━━━━━━━━━━━━━━━━━━━━━━━━━\u001b[0m \u001b[32m52.6/52.6 kB\u001b[0m \u001b[31m4.0 MB/s\u001b[0m eta \u001b[36m0:00:00\u001b[0m\n",
            "\u001b[2K   \u001b[90m━━━━━━━━━━━━━━━━━━━━━━━━━━━━━━━━━━━━━━━━\u001b[0m \u001b[32m216.7/216.7 kB\u001b[0m \u001b[31m17.0 MB/s\u001b[0m eta \u001b[36m0:00:00\u001b[0m\n",
            "\u001b[?25h\u001b[31mERROR: pip's dependency resolver does not currently take into account all the packages that are installed. This behaviour is the source of the following dependency conflicts.\n",
            "google-generativeai 0.8.5 requires google-ai-generativelanguage==0.6.15, but you have google-ai-generativelanguage 0.6.18 which is incompatible.\u001b[0m\u001b[31m\n",
            "\u001b[0m"
          ]
        }
      ],
      "source": [
        "c h0%pip install -qU langgraph langchain-google-genai"
      ]
    },
    {
      "cell_type": "markdown",
      "metadata": {
        "id": "sry-y2vfP_lu"
      },
      "source": [
        "## Exercise 1: SQL Agents\n",
        "\n",
        "SQL agents adalah AI Agent yang dapat mengambil data dari table SQL dan menganalisis sesuai dengan pertanyaan dari user."
      ]
    },
    {
      "cell_type": "code",
      "execution_count": null,
      "metadata": {
        "id": "jZIM_Y1nP_lu"
      },
      "outputs": [],
      "source": [
        "from langchain_google_genai import ChatGoogleGenerativeAI\n",
        "import os\n",
        "\n",
        "from google.colab import userdata\n",
        "GEMINI = userdata.get('GEMINI')\n",
        "os.environ[\"GOOGLE_API_KEY\"] = GEMINI"
      ]
    },
    {
      "cell_type": "markdown",
      "metadata": {
        "id": "GCVNp6yBP_lv"
      },
      "source": [
        "### Langkah 1: Define beberapa table SQL"
      ]
    },
    {
      "cell_type": "code",
      "execution_count": null,
      "metadata": {
        "id": "VCpEClT7P_lv"
      },
      "outputs": [],
      "source": [
        "%load_ext sql\n",
        "%sql sqlite:///sample.db"
      ]
    },
    {
      "cell_type": "code",
      "execution_count": null,
      "metadata": {
        "colab": {
          "base_uri": "https://localhost:8080/"
        },
        "id": "l3NzHW7SP_lv",
        "outputId": "9a015715-5407-4b2d-d0e2-d767d105ee32"
      },
      "outputs": [
        {
          "output_type": "stream",
          "name": "stdout",
          "text": [
            " * sqlite:///sample.db\n",
            "Done.\n",
            "Done.\n",
            "Done.\n",
            "3 rows affected.\n",
            "3 rows affected.\n",
            "3 rows affected.\n"
          ]
        },
        {
          "output_type": "execute_result",
          "data": {
            "text/plain": [
              "[]"
            ]
          },
          "metadata": {},
          "execution_count": 4
        }
      ],
      "source": [
        "%%sql\n",
        "-- Create the 'products' table\n",
        "CREATE TABLE IF NOT EXISTS products (\n",
        "  \tproduct_id INTEGER PRIMARY KEY AUTOINCREMENT,\n",
        "  \tproduct_name VARCHAR(255) NOT NULL,\n",
        "  \tprice DECIMAL(10, 2) NOT NULL\n",
        "  );\n",
        "\n",
        "-- Create the 'staff' table\n",
        "CREATE TABLE IF NOT EXISTS staff (\n",
        "  \tstaff_id INTEGER PRIMARY KEY AUTOINCREMENT,\n",
        "  \tfirst_name VARCHAR(255) NOT NULL,\n",
        "  \tlast_name VARCHAR(255) NOT NULL\n",
        "  );\n",
        "\n",
        "-- Create the 'orders' table\n",
        "CREATE TABLE IF NOT EXISTS orders (\n",
        "  \torder_id INTEGER PRIMARY KEY AUTOINCREMENT,\n",
        "  \tcustomer_name VARCHAR(255) NOT NULL,\n",
        "  \tstaff_id INTEGER NOT NULL,\n",
        "  \tproduct_id INTEGER NOT NULL,\n",
        "  \tFOREIGN KEY (staff_id) REFERENCES staff (staff_id),\n",
        "  \tFOREIGN KEY (product_id) REFERENCES products (product_id)\n",
        "  );\n",
        "\n",
        "-- Insert data into the 'products' table\n",
        "INSERT INTO products (product_name, price) VALUES\n",
        "  \t('Laptop', 799.99),\n",
        "  \t('Keyboard', 129.99),\n",
        "  \t('Mouse', 29.99);\n",
        "\n",
        "-- Insert data into the 'staff' table\n",
        "INSERT INTO staff (first_name, last_name) VALUES\n",
        "  \t('Alice', 'Smith'),\n",
        "  \t('Bob', 'Johnson'),\n",
        "  \t('Charlie', 'Williams');\n",
        "\n",
        "-- Insert data into the 'orders' table\n",
        "INSERT INTO orders (customer_name, staff_id, product_id) VALUES\n",
        "  \t('David Lee', 1, 1),\n",
        "  \t('Emily Chen', 2, 2),\n",
        "  \t('Frank Brown', 1, 3);"
      ]
    },
    {
      "cell_type": "code",
      "source": [
        "import sqlite3\n",
        "\n",
        "db_file = \"sample.db\""
      ],
      "metadata": {
        "id": "ZZLZMeS1QVEt"
      },
      "execution_count": null,
      "outputs": []
    },
    {
      "cell_type": "markdown",
      "metadata": {
        "id": "yc2Y8FKFP_lv"
      },
      "source": [
        "### Langkah 2: Define Tools\n",
        "Tools yang akan digunakan pada SQL agent adalah `list_tables`, `describe_tables`, dan `execute_query` sehingga AI dapat memahami metadata table terlebih dahulu sebelum mulai menjalankan query"
      ]
    },
    {
      "cell_type": "code",
      "execution_count": null,
      "metadata": {
        "colab": {
          "base_uri": "https://localhost:8080/"
        },
        "id": "fBP-M84HP_lv",
        "outputId": "8fdeecdb-a637-478a-f442-f72ed11b707d"
      },
      "outputs": [
        {
          "output_type": "stream",
          "name": "stdout",
          "text": [
            " - DB CALL: list_tables\n"
          ]
        },
        {
          "output_type": "execute_result",
          "data": {
            "text/plain": [
              "['products', 'sqlite_sequence', 'staff', 'orders']"
            ]
          },
          "metadata": {},
          "execution_count": 18
        }
      ],
      "source": [
        "def list_tables() -> list[str]:\n",
        "    \"\"\"Retrieve the names of all tables in the database.\"\"\"\n",
        "    # Include print logging statements so you can see when functions are being called.\n",
        "    print(' - DB CALL: list_tables')\n",
        "\n",
        "    # Create a new connection for thread safety\n",
        "    with sqlite3.connect(db_file) as conn:\n",
        "        cursor = conn.cursor()\n",
        "\n",
        "        # Fetch the table names.\n",
        "        cursor.execute(\"SELECT name FROM sqlite_master WHERE type='table';\")\n",
        "\n",
        "        tables = cursor.fetchall()\n",
        "        return [t[0] for t in tables]\n",
        "\n",
        "\n",
        "list_tables()"
      ]
    },
    {
      "cell_type": "code",
      "execution_count": null,
      "metadata": {
        "colab": {
          "base_uri": "https://localhost:8080/"
        },
        "id": "X9JX-e6fP_lv",
        "outputId": "e3c79309-4028-4f70-d627-bdee5d193194"
      },
      "outputs": [
        {
          "output_type": "stream",
          "name": "stdout",
          "text": [
            " - DB CALL: describe_table\n"
          ]
        },
        {
          "output_type": "execute_result",
          "data": {
            "text/plain": [
              "[('product_id', 'INTEGER'),\n",
              " ('product_name', 'VARCHAR(255)'),\n",
              " ('price', 'DECIMAL(10, 2)')]"
            ]
          },
          "metadata": {},
          "execution_count": 19
        }
      ],
      "source": [
        "def describe_table(table_name: str) -> list[tuple[str, str]]:\n",
        "    \"\"\"Look up the table schema.\n",
        "\n",
        "    Returns:\n",
        "      List of columns, where each entry is a tuple of (column, type).\n",
        "    \"\"\"\n",
        "    print(' - DB CALL: describe_table')\n",
        "\n",
        "    # Create a new connection for thread safety\n",
        "    with sqlite3.connect(db_file) as conn:\n",
        "        cursor = conn.cursor()\n",
        "\n",
        "        cursor.execute(f\"PRAGMA table_info({table_name});\")\n",
        "\n",
        "        schema = cursor.fetchall()\n",
        "        # [column index, column name, column type, ...]\n",
        "        return [(col[1], col[2]) for col in schema]\n",
        "\n",
        "\n",
        "describe_table(\"products\")"
      ]
    },
    {
      "cell_type": "code",
      "execution_count": null,
      "metadata": {
        "colab": {
          "base_uri": "https://localhost:8080/"
        },
        "id": "vz7yRhtAP_lv",
        "outputId": "edb08b84-4320-467b-eabd-ff30e1d246a4"
      },
      "outputs": [
        {
          "output_type": "stream",
          "name": "stdout",
          "text": [
            " - DB CALL: execute_query\n"
          ]
        },
        {
          "output_type": "execute_result",
          "data": {
            "text/plain": [
              "[(1, 'Laptop', 799.99), (2, 'Keyboard', 129.99), (3, 'Mouse', 29.99)]"
            ]
          },
          "metadata": {},
          "execution_count": 20
        }
      ],
      "source": [
        "def execute_query(sql: str) -> list[list[str]]:\n",
        "    \"\"\"Execute a SELECT statement, returning the results.\"\"\"\n",
        "    print(' - DB CALL: execute_query')\n",
        "\n",
        "    # Create a new connection for thread safety\n",
        "    with sqlite3.connect(db_file) as conn:\n",
        "        cursor = conn.cursor()\n",
        "\n",
        "        cursor.execute(sql)\n",
        "        return cursor.fetchall()\n",
        "\n",
        "\n",
        "execute_query(\"select * from products\")"
      ]
    },
    {
      "cell_type": "markdown",
      "metadata": {
        "id": "miN4QTh8P_lw"
      },
      "source": [
        "### Langkah 3: Bangun chatbot dengan create_react_agent"
      ]
    },
    {
      "cell_type": "code",
      "execution_count": null,
      "metadata": {
        "id": "1ADA2SKRP_lw"
      },
      "outputs": [],
      "source": [
        "# These are the Python functions defined above.\n",
        "db_tools = [list_tables, describe_table, execute_query]\n",
        "\n",
        "instruction = \"\"\"You are a helpful chatbot that can interact with an SQL database for a computer\n",
        "store. You will take the users questions and turn them into SQL queries using the tools\n",
        "available. Once you have the information you need, you will answer the user's question using\n",
        "the data returned. Use list_tables to see what tables are present, describe_table to understand\n",
        "the schema, and execute_query to issue an SQL SELECT query.\"\"\"\n",
        "\n",
        "# Import the necessary modules from langgraph\n",
        "from langgraph.prebuilt import create_react_agent\n",
        "\n",
        "# Initialize the chat model with specific parameters\n",
        "model = ChatGoogleGenerativeAI(\n",
        "    model=\"gemini-2.5-flash\",\n",
        "    temperature=0\n",
        ")\n",
        "\n",
        "# Create a ReAct agent using the model, tools, and prompt\n",
        "agent = create_react_agent(\n",
        "    model=model,\n",
        "    tools=db_tools,\n",
        "    prompt=instruction\n",
        ")"
      ]
    },
    {
      "cell_type": "markdown",
      "metadata": {
        "id": "uk_JnrK6P_lw"
      },
      "source": [
        "perhatikan respons chatbot di bawah, LLM memanggil tool list_table -> describe_table -> execute_query untuk menganalisis jawaban dan memberikan jawaban yang tepat."
      ]
    },
    {
      "cell_type": "code",
      "execution_count": null,
      "metadata": {
        "colab": {
          "base_uri": "https://localhost:8080/"
        },
        "id": "dV05dLsZP_lw",
        "outputId": "55ebefe8-4924-46c2-9abb-90d686f52570"
      },
      "outputs": [
        {
          "output_type": "stream",
          "name": "stdout",
          "text": [
            " - DB CALL: list_tables\n",
            " - DB CALL: describe_table\n",
            " - DB CALL: execute_query\n",
            "The employees of the company are Alice Smith, Bob Johnson, and Charlie Williams.\n"
          ]
        }
      ],
      "source": [
        "# Run the agent\n",
        "response = agent.invoke(\n",
        "    {\"messages\": [{\"role\": \"user\", \"content\": \"Name all employee who works in the company\"}]}\n",
        ")\n",
        "\n",
        "print(response[\"messages\"][-1].content)"
      ]
    },
    {
      "cell_type": "code",
      "execution_count": null,
      "metadata": {
        "colab": {
          "base_uri": "https://localhost:8080/"
        },
        "id": "9r5ACKbIP_lw",
        "outputId": "29f1a41e-4f8a-442c-9b45-8c467268658e"
      },
      "outputs": [
        {
          "output_type": "stream",
          "name": "stdout",
          "text": [
            " - DB CALL: list_tables\n",
            " - DB CALL: describe_table\n",
            " - DB CALL: execute_query\n",
            "Produk termahal adalah Laptop dengan harga 799.99.\n"
          ]
        }
      ],
      "source": [
        "# Run the agent with a different query\n",
        "response = agent.invoke(\n",
        "    {\"messages\": [{\"role\": \"user\", \"content\": \"Produk apa yang harganya paling mahal\"}]}\n",
        ")\n",
        "\n",
        "print(response[\"messages\"][-1].content)"
      ]
    },
    {
      "cell_type": "markdown",
      "metadata": {
        "id": "PrnXG5JaP_lw"
      },
      "source": [
        "# AI Agents with LangGraph Part 2"
      ]
    },
    {
      "cell_type": "markdown",
      "metadata": {
        "id": "Y8CzShi-P_lw"
      },
      "source": [
        "## Langkah 1: Define State dan Prompt"
      ]
    },
    {
      "cell_type": "code",
      "execution_count": null,
      "metadata": {
        "id": "qHZZBoIRP_lw"
      },
      "outputs": [],
      "source": [
        "system_instruction = \"\"\"\n",
        "You are a BaristaBot, an interactive cafe ordering system.\n",
        "A human will talk to you about the available products you have and you will answer any questions about menu items\n",
        "(and only about menu items - no off-topic discussion, but you can chat about the products and their history).\n",
        "The customer will place an order for 1 or more items from the menu, which you will structure and send to the ordering system after confirming the order with the human.\n",
        "\n",
        "Add items to the customer's order with add_to_order, and reset the order with clear_order.\n",
        "To see the contents of the order so far, call get_order (this is shown to you, not the user)\n",
        "Always confirm_order with the user (double-check) before calling place_order.\n",
        "Calling confirm_order will display the order items to the user and returns their response to seeing the list.\n",
        "Their response may contain modifications. Always verify and respond with drink and modifier names from the MENU before adding them to the order.\n",
        "If you are unsure a drink or modifier matches those on the MENU, ask a question to clarify or redirect.\n",
        "You only have the modifiers listed on the menu.\n",
        "Once the customer has finished ordering items, Call confirm_order to ensure it is correct then make any necessary updates and then call place_order.\n",
        "Once place_order has returned, thank the user and say goodbye!\n",
        "\"\"\""
      ]
    },
    {
      "cell_type": "markdown",
      "metadata": {
        "id": "qfSrzlKHP_lw"
      },
      "source": [
        "## Langkah 2: Define Flow Chatbot dengan create_react_agent"
      ]
    },
    {
      "cell_type": "code",
      "execution_count": null,
      "metadata": {
        "id": "ntWFa-x3P_lx"
      },
      "outputs": [],
      "source": [
        "# In-memory database for the customer's order\n",
        "customer_order = []\n",
        "\n",
        "def get_menu() -> str:\n",
        "    \"\"\"Provide the latest up-to-date menu.\"\"\"\n",
        "    # Note that this is just hard-coded text, but you could connect this to a live stock\n",
        "    # database, or you could use Gemini's multi-modal capabilities and take live photos of\n",
        "    # your cafe's chalk menu or the products on the counter and assmble them into an input.\n",
        "\n",
        "    return \"\"\"\n",
        "    MENU:\n",
        "    Coffee Drinks:\n",
        "    Espresso\n",
        "    Americano\n",
        "    Cold Brew\n",
        "\n",
        "    Coffee Drinks with Milk:\n",
        "    Latte\n",
        "    Cappuccino\n",
        "    Cortado\n",
        "    Macchiato\n",
        "    Mocha\n",
        "    Flat White\n",
        "\n",
        "    Tea Drinks:\n",
        "    English Breakfast Tea\n",
        "    Green Tea\n",
        "    Earl Grey\n",
        "\n",
        "    Tea Drinks with Milk:\n",
        "    Chai Latte\n",
        "    Matcha Latte\n",
        "    London Fog\n",
        "\n",
        "    Other Drinks:\n",
        "    Steamer\n",
        "    Hot Chocolate\n",
        "\n",
        "    Modifiers:\n",
        "    Milk options: Whole, 2%, Oat, Almond, 2% Lactose Free; Default option: whole\n",
        "    Espresso shots: Single, Double, Triple, Quadruple; default: Double\n",
        "    Caffeine: Decaf, Regular; default: Regular\n",
        "    Hot-Iced: Hot, Iced; Default: Hot\n",
        "    Sweeteners (option to add one or more): vanilla sweetener, hazelnut sweetener, caramel sauce, chocolate sauce, sugar free vanilla sweetener\n",
        "    Special requests: any reasonable modification that does not involve items not on the menu, for example: 'extra hot', 'one pump', 'half caff', 'extra foam', etc.\n",
        "\n",
        "    \"dirty\" means add a shot of espresso to a drink that doesn't usually have it, like \"Dirty Chai Latte\".\n",
        "    \"Regular milk\" is the same as 'whole milk'.\n",
        "    \"Sweetened\" means add some regular sugar, not a sweetener.\n",
        "\n",
        "    Soy milk has run out of stock today, so soy is not available.\n",
        "    \"\"\"\n",
        "\n",
        "def add_to_order(item: str) -> str:\n",
        "    \"\"\"Add an item to the customer's order.\"\"\"\n",
        "    global customer_order\n",
        "    customer_order.append(item)\n",
        "    print(f\"Adding '{item}' to order. Current order: {customer_order}\")\n",
        "    return f\"I've added '{item}' to your order.\"\n",
        "\n",
        "def clear_order() -> str:\n",
        "    \"\"\"Clear all items from the customer's order.\"\"\"\n",
        "    global customer_order\n",
        "    customer_order.clear()\n",
        "    print(\"Clearing order.\")\n",
        "    return \"Your order has been cleared.\"\n",
        "\n",
        "def get_order() -> list[str]:\n",
        "    \"\"\"Get the current items in the customer's order.\"\"\"\n",
        "    global customer_order\n",
        "    print(f\"Getting order. Current order: {customer_order}\")\n",
        "    return customer_order\n",
        "\n",
        "def confirm_order() -> str:\n",
        "    \"\"\"Confirm the order with the customer.\"\"\"\n",
        "    global customer_order\n",
        "    print(f\"Confirming order. Current order: {customer_order}\")\n",
        "    if not customer_order:\n",
        "        return \"Your order is currently empty. What can I get for you?\"\n",
        "\n",
        "    order_string = \", \".join(customer_order)\n",
        "    return f\"Your order contains: {order_string}. Is this correct?\"\n",
        "\n",
        "def place_order() -> str:\n",
        "    \"\"\"Place the final order.\"\"\"\n",
        "    global customer_order\n",
        "    print(f\"Placing order. Final order: {customer_order}\")\n",
        "    if not customer_order:\n",
        "        return \"There's nothing in your order to place.\"\n",
        "\n",
        "    final_order_summary = \", \".join(customer_order)\n",
        "    # Clear the order after placing it, ready for the next customer\n",
        "    customer_order.clear()\n",
        "    return f\"Your order for '{final_order_summary}' has been placed! It will be ready shortly.\"\n",
        "\n",
        "# Collect all tools\n",
        "barista_tools = [get_menu, add_to_order, clear_order, get_order, confirm_order, place_order]\n",
        "\n",
        "# Import necessary modules\n",
        "from langgraph.prebuilt import create_react_agent\n",
        "from langgraph.checkpoint.memory import InMemorySaver\n",
        "\n",
        "# Initialize the chat model\n",
        "model = ChatGoogleGenerativeAI(\n",
        "    model=\"gemini-2.5-flash\",\n",
        "    temperature=0.2\n",
        ")\n",
        "\n",
        "# Create a checkpointer for memory\n",
        "checkpointer = InMemorySaver()\n",
        "\n",
        "# Create the ReAct agent\n",
        "barista_agent = create_react_agent(\n",
        "    model=model,\n",
        "    tools=barista_tools,\n",
        "    prompt=system_instruction,\n",
        "    checkpointer=checkpointer\n",
        ")"
      ]
    },
    {
      "cell_type": "markdown",
      "metadata": {
        "id": "3FP2ra30P_lx"
      },
      "source": [
        "### Interaksi dengan Barista Bot"
      ]
    },
    {
      "cell_type": "code",
      "execution_count": null,
      "metadata": {
        "id": "M4WSdwFZP_lx"
      },
      "outputs": [],
      "source": [
        "# Function to interact with the barista bot\n",
        "def chat_with_barista():\n",
        "    thread_id = \"1\"  # Unique identifier for this conversation\n",
        "    config = {\"configurable\": {\"thread_id\": thread_id}}\n",
        "\n",
        "    print(\"Welcome to BaristaBot! Type 'q' to quit.\")\n",
        "\n",
        "    # First response with welcome message\n",
        "    response = barista_agent.invoke(\n",
        "        {\"messages\": []},\n",
        "        config=config\n",
        "    )\n",
        "    print(\"BaristaBot:\", response[\"messages\"][-1][\"content\"])\n",
        "\n",
        "    while True:\n",
        "        user_input = input(\"You: \")\n",
        "        if user_input.lower() in ['q', 'quit', 'exit']:\n",
        "            print(\"BaristaBot: Thank you for visiting! Have a great day!\")\n",
        "            break\n",
        "\n",
        "        response = barista_agent.invoke(\n",
        "            {\"messages\": [{\"role\": \"user\", \"content\": user_input}]},\n",
        "            config=config\n",
        "        )\n",
        "\n",
        "        print(\"BaristaBot:\", response[\"messages\"][-1][\"content\"])"
      ]
    },
    {
      "cell_type": "code",
      "execution_count": null,
      "metadata": {
        "id": "rISmVpIlP_lx"
      },
      "outputs": [],
      "source": [
        "# Run the interactive chat\n",
        "# Uncomment the line below to start chatting with the barista bot\n",
        "# chat_with_barista()"
      ]
    },
    {
      "cell_type": "markdown",
      "metadata": {
        "id": "2lvR22IrP_lx"
      },
      "source": [
        "### Contoh Penggunaan Langsung"
      ]
    },
    {
      "cell_type": "code",
      "execution_count": null,
      "metadata": {
        "colab": {
          "base_uri": "https://localhost:8080/"
        },
        "id": "C_OcCs8tP_lx",
        "outputId": "6085d72f-e4ee-48aa-f16f-8b5309ba08d5"
      },
      "outputs": [
        {
          "output_type": "stream",
          "name": "stdout",
          "text": [
            "User: What drinks do you have?\n",
            "BaristaBot: We have a variety of coffee drinks, including Espresso, Americano, and Cold Brew. We also have coffee drinks with milk like Latte, Cappuccino, Cortado, Macchiato, Mocha, and Flat White.\n",
            "\n",
            "If you prefer tea, we offer English Breakfast Tea, Green Tea, and Earl Grey. Our tea drinks with milk include Chai Latte, Matcha Latte, and London Fog.\n",
            "\n",
            "Additionally, we have Steamer and Hot Chocolate.\n",
            "Adding 'Green Tea' to order. Current order: ['Green Tea']\n",
            "Getting order. Current order: ['Green Tea']\n",
            "User: I'd like a green tea please\n",
            "BaristaBot: Ok, I've added a Green Tea to your order. Anything else?\n",
            "Confirming order. Current order: ['Green Tea']\n",
            "User: what is my order?\n",
            "BaristaBot: Your order contains: Green Tea. Is this correct?\n"
          ]
        }
      ],
      "source": [
        "# Example of direct usage with specific queries\n",
        "thread_id = \"3\"  # Unique identifier for this conversation\n",
        "config = {\"configurable\": {\"thread_id\": thread_id}}\n",
        "\n",
        "# User asks about menu\n",
        "response = barista_agent.invoke(\n",
        "    {\"messages\": [{\"role\": \"user\", \"content\": \"What drinks do you have?\"}]},\n",
        "    config=config\n",
        ")\n",
        "print(\"User: What drinks do you have?\")\n",
        "print(\"BaristaBot:\", response[\"messages\"][-1].content)\n",
        "\n",
        "# User orders a drink\n",
        "response = barista_agent.invoke(\n",
        "    {\"messages\": [{\"role\": \"user\", \"content\": \"I'd like a green tea please\"}]},\n",
        "    config=config\n",
        ")\n",
        "print(\"User: I'd like a green tea please\")\n",
        "print(\"BaristaBot:\", response[\"messages\"][-1].content)\n",
        "\n",
        "# User orders a drink\n",
        "response = barista_agent.invoke(\n",
        "    {\"messages\": [{\"role\": \"user\", \"content\": \"what is my order?\"}]},\n",
        "    config=config\n",
        ")\n",
        "print(\"User: what is my order?\")\n",
        "print(\"BaristaBot:\", response[\"messages\"][-1].content)"
      ]
    },
    {
      "cell_type": "code",
      "source": [],
      "metadata": {
        "id": "xh_sfhacSEJX"
      },
      "execution_count": null,
      "outputs": []
    }
  ],
  "metadata": {
    "kernelspec": {
      "display_name": "Python 3",
      "language": "python",
      "name": "python3"
    },
    "language_info": {
      "codemirror_mode": {
        "name": "ipython",
        "version": 3
      },
      "file_extension": ".py",
      "mimetype": "text/x-python",
      "name": "python",
      "nbconvert_exporter": "python",
      "pygments_lexer": "ipython3",
      "version": "3.9.7"
    },
    "colab": {
      "provenance": [],
      "include_colab_link": true
    }
  },
  "nbformat": 4,
  "nbformat_minor": 0
}