{
  "nbformat": 4,
  "nbformat_minor": 0,
  "metadata": {
    "colab": {
      "provenance": [],
      "include_colab_link": true
    },
    "kernelspec": {
      "name": "python3",
      "display_name": "Python 3"
    },
    "language_info": {
      "name": "python"
    }
  },
  "cells": [
    {
      "cell_type": "markdown",
      "metadata": {
        "id": "view-in-github",
        "colab_type": "text"
      },
      "source": [
        "<a href=\"https://colab.research.google.com/github/felixyustian/chatterbot-corpus/blob/master/Langchain_Gemini.ipynb\" target=\"_parent\"><img src=\"https://colab.research.google.com/assets/colab-badge.svg\" alt=\"Open In Colab\"/></a>"
      ]
    },
    {
      "cell_type": "markdown",
      "source": [
        "**Materi ini di buat oleh : [Sardi Irfansyah](https://www.linkedin.com/in/sirfansyah/)**"
      ],
      "metadata": {
        "id": "VmL_7tO-JdHP"
      }
    },
    {
      "cell_type": "markdown",
      "source": [
        "# Instalasi Library"
      ],
      "metadata": {
        "id": "U2fk0vjajJRa"
      }
    },
    {
      "cell_type": "code",
      "source": [
        "!pip install -U -q google-generativeai langchain langchain-google-genai langchain_community pypdf chromadb google-search-results"
      ],
      "metadata": {
        "id": "WVWBkGqO0SeK",
        "collapsed": true
      },
      "execution_count": null,
      "outputs": []
    },
    {
      "cell_type": "code",
      "source": [
        "import os\n",
        "\n",
        "from langchain_google_genai import ChatGoogleGenerativeAI\n",
        "from langchain_google_genai import GoogleGenerativeAIEmbeddings\n",
        "from IPython.display import Markdown as md\n",
        "\n",
        "import warnings\n",
        "warnings.filterwarnings('ignore')"
      ],
      "metadata": {
        "id": "0GwLF-rp0k_x"
      },
      "execution_count": null,
      "outputs": []
    },
    {
      "cell_type": "code",
      "source": [
        "from google.colab import userdata"
      ],
      "metadata": {
        "id": "G5w_JgRBCeUG"
      },
      "execution_count": null,
      "outputs": []
    },
    {
      "cell_type": "code",
      "source": [
        "# masukan API key kalian\n",
        "api_key= userdata.get('GEMINI_API_KEY')"
      ],
      "metadata": {
        "id": "7CiFYWa0zoNl"
      },
      "execution_count": null,
      "outputs": []
    },
    {
      "cell_type": "markdown",
      "source": [
        "## Basic Langchain (Chain)\n",
        "- Building block yang paling simple\n",
        "- LLMs, Prompt, Output Parser\n",
        "- tidka bisa menggunakan external tools (web search, search database)"
      ],
      "metadata": {
        "id": "q1AgQJ4NmlN8"
      }
    },
    {
      "cell_type": "code",
      "source": [
        "from langchain_core.prompts import ChatPromptTemplate\n",
        "from langchain_core.output_parsers import StrOutputParser"
      ],
      "metadata": {
        "id": "7ARBRx1dvLLM"
      },
      "execution_count": null,
      "outputs": []
    },
    {
      "cell_type": "code",
      "source": [
        "# Komponen yang pertama yaitu LLMs\n",
        "# Cara pertama\n",
        "chat_model = ChatGoogleGenerativeAI(google_api_key=api_key,\n",
        "                                   model=\"gemini-2.0-flash\")"
      ],
      "metadata": {
        "id": "LHJtYs4svPWo"
      },
      "execution_count": null,
      "outputs": []
    },
    {
      "cell_type": "code",
      "source": [
        "# chat_model = ChatGoogleGenerativeAI(google_api_key=\"abcdefalasjdljdaljdlasjdds\",\n",
        "#                                    model=\"gemini-2.0-flash\")"
      ],
      "metadata": {
        "id": "68Q5gz-ivsAa"
      },
      "execution_count": null,
      "outputs": []
    },
    {
      "cell_type": "code",
      "source": [
        "#Komponen yang kedua\n",
        "system_instruction = \"\"\"\n",
        "Kamu adalah guru matematika, tugasmu membantu siswa untuk menjawab pertanyaan soal matematika.\n",
        "jawab secara detail, step by step dan jelaskan setiap langkah yang kamu lakukan.\n",
        "\"\"\"\n",
        "prompt = ChatPromptTemplate.from_messages([\n",
        "    (\"system\", system_instruction),\n",
        "    (\"user\", \"{input}\")\n",
        "])"
      ],
      "metadata": {
        "id": "ZL8UnnuNvT14"
      },
      "execution_count": null,
      "outputs": []
    },
    {
      "cell_type": "code",
      "source": [
        "#Komponen yang ketiga yaitu output parser\n",
        "output_parser = StrOutputParser()"
      ],
      "metadata": {
        "id": "B-LeFw2awZFj"
      },
      "execution_count": null,
      "outputs": []
    },
    {
      "cell_type": "code",
      "source": [
        "#Kita gabungkan semuanya\n",
        "chain = prompt | chat_model | output_parser"
      ],
      "metadata": {
        "id": "IB56kj_YoGYD"
      },
      "execution_count": null,
      "outputs": []
    },
    {
      "cell_type": "code",
      "source": [
        "response = chain.invoke({\"input\": \"berapa jarak yang ditempuh dipta ketika melaju dengan kecepatan 100km/30 menit selama 2 jam ?\"})"
      ],
      "metadata": {
        "id": "hb0bgdHZoGVD"
      },
      "execution_count": null,
      "outputs": []
    },
    {
      "cell_type": "code",
      "source": [
        "md(response)"
      ],
      "metadata": {
        "colab": {
          "base_uri": "https://localhost:8080/",
          "height": 268
        },
        "collapsed": true,
        "id": "Yrkj2LJCpHwx",
        "outputId": "fd3b449c-f84b-4f1d-e19c-3a73d80e9daf"
      },
      "execution_count": null,
      "outputs": [
        {
          "output_type": "execute_result",
          "data": {
            "text/plain": [
              "<IPython.core.display.Markdown object>"
            ],
            "text/markdown": "Baik, mari kita pecahkan soal ini langkah demi langkah:\n\n**1. Memahami Kecepatan**\n\n*   Kecepatan Dipta adalah 100 km/30 menit. Ini berarti dalam 30 menit, dia menempuh jarak 100 km.\n\n**2. Menghitung Jarak per Jam**\n\n*   Karena 1 jam ada 60 menit, maka 1 jam sama dengan 2 kali 30 menit.\n*   Jadi, dalam 1 jam, Dipta menempuh jarak: 100 km/30 menit * 2 = 200 km/jam\n\n**3. Menghitung Jarak Total**\n\n*   Dipta berkendara selama 2 jam dengan kecepatan 200 km/jam.\n*   Maka, jarak total yang ditempuh adalah: 200 km/jam * 2 jam = 400 km\n\n**Jawaban:**\n\nJadi, jarak yang ditempuh Dipta selama 2 jam adalah 400 km."
          },
          "metadata": {},
          "execution_count": 15
        }
      ]
    },
    {
      "cell_type": "markdown",
      "source": [
        "## Structured Output"
      ],
      "metadata": {
        "id": "f31Ba84YxnEY"
      }
    },
    {
      "cell_type": "code",
      "source": [
        "from pydantic import BaseModel, Field"
      ],
      "metadata": {
        "id": "lfm6gUqmzEIJ"
      },
      "execution_count": null,
      "outputs": []
    },
    {
      "cell_type": "code",
      "source": [
        "tagging_prompt = ChatPromptTemplate.from_template(\n",
        "\"\"\"\n",
        "Extract the desired information from the following passage.\n",
        "\n",
        "Only extract the properties mentioned in the 'Classification' function.\n",
        "\n",
        "Passage:\n",
        "{input}\n",
        "\"\"\"\n",
        ")"
      ],
      "metadata": {
        "id": "EHd0R7apzKbb"
      },
      "execution_count": null,
      "outputs": []
    },
    {
      "cell_type": "code",
      "source": [
        "class Classification(BaseModel):\n",
        "    sentiment: str = Field(description=\"The sentiment of the text\")\n",
        "    language: str = Field(description=\"The language the text is written in\")"
      ],
      "metadata": {
        "id": "bkv-tMbQzR3L"
      },
      "execution_count": null,
      "outputs": []
    },
    {
      "cell_type": "code",
      "source": [
        "llm = ChatGoogleGenerativeAI(google_api_key=api_key,\n",
        "                                   model=\"gemini-2.0-flash\").with_structured_output(\n",
        "    Classification\n",
        ")"
      ],
      "metadata": {
        "id": "P5STOLOnzul_"
      },
      "execution_count": null,
      "outputs": []
    },
    {
      "cell_type": "code",
      "source": [
        "inp = \"Estoy increiblemente contento de haberte conocido! Creo que seremos muy buenos amigos!\"\n",
        "prompt = tagging_prompt.invoke({\"input\": inp})\n",
        "response = llm.invoke(prompt)\n",
        "response"
      ],
      "metadata": {
        "colab": {
          "base_uri": "https://localhost:8080/"
        },
        "id": "TK07nVKEyCfX",
        "outputId": "465bf537-a8d6-4aca-d9fd-ec4ff3596297"
      },
      "execution_count": null,
      "outputs": [
        {
          "output_type": "execute_result",
          "data": {
            "text/plain": [
              "Classification(sentiment='Positive', language='Spanish')"
            ]
          },
          "metadata": {},
          "execution_count": 30
        }
      ]
    },
    {
      "cell_type": "code",
      "source": [
        "inp = \"Estoy muy enojado con vos! Te voy a dar tu merecido!\"\n",
        "prompt = tagging_prompt.invoke({\"input\": inp})\n",
        "response = llm.invoke(prompt)\n",
        "\n",
        "response.model_dump()"
      ],
      "metadata": {
        "colab": {
          "base_uri": "https://localhost:8080/"
        },
        "id": "kuzHXURJyCcB",
        "outputId": "f910a582-4686-4c85-8cc6-9fac7739adc2"
      },
      "execution_count": null,
      "outputs": [
        {
          "output_type": "execute_result",
          "data": {
            "text/plain": [
              "{'sentiment': 'negative', 'language': 'Spanish'}"
            ]
          },
          "metadata": {},
          "execution_count": 31
        }
      ]
    },
    {
      "cell_type": "code",
      "source": [
        "inp = \"wahh hari ini cuaca sangat mendukung utnuk bermain bola\"\n",
        "prompt = tagging_prompt.invoke({\"input\": inp})\n",
        "response = llm.invoke(prompt)\n",
        "\n",
        "response.model_dump()"
      ],
      "metadata": {
        "colab": {
          "base_uri": "https://localhost:8080/"
        },
        "id": "0sOSLahpyCZG",
        "outputId": "6ac08e23-9219-4d76-9078-e2640db2e55b"
      },
      "execution_count": null,
      "outputs": [
        {
          "output_type": "execute_result",
          "data": {
            "text/plain": [
              "{'sentiment': 'positive', 'language': 'indonesian'}"
            ]
          },
          "metadata": {},
          "execution_count": 32
        }
      ]
    },
    {
      "cell_type": "markdown",
      "source": [
        "## Mid Langchain (Agent)\n",
        "- lebih punya banyak capabilities dari `Chain`\n",
        "- Strukturnya hampir sama dengan `Chain`\n",
        "- Yang membedakan ada 2\n",
        "  - Agent menggunakan framework ReAct secara default\n",
        "  - Agent bisa menggunakan external tools (Calculator, Search Internet)"
      ],
      "metadata": {
        "id": "XnPNmk6TsRzu"
      }
    },
    {
      "cell_type": "code",
      "source": [
        "from langchain.agents import load_tools, initialize_agent, AgentType\n",
        "from langchain.chains import LLMMathChain #Untuk kalkulator\n",
        "from langchain.agents import Tool\n",
        "\n",
        "os.environ[\"SERPAPI_API_KEY\"] = userdata.get('SERP_API_KEY')"
      ],
      "metadata": {
        "id": "YCP_AptwsS-Y"
      },
      "execution_count": null,
      "outputs": []
    },
    {
      "cell_type": "code",
      "source": [
        "# Membuat tools yang pertama yaitu kalkulator\n",
        "chat_model = ChatGoogleGenerativeAI(google_api_key=api_key,\n",
        "                                   model=\"gemini-2.0-flash\")\n",
        "\n",
        "problem_chain = LLMMathChain.from_llm(llm=chat_model)\n",
        "\n",
        "math_tool = Tool.from_function(name=\"Calculator\",\n",
        "                               func=problem_chain.run,\n",
        "                               description=\"\"\"Useful for when you need to answer questions\n",
        "                               about math. This tool is only for math questions and nothing else. Only input\n",
        "                               math expressions.\"\"\")"
      ],
      "metadata": {
        "id": "jC_EVtnIuOqE"
      },
      "execution_count": null,
      "outputs": []
    },
    {
      "cell_type": "code",
      "source": [
        "tools = load_tools([\"serpapi\"])"
      ],
      "metadata": {
        "id": "j4ZinSDo3b5T"
      },
      "execution_count": null,
      "outputs": []
    },
    {
      "cell_type": "code",
      "source": [
        "tools.append(math_tool)"
      ],
      "metadata": {
        "id": "u9H0OJ4Z3hqh"
      },
      "execution_count": null,
      "outputs": []
    },
    {
      "cell_type": "code",
      "source": [
        "# initialize agent\n",
        "agent = initialize_agent(\n",
        "    tools,\n",
        "    chat_model,\n",
        "    agent=AgentType.CHAT_ZERO_SHOT_REACT_DESCRIPTION,\n",
        "    max_iterations=5,\n",
        "    handle_parsing_errors=True,\n",
        "    verbose = True)"
      ],
      "metadata": {
        "id": "uvPXr3RO3ltn"
      },
      "execution_count": null,
      "outputs": []
    },
    {
      "cell_type": "code",
      "source": [
        "# invoke agent\n",
        "agent( \"\"\"I have 3 apples and 4 oranges. I give half of my oranges\n",
        "               away and buy two dozen new ones, alongwith three packs of\n",
        "               strawberries. Each pack of strawberry has 30 strawberries.\n",
        "               How  many total pieces of fruit do I have at the end?\"\"\")"
      ],
      "metadata": {
        "colab": {
          "base_uri": "https://localhost:8080/",
          "height": 949
        },
        "id": "_6n5KtpKuCh9",
        "outputId": "1e33ed93-7adc-4a14-f88a-a089ef19dd62",
        "collapsed": true
      },
      "execution_count": null,
      "outputs": [
        {
          "output_type": "stream",
          "name": "stdout",
          "text": [
            "\n",
            "\n",
            "\u001b[1m> Entering new AgentExecutor chain...\u001b[0m\n",
            "\u001b[32;1m\u001b[1;3mThought: First, I need to calculate how many oranges I have after giving half away and buying two dozen. Then, I need to calculate how many strawberries I have after buying three packs. Finally, I need to add the number of apples, oranges, and strawberries to find the total number of pieces of fruit.\n",
            "\n",
            "Action:\n",
            "```json\n",
            "{\n",
            "  \"action\": \"Calculator\",\n",
            "  \"action_input\": \"4/2\"\n",
            "}\n",
            "```\u001b[0m\n",
            "Observation: \u001b[33;1m\u001b[1;3mAnswer: 2.0\u001b[0m\n",
            "Thought:\u001b[32;1m\u001b[1;3mI need to calculate how many oranges I have after giving half away and buying two dozen. Then, I need to calculate how many strawberries I have after buying three packs. Finally, I need to add the number of apples, oranges, and strawberries to find the total number of pieces of fruit.\n",
            "\n",
            "Action:\n",
            "```json\n",
            "{\n",
            "  \"action\": \"Calculator\",\n",
            "  \"action_input\": \"4/2\"\n",
            "}\n",
            "```\u001b[0m\n",
            "Observation: \u001b[33;1m\u001b[1;3mAnswer: 2.0\u001b[0m\n",
            "Thought:"
          ]
        },
        {
          "output_type": "stream",
          "name": "stderr",
          "text": [
            "WARNING:langchain_google_genai.chat_models:Retrying langchain_google_genai.chat_models._chat_with_retry.<locals>._chat_with_retry in 2.0 seconds as it raised ResourceExhausted: 429 Resource has been exhausted (e.g. check quota)..\n"
          ]
        },
        {
          "output_type": "stream",
          "name": "stdout",
          "text": [
            "\u001b[32;1m\u001b[1;3mThought: First, I need to calculate how many oranges I have after giving half away and buying two dozen. Then, I need to calculate how many strawberries I have after buying three packs. Finally, I need to add the number of apples, oranges, and strawberries to find the total number of pieces of fruit.\n",
            "\n",
            "Action:\n",
            "```json\n",
            "{\n",
            "  \"action\": \"Calculator\",\n",
            "  \"action_input\": \"4/2\"\n",
            "}\n",
            "```\u001b[0m"
          ]
        },
        {
          "output_type": "error",
          "ename": "ResourceExhausted",
          "evalue": "429 Resource has been exhausted (e.g. check quota).",
          "traceback": [
            "\u001b[0;31m---------------------------------------------------------------------------\u001b[0m",
            "\u001b[0;31mResourceExhausted\u001b[0m                         Traceback (most recent call last)",
            "\u001b[0;32m<ipython-input-37-3ea81c73ec0d>\u001b[0m in \u001b[0;36m<cell line: 0>\u001b[0;34m()\u001b[0m\n\u001b[1;32m      1\u001b[0m \u001b[0;31m# invoke agent\u001b[0m\u001b[0;34m\u001b[0m\u001b[0;34m\u001b[0m\u001b[0m\n\u001b[0;32m----> 2\u001b[0;31m agent( \"\"\"I have 3 apples and 4 oranges. I give half of my oranges\n\u001b[0m\u001b[1;32m      3\u001b[0m                \u001b[0maway\u001b[0m \u001b[0;32mand\u001b[0m \u001b[0mbuy\u001b[0m \u001b[0mtwo\u001b[0m \u001b[0mdozen\u001b[0m \u001b[0mnew\u001b[0m \u001b[0mones\u001b[0m\u001b[0;34m,\u001b[0m \u001b[0malongwith\u001b[0m \u001b[0mthree\u001b[0m \u001b[0mpacks\u001b[0m \u001b[0mof\u001b[0m\u001b[0;34m\u001b[0m\u001b[0;34m\u001b[0m\u001b[0m\n\u001b[1;32m      4\u001b[0m                \u001b[0mstrawberries\u001b[0m\u001b[0;34m.\u001b[0m \u001b[0mEach\u001b[0m \u001b[0mpack\u001b[0m \u001b[0mof\u001b[0m \u001b[0mstrawberry\u001b[0m \u001b[0mhas\u001b[0m \u001b[0;36m30\u001b[0m \u001b[0mstrawberries\u001b[0m\u001b[0;34m.\u001b[0m\u001b[0;34m\u001b[0m\u001b[0;34m\u001b[0m\u001b[0m\n\u001b[1;32m      5\u001b[0m                How  many total pieces of fruit do I have at the end?\"\"\")\n",
            "\u001b[0;32m/usr/local/lib/python3.11/dist-packages/langchain_core/_api/deprecation.py\u001b[0m in \u001b[0;36mwarning_emitting_wrapper\u001b[0;34m(*args, **kwargs)\u001b[0m\n\u001b[1;32m    179\u001b[0m                 \u001b[0mwarned\u001b[0m \u001b[0;34m=\u001b[0m \u001b[0;32mTrue\u001b[0m\u001b[0;34m\u001b[0m\u001b[0;34m\u001b[0m\u001b[0m\n\u001b[1;32m    180\u001b[0m                 \u001b[0memit_warning\u001b[0m\u001b[0;34m(\u001b[0m\u001b[0;34m)\u001b[0m\u001b[0;34m\u001b[0m\u001b[0;34m\u001b[0m\u001b[0m\n\u001b[0;32m--> 181\u001b[0;31m             \u001b[0;32mreturn\u001b[0m \u001b[0mwrapped\u001b[0m\u001b[0;34m(\u001b[0m\u001b[0;34m*\u001b[0m\u001b[0margs\u001b[0m\u001b[0;34m,\u001b[0m \u001b[0;34m**\u001b[0m\u001b[0mkwargs\u001b[0m\u001b[0;34m)\u001b[0m\u001b[0;34m\u001b[0m\u001b[0;34m\u001b[0m\u001b[0m\n\u001b[0m\u001b[1;32m    182\u001b[0m \u001b[0;34m\u001b[0m\u001b[0m\n\u001b[1;32m    183\u001b[0m         \u001b[0;32masync\u001b[0m \u001b[0;32mdef\u001b[0m \u001b[0mawarning_emitting_wrapper\u001b[0m\u001b[0;34m(\u001b[0m\u001b[0;34m*\u001b[0m\u001b[0margs\u001b[0m\u001b[0;34m:\u001b[0m \u001b[0mAny\u001b[0m\u001b[0;34m,\u001b[0m \u001b[0;34m**\u001b[0m\u001b[0mkwargs\u001b[0m\u001b[0;34m:\u001b[0m \u001b[0mAny\u001b[0m\u001b[0;34m)\u001b[0m \u001b[0;34m->\u001b[0m \u001b[0mAny\u001b[0m\u001b[0;34m:\u001b[0m\u001b[0;34m\u001b[0m\u001b[0;34m\u001b[0m\u001b[0m\n",
            "\u001b[0;32m/usr/local/lib/python3.11/dist-packages/langchain/chains/base.py\u001b[0m in \u001b[0;36m__call__\u001b[0;34m(self, inputs, return_only_outputs, callbacks, tags, metadata, run_name, include_run_info)\u001b[0m\n\u001b[1;32m    387\u001b[0m         }\n\u001b[1;32m    388\u001b[0m \u001b[0;34m\u001b[0m\u001b[0m\n\u001b[0;32m--> 389\u001b[0;31m         return self.invoke(\n\u001b[0m\u001b[1;32m    390\u001b[0m             \u001b[0minputs\u001b[0m\u001b[0;34m,\u001b[0m\u001b[0;34m\u001b[0m\u001b[0;34m\u001b[0m\u001b[0m\n\u001b[1;32m    391\u001b[0m             \u001b[0mcast\u001b[0m\u001b[0;34m(\u001b[0m\u001b[0mRunnableConfig\u001b[0m\u001b[0;34m,\u001b[0m \u001b[0;34m{\u001b[0m\u001b[0mk\u001b[0m\u001b[0;34m:\u001b[0m \u001b[0mv\u001b[0m \u001b[0;32mfor\u001b[0m \u001b[0mk\u001b[0m\u001b[0;34m,\u001b[0m \u001b[0mv\u001b[0m \u001b[0;32min\u001b[0m \u001b[0mconfig\u001b[0m\u001b[0;34m.\u001b[0m\u001b[0mitems\u001b[0m\u001b[0;34m(\u001b[0m\u001b[0;34m)\u001b[0m \u001b[0;32mif\u001b[0m \u001b[0mv\u001b[0m \u001b[0;32mis\u001b[0m \u001b[0;32mnot\u001b[0m \u001b[0;32mNone\u001b[0m\u001b[0;34m}\u001b[0m\u001b[0;34m)\u001b[0m\u001b[0;34m,\u001b[0m\u001b[0;34m\u001b[0m\u001b[0;34m\u001b[0m\u001b[0m\n",
            "\u001b[0;32m/usr/local/lib/python3.11/dist-packages/langchain/chains/base.py\u001b[0m in \u001b[0;36minvoke\u001b[0;34m(self, input, config, **kwargs)\u001b[0m\n\u001b[1;32m    168\u001b[0m         \u001b[0;32mexcept\u001b[0m \u001b[0mBaseException\u001b[0m \u001b[0;32mas\u001b[0m \u001b[0me\u001b[0m\u001b[0;34m:\u001b[0m\u001b[0;34m\u001b[0m\u001b[0;34m\u001b[0m\u001b[0m\n\u001b[1;32m    169\u001b[0m             \u001b[0mrun_manager\u001b[0m\u001b[0;34m.\u001b[0m\u001b[0mon_chain_error\u001b[0m\u001b[0;34m(\u001b[0m\u001b[0me\u001b[0m\u001b[0;34m)\u001b[0m\u001b[0;34m\u001b[0m\u001b[0;34m\u001b[0m\u001b[0m\n\u001b[0;32m--> 170\u001b[0;31m             \u001b[0;32mraise\u001b[0m \u001b[0me\u001b[0m\u001b[0;34m\u001b[0m\u001b[0;34m\u001b[0m\u001b[0m\n\u001b[0m\u001b[1;32m    171\u001b[0m         \u001b[0mrun_manager\u001b[0m\u001b[0;34m.\u001b[0m\u001b[0mon_chain_end\u001b[0m\u001b[0;34m(\u001b[0m\u001b[0moutputs\u001b[0m\u001b[0;34m)\u001b[0m\u001b[0;34m\u001b[0m\u001b[0;34m\u001b[0m\u001b[0m\n\u001b[1;32m    172\u001b[0m \u001b[0;34m\u001b[0m\u001b[0m\n",
            "\u001b[0;32m/usr/local/lib/python3.11/dist-packages/langchain/chains/base.py\u001b[0m in \u001b[0;36minvoke\u001b[0;34m(self, input, config, **kwargs)\u001b[0m\n\u001b[1;32m    158\u001b[0m             \u001b[0mself\u001b[0m\u001b[0;34m.\u001b[0m\u001b[0m_validate_inputs\u001b[0m\u001b[0;34m(\u001b[0m\u001b[0minputs\u001b[0m\u001b[0;34m)\u001b[0m\u001b[0;34m\u001b[0m\u001b[0;34m\u001b[0m\u001b[0m\n\u001b[1;32m    159\u001b[0m             outputs = (\n\u001b[0;32m--> 160\u001b[0;31m                 \u001b[0mself\u001b[0m\u001b[0;34m.\u001b[0m\u001b[0m_call\u001b[0m\u001b[0;34m(\u001b[0m\u001b[0minputs\u001b[0m\u001b[0;34m,\u001b[0m \u001b[0mrun_manager\u001b[0m\u001b[0;34m=\u001b[0m\u001b[0mrun_manager\u001b[0m\u001b[0;34m)\u001b[0m\u001b[0;34m\u001b[0m\u001b[0;34m\u001b[0m\u001b[0m\n\u001b[0m\u001b[1;32m    161\u001b[0m                 \u001b[0;32mif\u001b[0m \u001b[0mnew_arg_supported\u001b[0m\u001b[0;34m\u001b[0m\u001b[0;34m\u001b[0m\u001b[0m\n\u001b[1;32m    162\u001b[0m                 \u001b[0;32melse\u001b[0m \u001b[0mself\u001b[0m\u001b[0;34m.\u001b[0m\u001b[0m_call\u001b[0m\u001b[0;34m(\u001b[0m\u001b[0minputs\u001b[0m\u001b[0;34m)\u001b[0m\u001b[0;34m\u001b[0m\u001b[0;34m\u001b[0m\u001b[0m\n",
            "\u001b[0;32m/usr/local/lib/python3.11/dist-packages/langchain/agents/agent.py\u001b[0m in \u001b[0;36m_call\u001b[0;34m(self, inputs, run_manager)\u001b[0m\n\u001b[1;32m   1622\u001b[0m         \u001b[0;31m# We now enter the agent loop (until it returns something).\u001b[0m\u001b[0;34m\u001b[0m\u001b[0;34m\u001b[0m\u001b[0m\n\u001b[1;32m   1623\u001b[0m         \u001b[0;32mwhile\u001b[0m \u001b[0mself\u001b[0m\u001b[0;34m.\u001b[0m\u001b[0m_should_continue\u001b[0m\u001b[0;34m(\u001b[0m\u001b[0miterations\u001b[0m\u001b[0;34m,\u001b[0m \u001b[0mtime_elapsed\u001b[0m\u001b[0;34m)\u001b[0m\u001b[0;34m:\u001b[0m\u001b[0;34m\u001b[0m\u001b[0;34m\u001b[0m\u001b[0m\n\u001b[0;32m-> 1624\u001b[0;31m             next_step_output = self._take_next_step(\n\u001b[0m\u001b[1;32m   1625\u001b[0m                 \u001b[0mname_to_tool_map\u001b[0m\u001b[0;34m,\u001b[0m\u001b[0;34m\u001b[0m\u001b[0;34m\u001b[0m\u001b[0m\n\u001b[1;32m   1626\u001b[0m                 \u001b[0mcolor_mapping\u001b[0m\u001b[0;34m,\u001b[0m\u001b[0;34m\u001b[0m\u001b[0;34m\u001b[0m\u001b[0m\n",
            "\u001b[0;32m/usr/local/lib/python3.11/dist-packages/langchain/agents/agent.py\u001b[0m in \u001b[0;36m_take_next_step\u001b[0;34m(self, name_to_tool_map, color_mapping, inputs, intermediate_steps, run_manager)\u001b[0m\n\u001b[1;32m   1328\u001b[0m     ) -> Union[AgentFinish, List[Tuple[AgentAction, str]]]:\n\u001b[1;32m   1329\u001b[0m         return self._consume_next_step(\n\u001b[0;32m-> 1330\u001b[0;31m             [\n\u001b[0m\u001b[1;32m   1331\u001b[0m                 \u001b[0ma\u001b[0m\u001b[0;34m\u001b[0m\u001b[0;34m\u001b[0m\u001b[0m\n\u001b[1;32m   1332\u001b[0m                 for a in self._iter_next_step(\n",
            "\u001b[0;32m/usr/local/lib/python3.11/dist-packages/langchain/agents/agent.py\u001b[0m in \u001b[0;36m<listcomp>\u001b[0;34m(.0)\u001b[0m\n\u001b[1;32m   1328\u001b[0m     ) -> Union[AgentFinish, List[Tuple[AgentAction, str]]]:\n\u001b[1;32m   1329\u001b[0m         return self._consume_next_step(\n\u001b[0;32m-> 1330\u001b[0;31m             [\n\u001b[0m\u001b[1;32m   1331\u001b[0m                 \u001b[0ma\u001b[0m\u001b[0;34m\u001b[0m\u001b[0;34m\u001b[0m\u001b[0m\n\u001b[1;32m   1332\u001b[0m                 for a in self._iter_next_step(\n",
            "\u001b[0;32m/usr/local/lib/python3.11/dist-packages/langchain/agents/agent.py\u001b[0m in \u001b[0;36m_iter_next_step\u001b[0;34m(self, name_to_tool_map, color_mapping, inputs, intermediate_steps, run_manager)\u001b[0m\n\u001b[1;32m   1413\u001b[0m             \u001b[0;32myield\u001b[0m \u001b[0magent_action\u001b[0m\u001b[0;34m\u001b[0m\u001b[0;34m\u001b[0m\u001b[0m\n\u001b[1;32m   1414\u001b[0m         \u001b[0;32mfor\u001b[0m \u001b[0magent_action\u001b[0m \u001b[0;32min\u001b[0m \u001b[0mactions\u001b[0m\u001b[0;34m:\u001b[0m\u001b[0;34m\u001b[0m\u001b[0;34m\u001b[0m\u001b[0m\n\u001b[0;32m-> 1415\u001b[0;31m             yield self._perform_agent_action(\n\u001b[0m\u001b[1;32m   1416\u001b[0m                 \u001b[0mname_to_tool_map\u001b[0m\u001b[0;34m,\u001b[0m \u001b[0mcolor_mapping\u001b[0m\u001b[0;34m,\u001b[0m \u001b[0magent_action\u001b[0m\u001b[0;34m,\u001b[0m \u001b[0mrun_manager\u001b[0m\u001b[0;34m\u001b[0m\u001b[0;34m\u001b[0m\u001b[0m\n\u001b[1;32m   1417\u001b[0m             )\n",
            "\u001b[0;32m/usr/local/lib/python3.11/dist-packages/langchain/agents/agent.py\u001b[0m in \u001b[0;36m_perform_agent_action\u001b[0;34m(self, name_to_tool_map, color_mapping, agent_action, run_manager)\u001b[0m\n\u001b[1;32m   1435\u001b[0m                 \u001b[0mtool_run_kwargs\u001b[0m\u001b[0;34m[\u001b[0m\u001b[0;34m\"llm_prefix\"\u001b[0m\u001b[0;34m]\u001b[0m \u001b[0;34m=\u001b[0m \u001b[0;34m\"\"\u001b[0m\u001b[0;34m\u001b[0m\u001b[0;34m\u001b[0m\u001b[0m\n\u001b[1;32m   1436\u001b[0m             \u001b[0;31m# We then call the tool on the tool input to get an observation\u001b[0m\u001b[0;34m\u001b[0m\u001b[0;34m\u001b[0m\u001b[0m\n\u001b[0;32m-> 1437\u001b[0;31m             observation = tool.run(\n\u001b[0m\u001b[1;32m   1438\u001b[0m                 \u001b[0magent_action\u001b[0m\u001b[0;34m.\u001b[0m\u001b[0mtool_input\u001b[0m\u001b[0;34m,\u001b[0m\u001b[0;34m\u001b[0m\u001b[0;34m\u001b[0m\u001b[0m\n\u001b[1;32m   1439\u001b[0m                 \u001b[0mverbose\u001b[0m\u001b[0;34m=\u001b[0m\u001b[0mself\u001b[0m\u001b[0;34m.\u001b[0m\u001b[0mverbose\u001b[0m\u001b[0;34m,\u001b[0m\u001b[0;34m\u001b[0m\u001b[0;34m\u001b[0m\u001b[0m\n",
            "\u001b[0;32m/usr/local/lib/python3.11/dist-packages/langchain_core/tools/base.py\u001b[0m in \u001b[0;36mrun\u001b[0;34m(self, tool_input, verbose, start_color, color, callbacks, tags, metadata, run_name, run_id, config, tool_call_id, **kwargs)\u001b[0m\n\u001b[1;32m    761\u001b[0m         \u001b[0;32mif\u001b[0m \u001b[0merror_to_raise\u001b[0m\u001b[0;34m:\u001b[0m\u001b[0;34m\u001b[0m\u001b[0;34m\u001b[0m\u001b[0m\n\u001b[1;32m    762\u001b[0m             \u001b[0mrun_manager\u001b[0m\u001b[0;34m.\u001b[0m\u001b[0mon_tool_error\u001b[0m\u001b[0;34m(\u001b[0m\u001b[0merror_to_raise\u001b[0m\u001b[0;34m)\u001b[0m\u001b[0;34m\u001b[0m\u001b[0;34m\u001b[0m\u001b[0m\n\u001b[0;32m--> 763\u001b[0;31m             \u001b[0;32mraise\u001b[0m \u001b[0merror_to_raise\u001b[0m\u001b[0;34m\u001b[0m\u001b[0;34m\u001b[0m\u001b[0m\n\u001b[0m\u001b[1;32m    764\u001b[0m         \u001b[0moutput\u001b[0m \u001b[0;34m=\u001b[0m \u001b[0m_format_output\u001b[0m\u001b[0;34m(\u001b[0m\u001b[0mcontent\u001b[0m\u001b[0;34m,\u001b[0m \u001b[0martifact\u001b[0m\u001b[0;34m,\u001b[0m \u001b[0mtool_call_id\u001b[0m\u001b[0;34m,\u001b[0m \u001b[0mself\u001b[0m\u001b[0;34m.\u001b[0m\u001b[0mname\u001b[0m\u001b[0;34m,\u001b[0m \u001b[0mstatus\u001b[0m\u001b[0;34m)\u001b[0m\u001b[0;34m\u001b[0m\u001b[0;34m\u001b[0m\u001b[0m\n\u001b[1;32m    765\u001b[0m         \u001b[0mrun_manager\u001b[0m\u001b[0;34m.\u001b[0m\u001b[0mon_tool_end\u001b[0m\u001b[0;34m(\u001b[0m\u001b[0moutput\u001b[0m\u001b[0;34m,\u001b[0m \u001b[0mcolor\u001b[0m\u001b[0;34m=\u001b[0m\u001b[0mcolor\u001b[0m\u001b[0;34m,\u001b[0m \u001b[0mname\u001b[0m\u001b[0;34m=\u001b[0m\u001b[0mself\u001b[0m\u001b[0;34m.\u001b[0m\u001b[0mname\u001b[0m\u001b[0;34m,\u001b[0m \u001b[0;34m**\u001b[0m\u001b[0mkwargs\u001b[0m\u001b[0;34m)\u001b[0m\u001b[0;34m\u001b[0m\u001b[0;34m\u001b[0m\u001b[0m\n",
            "\u001b[0;32m/usr/local/lib/python3.11/dist-packages/langchain_core/tools/base.py\u001b[0m in \u001b[0;36mrun\u001b[0;34m(self, tool_input, verbose, start_color, color, callbacks, tags, metadata, run_name, run_id, config, tool_call_id, **kwargs)\u001b[0m\n\u001b[1;32m    730\u001b[0m             \u001b[0;32mif\u001b[0m \u001b[0mconfig_param\u001b[0m \u001b[0;34m:=\u001b[0m \u001b[0m_get_runnable_config_param\u001b[0m\u001b[0;34m(\u001b[0m\u001b[0mself\u001b[0m\u001b[0;34m.\u001b[0m\u001b[0m_run\u001b[0m\u001b[0;34m)\u001b[0m\u001b[0;34m:\u001b[0m\u001b[0;34m\u001b[0m\u001b[0;34m\u001b[0m\u001b[0m\n\u001b[1;32m    731\u001b[0m                 \u001b[0mtool_kwargs\u001b[0m \u001b[0;34m=\u001b[0m \u001b[0mtool_kwargs\u001b[0m \u001b[0;34m|\u001b[0m \u001b[0;34m{\u001b[0m\u001b[0mconfig_param\u001b[0m\u001b[0;34m:\u001b[0m \u001b[0mconfig\u001b[0m\u001b[0;34m}\u001b[0m\u001b[0;34m\u001b[0m\u001b[0;34m\u001b[0m\u001b[0m\n\u001b[0;32m--> 732\u001b[0;31m             \u001b[0mresponse\u001b[0m \u001b[0;34m=\u001b[0m \u001b[0mcontext\u001b[0m\u001b[0;34m.\u001b[0m\u001b[0mrun\u001b[0m\u001b[0;34m(\u001b[0m\u001b[0mself\u001b[0m\u001b[0;34m.\u001b[0m\u001b[0m_run\u001b[0m\u001b[0;34m,\u001b[0m \u001b[0;34m*\u001b[0m\u001b[0mtool_args\u001b[0m\u001b[0;34m,\u001b[0m \u001b[0;34m**\u001b[0m\u001b[0mtool_kwargs\u001b[0m\u001b[0;34m)\u001b[0m\u001b[0;34m\u001b[0m\u001b[0;34m\u001b[0m\u001b[0m\n\u001b[0m\u001b[1;32m    733\u001b[0m             \u001b[0;32mif\u001b[0m \u001b[0mself\u001b[0m\u001b[0;34m.\u001b[0m\u001b[0mresponse_format\u001b[0m \u001b[0;34m==\u001b[0m \u001b[0;34m\"content_and_artifact\"\u001b[0m\u001b[0;34m:\u001b[0m\u001b[0;34m\u001b[0m\u001b[0;34m\u001b[0m\u001b[0m\n\u001b[1;32m    734\u001b[0m                 \u001b[0;32mif\u001b[0m \u001b[0;32mnot\u001b[0m \u001b[0misinstance\u001b[0m\u001b[0;34m(\u001b[0m\u001b[0mresponse\u001b[0m\u001b[0;34m,\u001b[0m \u001b[0mtuple\u001b[0m\u001b[0;34m)\u001b[0m \u001b[0;32mor\u001b[0m \u001b[0mlen\u001b[0m\u001b[0;34m(\u001b[0m\u001b[0mresponse\u001b[0m\u001b[0;34m)\u001b[0m \u001b[0;34m!=\u001b[0m \u001b[0;36m2\u001b[0m\u001b[0;34m:\u001b[0m\u001b[0;34m\u001b[0m\u001b[0;34m\u001b[0m\u001b[0m\n",
            "\u001b[0;32m/usr/local/lib/python3.11/dist-packages/langchain_core/tools/simple.py\u001b[0m in \u001b[0;36m_run\u001b[0;34m(self, config, run_manager, *args, **kwargs)\u001b[0m\n\u001b[1;32m     98\u001b[0m             \u001b[0;32mif\u001b[0m \u001b[0mconfig_param\u001b[0m \u001b[0;34m:=\u001b[0m \u001b[0m_get_runnable_config_param\u001b[0m\u001b[0;34m(\u001b[0m\u001b[0mself\u001b[0m\u001b[0;34m.\u001b[0m\u001b[0mfunc\u001b[0m\u001b[0;34m)\u001b[0m\u001b[0;34m:\u001b[0m\u001b[0;34m\u001b[0m\u001b[0;34m\u001b[0m\u001b[0m\n\u001b[1;32m     99\u001b[0m                 \u001b[0mkwargs\u001b[0m\u001b[0;34m[\u001b[0m\u001b[0mconfig_param\u001b[0m\u001b[0;34m]\u001b[0m \u001b[0;34m=\u001b[0m \u001b[0mconfig\u001b[0m\u001b[0;34m\u001b[0m\u001b[0;34m\u001b[0m\u001b[0m\n\u001b[0;32m--> 100\u001b[0;31m             \u001b[0;32mreturn\u001b[0m \u001b[0mself\u001b[0m\u001b[0;34m.\u001b[0m\u001b[0mfunc\u001b[0m\u001b[0;34m(\u001b[0m\u001b[0;34m*\u001b[0m\u001b[0margs\u001b[0m\u001b[0;34m,\u001b[0m \u001b[0;34m**\u001b[0m\u001b[0mkwargs\u001b[0m\u001b[0;34m)\u001b[0m\u001b[0;34m\u001b[0m\u001b[0;34m\u001b[0m\u001b[0m\n\u001b[0m\u001b[1;32m    101\u001b[0m         \u001b[0mmsg\u001b[0m \u001b[0;34m=\u001b[0m \u001b[0;34m\"Tool does not support sync invocation.\"\u001b[0m\u001b[0;34m\u001b[0m\u001b[0;34m\u001b[0m\u001b[0m\n\u001b[1;32m    102\u001b[0m         \u001b[0;32mraise\u001b[0m \u001b[0mNotImplementedError\u001b[0m\u001b[0;34m(\u001b[0m\u001b[0mmsg\u001b[0m\u001b[0;34m)\u001b[0m\u001b[0;34m\u001b[0m\u001b[0;34m\u001b[0m\u001b[0m\n",
            "\u001b[0;32m/usr/local/lib/python3.11/dist-packages/langchain_core/_api/deprecation.py\u001b[0m in \u001b[0;36mwarning_emitting_wrapper\u001b[0;34m(*args, **kwargs)\u001b[0m\n\u001b[1;32m    179\u001b[0m                 \u001b[0mwarned\u001b[0m \u001b[0;34m=\u001b[0m \u001b[0;32mTrue\u001b[0m\u001b[0;34m\u001b[0m\u001b[0;34m\u001b[0m\u001b[0m\n\u001b[1;32m    180\u001b[0m                 \u001b[0memit_warning\u001b[0m\u001b[0;34m(\u001b[0m\u001b[0;34m)\u001b[0m\u001b[0;34m\u001b[0m\u001b[0;34m\u001b[0m\u001b[0m\n\u001b[0;32m--> 181\u001b[0;31m             \u001b[0;32mreturn\u001b[0m \u001b[0mwrapped\u001b[0m\u001b[0;34m(\u001b[0m\u001b[0;34m*\u001b[0m\u001b[0margs\u001b[0m\u001b[0;34m,\u001b[0m \u001b[0;34m**\u001b[0m\u001b[0mkwargs\u001b[0m\u001b[0;34m)\u001b[0m\u001b[0;34m\u001b[0m\u001b[0;34m\u001b[0m\u001b[0m\n\u001b[0m\u001b[1;32m    182\u001b[0m \u001b[0;34m\u001b[0m\u001b[0m\n\u001b[1;32m    183\u001b[0m         \u001b[0;32masync\u001b[0m \u001b[0;32mdef\u001b[0m \u001b[0mawarning_emitting_wrapper\u001b[0m\u001b[0;34m(\u001b[0m\u001b[0;34m*\u001b[0m\u001b[0margs\u001b[0m\u001b[0;34m:\u001b[0m \u001b[0mAny\u001b[0m\u001b[0;34m,\u001b[0m \u001b[0;34m**\u001b[0m\u001b[0mkwargs\u001b[0m\u001b[0;34m:\u001b[0m \u001b[0mAny\u001b[0m\u001b[0;34m)\u001b[0m \u001b[0;34m->\u001b[0m \u001b[0mAny\u001b[0m\u001b[0;34m:\u001b[0m\u001b[0;34m\u001b[0m\u001b[0;34m\u001b[0m\u001b[0m\n",
            "\u001b[0;32m/usr/local/lib/python3.11/dist-packages/langchain/chains/base.py\u001b[0m in \u001b[0;36mrun\u001b[0;34m(self, callbacks, tags, metadata, *args, **kwargs)\u001b[0m\n\u001b[1;32m    604\u001b[0m             \u001b[0;32mif\u001b[0m \u001b[0mlen\u001b[0m\u001b[0;34m(\u001b[0m\u001b[0margs\u001b[0m\u001b[0;34m)\u001b[0m \u001b[0;34m!=\u001b[0m \u001b[0;36m1\u001b[0m\u001b[0;34m:\u001b[0m\u001b[0;34m\u001b[0m\u001b[0;34m\u001b[0m\u001b[0m\n\u001b[1;32m    605\u001b[0m                 \u001b[0;32mraise\u001b[0m \u001b[0mValueError\u001b[0m\u001b[0;34m(\u001b[0m\u001b[0;34m\"`run` supports only one positional argument.\"\u001b[0m\u001b[0;34m)\u001b[0m\u001b[0;34m\u001b[0m\u001b[0;34m\u001b[0m\u001b[0m\n\u001b[0;32m--> 606\u001b[0;31m             return self(args[0], callbacks=callbacks, tags=tags, metadata=metadata)[\n\u001b[0m\u001b[1;32m    607\u001b[0m                 \u001b[0m_output_key\u001b[0m\u001b[0;34m\u001b[0m\u001b[0;34m\u001b[0m\u001b[0m\n\u001b[1;32m    608\u001b[0m             ]\n",
            "\u001b[0;32m/usr/local/lib/python3.11/dist-packages/langchain_core/_api/deprecation.py\u001b[0m in \u001b[0;36mwarning_emitting_wrapper\u001b[0;34m(*args, **kwargs)\u001b[0m\n\u001b[1;32m    179\u001b[0m                 \u001b[0mwarned\u001b[0m \u001b[0;34m=\u001b[0m \u001b[0;32mTrue\u001b[0m\u001b[0;34m\u001b[0m\u001b[0;34m\u001b[0m\u001b[0m\n\u001b[1;32m    180\u001b[0m                 \u001b[0memit_warning\u001b[0m\u001b[0;34m(\u001b[0m\u001b[0;34m)\u001b[0m\u001b[0;34m\u001b[0m\u001b[0;34m\u001b[0m\u001b[0m\n\u001b[0;32m--> 181\u001b[0;31m             \u001b[0;32mreturn\u001b[0m \u001b[0mwrapped\u001b[0m\u001b[0;34m(\u001b[0m\u001b[0;34m*\u001b[0m\u001b[0margs\u001b[0m\u001b[0;34m,\u001b[0m \u001b[0;34m**\u001b[0m\u001b[0mkwargs\u001b[0m\u001b[0;34m)\u001b[0m\u001b[0;34m\u001b[0m\u001b[0;34m\u001b[0m\u001b[0m\n\u001b[0m\u001b[1;32m    182\u001b[0m \u001b[0;34m\u001b[0m\u001b[0m\n\u001b[1;32m    183\u001b[0m         \u001b[0;32masync\u001b[0m \u001b[0;32mdef\u001b[0m \u001b[0mawarning_emitting_wrapper\u001b[0m\u001b[0;34m(\u001b[0m\u001b[0;34m*\u001b[0m\u001b[0margs\u001b[0m\u001b[0;34m:\u001b[0m \u001b[0mAny\u001b[0m\u001b[0;34m,\u001b[0m \u001b[0;34m**\u001b[0m\u001b[0mkwargs\u001b[0m\u001b[0;34m:\u001b[0m \u001b[0mAny\u001b[0m\u001b[0;34m)\u001b[0m \u001b[0;34m->\u001b[0m \u001b[0mAny\u001b[0m\u001b[0;34m:\u001b[0m\u001b[0;34m\u001b[0m\u001b[0;34m\u001b[0m\u001b[0m\n",
            "\u001b[0;32m/usr/local/lib/python3.11/dist-packages/langchain/chains/base.py\u001b[0m in \u001b[0;36m__call__\u001b[0;34m(self, inputs, return_only_outputs, callbacks, tags, metadata, run_name, include_run_info)\u001b[0m\n\u001b[1;32m    387\u001b[0m         }\n\u001b[1;32m    388\u001b[0m \u001b[0;34m\u001b[0m\u001b[0m\n\u001b[0;32m--> 389\u001b[0;31m         return self.invoke(\n\u001b[0m\u001b[1;32m    390\u001b[0m             \u001b[0minputs\u001b[0m\u001b[0;34m,\u001b[0m\u001b[0;34m\u001b[0m\u001b[0;34m\u001b[0m\u001b[0m\n\u001b[1;32m    391\u001b[0m             \u001b[0mcast\u001b[0m\u001b[0;34m(\u001b[0m\u001b[0mRunnableConfig\u001b[0m\u001b[0;34m,\u001b[0m \u001b[0;34m{\u001b[0m\u001b[0mk\u001b[0m\u001b[0;34m:\u001b[0m \u001b[0mv\u001b[0m \u001b[0;32mfor\u001b[0m \u001b[0mk\u001b[0m\u001b[0;34m,\u001b[0m \u001b[0mv\u001b[0m \u001b[0;32min\u001b[0m \u001b[0mconfig\u001b[0m\u001b[0;34m.\u001b[0m\u001b[0mitems\u001b[0m\u001b[0;34m(\u001b[0m\u001b[0;34m)\u001b[0m \u001b[0;32mif\u001b[0m \u001b[0mv\u001b[0m \u001b[0;32mis\u001b[0m \u001b[0;32mnot\u001b[0m \u001b[0;32mNone\u001b[0m\u001b[0;34m}\u001b[0m\u001b[0;34m)\u001b[0m\u001b[0;34m,\u001b[0m\u001b[0;34m\u001b[0m\u001b[0;34m\u001b[0m\u001b[0m\n",
            "\u001b[0;32m/usr/local/lib/python3.11/dist-packages/langchain/chains/base.py\u001b[0m in \u001b[0;36minvoke\u001b[0;34m(self, input, config, **kwargs)\u001b[0m\n\u001b[1;32m    168\u001b[0m         \u001b[0;32mexcept\u001b[0m \u001b[0mBaseException\u001b[0m \u001b[0;32mas\u001b[0m \u001b[0me\u001b[0m\u001b[0;34m:\u001b[0m\u001b[0;34m\u001b[0m\u001b[0;34m\u001b[0m\u001b[0m\n\u001b[1;32m    169\u001b[0m             \u001b[0mrun_manager\u001b[0m\u001b[0;34m.\u001b[0m\u001b[0mon_chain_error\u001b[0m\u001b[0;34m(\u001b[0m\u001b[0me\u001b[0m\u001b[0;34m)\u001b[0m\u001b[0;34m\u001b[0m\u001b[0;34m\u001b[0m\u001b[0m\n\u001b[0;32m--> 170\u001b[0;31m             \u001b[0;32mraise\u001b[0m \u001b[0me\u001b[0m\u001b[0;34m\u001b[0m\u001b[0;34m\u001b[0m\u001b[0m\n\u001b[0m\u001b[1;32m    171\u001b[0m         \u001b[0mrun_manager\u001b[0m\u001b[0;34m.\u001b[0m\u001b[0mon_chain_end\u001b[0m\u001b[0;34m(\u001b[0m\u001b[0moutputs\u001b[0m\u001b[0;34m)\u001b[0m\u001b[0;34m\u001b[0m\u001b[0;34m\u001b[0m\u001b[0m\n\u001b[1;32m    172\u001b[0m \u001b[0;34m\u001b[0m\u001b[0m\n",
            "\u001b[0;32m/usr/local/lib/python3.11/dist-packages/langchain/chains/base.py\u001b[0m in \u001b[0;36minvoke\u001b[0;34m(self, input, config, **kwargs)\u001b[0m\n\u001b[1;32m    158\u001b[0m             \u001b[0mself\u001b[0m\u001b[0;34m.\u001b[0m\u001b[0m_validate_inputs\u001b[0m\u001b[0;34m(\u001b[0m\u001b[0minputs\u001b[0m\u001b[0;34m)\u001b[0m\u001b[0;34m\u001b[0m\u001b[0;34m\u001b[0m\u001b[0m\n\u001b[1;32m    159\u001b[0m             outputs = (\n\u001b[0;32m--> 160\u001b[0;31m                 \u001b[0mself\u001b[0m\u001b[0;34m.\u001b[0m\u001b[0m_call\u001b[0m\u001b[0;34m(\u001b[0m\u001b[0minputs\u001b[0m\u001b[0;34m,\u001b[0m \u001b[0mrun_manager\u001b[0m\u001b[0;34m=\u001b[0m\u001b[0mrun_manager\u001b[0m\u001b[0;34m)\u001b[0m\u001b[0;34m\u001b[0m\u001b[0;34m\u001b[0m\u001b[0m\n\u001b[0m\u001b[1;32m    161\u001b[0m                 \u001b[0;32mif\u001b[0m \u001b[0mnew_arg_supported\u001b[0m\u001b[0;34m\u001b[0m\u001b[0;34m\u001b[0m\u001b[0m\n\u001b[1;32m    162\u001b[0m                 \u001b[0;32melse\u001b[0m \u001b[0mself\u001b[0m\u001b[0;34m.\u001b[0m\u001b[0m_call\u001b[0m\u001b[0;34m(\u001b[0m\u001b[0minputs\u001b[0m\u001b[0;34m)\u001b[0m\u001b[0;34m\u001b[0m\u001b[0;34m\u001b[0m\u001b[0m\n",
            "\u001b[0;32m/usr/local/lib/python3.11/dist-packages/langchain/chains/llm_math/base.py\u001b[0m in \u001b[0;36m_call\u001b[0;34m(self, inputs, run_manager)\u001b[0m\n\u001b[1;32m    269\u001b[0m         \u001b[0m_run_manager\u001b[0m \u001b[0;34m=\u001b[0m \u001b[0mrun_manager\u001b[0m \u001b[0;32mor\u001b[0m \u001b[0mCallbackManagerForChainRun\u001b[0m\u001b[0;34m.\u001b[0m\u001b[0mget_noop_manager\u001b[0m\u001b[0;34m(\u001b[0m\u001b[0;34m)\u001b[0m\u001b[0;34m\u001b[0m\u001b[0;34m\u001b[0m\u001b[0m\n\u001b[1;32m    270\u001b[0m         \u001b[0m_run_manager\u001b[0m\u001b[0;34m.\u001b[0m\u001b[0mon_text\u001b[0m\u001b[0;34m(\u001b[0m\u001b[0minputs\u001b[0m\u001b[0;34m[\u001b[0m\u001b[0mself\u001b[0m\u001b[0;34m.\u001b[0m\u001b[0minput_key\u001b[0m\u001b[0;34m]\u001b[0m\u001b[0;34m)\u001b[0m\u001b[0;34m\u001b[0m\u001b[0;34m\u001b[0m\u001b[0m\n\u001b[0;32m--> 271\u001b[0;31m         llm_output = self.llm_chain.predict(\n\u001b[0m\u001b[1;32m    272\u001b[0m             \u001b[0mquestion\u001b[0m\u001b[0;34m=\u001b[0m\u001b[0minputs\u001b[0m\u001b[0;34m[\u001b[0m\u001b[0mself\u001b[0m\u001b[0;34m.\u001b[0m\u001b[0minput_key\u001b[0m\u001b[0;34m]\u001b[0m\u001b[0;34m,\u001b[0m\u001b[0;34m\u001b[0m\u001b[0;34m\u001b[0m\u001b[0m\n\u001b[1;32m    273\u001b[0m             \u001b[0mstop\u001b[0m\u001b[0;34m=\u001b[0m\u001b[0;34m[\u001b[0m\u001b[0;34m\"```output\"\u001b[0m\u001b[0;34m]\u001b[0m\u001b[0;34m,\u001b[0m\u001b[0;34m\u001b[0m\u001b[0;34m\u001b[0m\u001b[0m\n",
            "\u001b[0;32m/usr/local/lib/python3.11/dist-packages/langchain/chains/llm.py\u001b[0m in \u001b[0;36mpredict\u001b[0;34m(self, callbacks, **kwargs)\u001b[0m\n\u001b[1;32m    316\u001b[0m                 \u001b[0mcompletion\u001b[0m \u001b[0;34m=\u001b[0m \u001b[0mllm\u001b[0m\u001b[0;34m.\u001b[0m\u001b[0mpredict\u001b[0m\u001b[0;34m(\u001b[0m\u001b[0madjective\u001b[0m\u001b[0;34m=\u001b[0m\u001b[0;34m\"funny\"\u001b[0m\u001b[0;34m)\u001b[0m\u001b[0;34m\u001b[0m\u001b[0;34m\u001b[0m\u001b[0m\n\u001b[1;32m    317\u001b[0m         \"\"\"\n\u001b[0;32m--> 318\u001b[0;31m         \u001b[0;32mreturn\u001b[0m \u001b[0mself\u001b[0m\u001b[0;34m(\u001b[0m\u001b[0mkwargs\u001b[0m\u001b[0;34m,\u001b[0m \u001b[0mcallbacks\u001b[0m\u001b[0;34m=\u001b[0m\u001b[0mcallbacks\u001b[0m\u001b[0;34m)\u001b[0m\u001b[0;34m[\u001b[0m\u001b[0mself\u001b[0m\u001b[0;34m.\u001b[0m\u001b[0moutput_key\u001b[0m\u001b[0;34m]\u001b[0m\u001b[0;34m\u001b[0m\u001b[0;34m\u001b[0m\u001b[0m\n\u001b[0m\u001b[1;32m    319\u001b[0m \u001b[0;34m\u001b[0m\u001b[0m\n\u001b[1;32m    320\u001b[0m     \u001b[0;32masync\u001b[0m \u001b[0;32mdef\u001b[0m \u001b[0mapredict\u001b[0m\u001b[0;34m(\u001b[0m\u001b[0mself\u001b[0m\u001b[0;34m,\u001b[0m \u001b[0mcallbacks\u001b[0m\u001b[0;34m:\u001b[0m \u001b[0mCallbacks\u001b[0m \u001b[0;34m=\u001b[0m \u001b[0;32mNone\u001b[0m\u001b[0;34m,\u001b[0m \u001b[0;34m**\u001b[0m\u001b[0mkwargs\u001b[0m\u001b[0;34m:\u001b[0m \u001b[0mAny\u001b[0m\u001b[0;34m)\u001b[0m \u001b[0;34m->\u001b[0m \u001b[0mstr\u001b[0m\u001b[0;34m:\u001b[0m\u001b[0;34m\u001b[0m\u001b[0;34m\u001b[0m\u001b[0m\n",
            "\u001b[0;32m/usr/local/lib/python3.11/dist-packages/langchain_core/_api/deprecation.py\u001b[0m in \u001b[0;36mwarning_emitting_wrapper\u001b[0;34m(*args, **kwargs)\u001b[0m\n\u001b[1;32m    179\u001b[0m                 \u001b[0mwarned\u001b[0m \u001b[0;34m=\u001b[0m \u001b[0;32mTrue\u001b[0m\u001b[0;34m\u001b[0m\u001b[0;34m\u001b[0m\u001b[0m\n\u001b[1;32m    180\u001b[0m                 \u001b[0memit_warning\u001b[0m\u001b[0;34m(\u001b[0m\u001b[0;34m)\u001b[0m\u001b[0;34m\u001b[0m\u001b[0;34m\u001b[0m\u001b[0m\n\u001b[0;32m--> 181\u001b[0;31m             \u001b[0;32mreturn\u001b[0m \u001b[0mwrapped\u001b[0m\u001b[0;34m(\u001b[0m\u001b[0;34m*\u001b[0m\u001b[0margs\u001b[0m\u001b[0;34m,\u001b[0m \u001b[0;34m**\u001b[0m\u001b[0mkwargs\u001b[0m\u001b[0;34m)\u001b[0m\u001b[0;34m\u001b[0m\u001b[0;34m\u001b[0m\u001b[0m\n\u001b[0m\u001b[1;32m    182\u001b[0m \u001b[0;34m\u001b[0m\u001b[0m\n\u001b[1;32m    183\u001b[0m         \u001b[0;32masync\u001b[0m \u001b[0;32mdef\u001b[0m \u001b[0mawarning_emitting_wrapper\u001b[0m\u001b[0;34m(\u001b[0m\u001b[0;34m*\u001b[0m\u001b[0margs\u001b[0m\u001b[0;34m:\u001b[0m \u001b[0mAny\u001b[0m\u001b[0;34m,\u001b[0m \u001b[0;34m**\u001b[0m\u001b[0mkwargs\u001b[0m\u001b[0;34m:\u001b[0m \u001b[0mAny\u001b[0m\u001b[0;34m)\u001b[0m \u001b[0;34m->\u001b[0m \u001b[0mAny\u001b[0m\u001b[0;34m:\u001b[0m\u001b[0;34m\u001b[0m\u001b[0;34m\u001b[0m\u001b[0m\n",
            "\u001b[0;32m/usr/local/lib/python3.11/dist-packages/langchain/chains/base.py\u001b[0m in \u001b[0;36m__call__\u001b[0;34m(self, inputs, return_only_outputs, callbacks, tags, metadata, run_name, include_run_info)\u001b[0m\n\u001b[1;32m    387\u001b[0m         }\n\u001b[1;32m    388\u001b[0m \u001b[0;34m\u001b[0m\u001b[0m\n\u001b[0;32m--> 389\u001b[0;31m         return self.invoke(\n\u001b[0m\u001b[1;32m    390\u001b[0m             \u001b[0minputs\u001b[0m\u001b[0;34m,\u001b[0m\u001b[0;34m\u001b[0m\u001b[0;34m\u001b[0m\u001b[0m\n\u001b[1;32m    391\u001b[0m             \u001b[0mcast\u001b[0m\u001b[0;34m(\u001b[0m\u001b[0mRunnableConfig\u001b[0m\u001b[0;34m,\u001b[0m \u001b[0;34m{\u001b[0m\u001b[0mk\u001b[0m\u001b[0;34m:\u001b[0m \u001b[0mv\u001b[0m \u001b[0;32mfor\u001b[0m \u001b[0mk\u001b[0m\u001b[0;34m,\u001b[0m \u001b[0mv\u001b[0m \u001b[0;32min\u001b[0m \u001b[0mconfig\u001b[0m\u001b[0;34m.\u001b[0m\u001b[0mitems\u001b[0m\u001b[0;34m(\u001b[0m\u001b[0;34m)\u001b[0m \u001b[0;32mif\u001b[0m \u001b[0mv\u001b[0m \u001b[0;32mis\u001b[0m \u001b[0;32mnot\u001b[0m \u001b[0;32mNone\u001b[0m\u001b[0;34m}\u001b[0m\u001b[0;34m)\u001b[0m\u001b[0;34m,\u001b[0m\u001b[0;34m\u001b[0m\u001b[0;34m\u001b[0m\u001b[0m\n",
            "\u001b[0;32m/usr/local/lib/python3.11/dist-packages/langchain/chains/base.py\u001b[0m in \u001b[0;36minvoke\u001b[0;34m(self, input, config, **kwargs)\u001b[0m\n\u001b[1;32m    168\u001b[0m         \u001b[0;32mexcept\u001b[0m \u001b[0mBaseException\u001b[0m \u001b[0;32mas\u001b[0m \u001b[0me\u001b[0m\u001b[0;34m:\u001b[0m\u001b[0;34m\u001b[0m\u001b[0;34m\u001b[0m\u001b[0m\n\u001b[1;32m    169\u001b[0m             \u001b[0mrun_manager\u001b[0m\u001b[0;34m.\u001b[0m\u001b[0mon_chain_error\u001b[0m\u001b[0;34m(\u001b[0m\u001b[0me\u001b[0m\u001b[0;34m)\u001b[0m\u001b[0;34m\u001b[0m\u001b[0;34m\u001b[0m\u001b[0m\n\u001b[0;32m--> 170\u001b[0;31m             \u001b[0;32mraise\u001b[0m \u001b[0me\u001b[0m\u001b[0;34m\u001b[0m\u001b[0;34m\u001b[0m\u001b[0m\n\u001b[0m\u001b[1;32m    171\u001b[0m         \u001b[0mrun_manager\u001b[0m\u001b[0;34m.\u001b[0m\u001b[0mon_chain_end\u001b[0m\u001b[0;34m(\u001b[0m\u001b[0moutputs\u001b[0m\u001b[0;34m)\u001b[0m\u001b[0;34m\u001b[0m\u001b[0;34m\u001b[0m\u001b[0m\n\u001b[1;32m    172\u001b[0m \u001b[0;34m\u001b[0m\u001b[0m\n",
            "\u001b[0;32m/usr/local/lib/python3.11/dist-packages/langchain/chains/base.py\u001b[0m in \u001b[0;36minvoke\u001b[0;34m(self, input, config, **kwargs)\u001b[0m\n\u001b[1;32m    158\u001b[0m             \u001b[0mself\u001b[0m\u001b[0;34m.\u001b[0m\u001b[0m_validate_inputs\u001b[0m\u001b[0;34m(\u001b[0m\u001b[0minputs\u001b[0m\u001b[0;34m)\u001b[0m\u001b[0;34m\u001b[0m\u001b[0;34m\u001b[0m\u001b[0m\n\u001b[1;32m    159\u001b[0m             outputs = (\n\u001b[0;32m--> 160\u001b[0;31m                 \u001b[0mself\u001b[0m\u001b[0;34m.\u001b[0m\u001b[0m_call\u001b[0m\u001b[0;34m(\u001b[0m\u001b[0minputs\u001b[0m\u001b[0;34m,\u001b[0m \u001b[0mrun_manager\u001b[0m\u001b[0;34m=\u001b[0m\u001b[0mrun_manager\u001b[0m\u001b[0;34m)\u001b[0m\u001b[0;34m\u001b[0m\u001b[0;34m\u001b[0m\u001b[0m\n\u001b[0m\u001b[1;32m    161\u001b[0m                 \u001b[0;32mif\u001b[0m \u001b[0mnew_arg_supported\u001b[0m\u001b[0;34m\u001b[0m\u001b[0;34m\u001b[0m\u001b[0m\n\u001b[1;32m    162\u001b[0m                 \u001b[0;32melse\u001b[0m \u001b[0mself\u001b[0m\u001b[0;34m.\u001b[0m\u001b[0m_call\u001b[0m\u001b[0;34m(\u001b[0m\u001b[0minputs\u001b[0m\u001b[0;34m)\u001b[0m\u001b[0;34m\u001b[0m\u001b[0;34m\u001b[0m\u001b[0m\n",
            "\u001b[0;32m/usr/local/lib/python3.11/dist-packages/langchain/chains/llm.py\u001b[0m in \u001b[0;36m_call\u001b[0;34m(self, inputs, run_manager)\u001b[0m\n\u001b[1;32m    124\u001b[0m         \u001b[0mrun_manager\u001b[0m\u001b[0;34m:\u001b[0m \u001b[0mOptional\u001b[0m\u001b[0;34m[\u001b[0m\u001b[0mCallbackManagerForChainRun\u001b[0m\u001b[0;34m]\u001b[0m \u001b[0;34m=\u001b[0m \u001b[0;32mNone\u001b[0m\u001b[0;34m,\u001b[0m\u001b[0;34m\u001b[0m\u001b[0;34m\u001b[0m\u001b[0m\n\u001b[1;32m    125\u001b[0m     ) -> Dict[str, str]:\n\u001b[0;32m--> 126\u001b[0;31m         \u001b[0mresponse\u001b[0m \u001b[0;34m=\u001b[0m \u001b[0mself\u001b[0m\u001b[0;34m.\u001b[0m\u001b[0mgenerate\u001b[0m\u001b[0;34m(\u001b[0m\u001b[0;34m[\u001b[0m\u001b[0minputs\u001b[0m\u001b[0;34m]\u001b[0m\u001b[0;34m,\u001b[0m \u001b[0mrun_manager\u001b[0m\u001b[0;34m=\u001b[0m\u001b[0mrun_manager\u001b[0m\u001b[0;34m)\u001b[0m\u001b[0;34m\u001b[0m\u001b[0;34m\u001b[0m\u001b[0m\n\u001b[0m\u001b[1;32m    127\u001b[0m         \u001b[0;32mreturn\u001b[0m \u001b[0mself\u001b[0m\u001b[0;34m.\u001b[0m\u001b[0mcreate_outputs\u001b[0m\u001b[0;34m(\u001b[0m\u001b[0mresponse\u001b[0m\u001b[0;34m)\u001b[0m\u001b[0;34m[\u001b[0m\u001b[0;36m0\u001b[0m\u001b[0;34m]\u001b[0m\u001b[0;34m\u001b[0m\u001b[0;34m\u001b[0m\u001b[0m\n\u001b[1;32m    128\u001b[0m \u001b[0;34m\u001b[0m\u001b[0m\n",
            "\u001b[0;32m/usr/local/lib/python3.11/dist-packages/langchain/chains/llm.py\u001b[0m in \u001b[0;36mgenerate\u001b[0;34m(self, input_list, run_manager)\u001b[0m\n\u001b[1;32m    136\u001b[0m         \u001b[0mcallbacks\u001b[0m \u001b[0;34m=\u001b[0m \u001b[0mrun_manager\u001b[0m\u001b[0;34m.\u001b[0m\u001b[0mget_child\u001b[0m\u001b[0;34m(\u001b[0m\u001b[0;34m)\u001b[0m \u001b[0;32mif\u001b[0m \u001b[0mrun_manager\u001b[0m \u001b[0;32melse\u001b[0m \u001b[0;32mNone\u001b[0m\u001b[0;34m\u001b[0m\u001b[0;34m\u001b[0m\u001b[0m\n\u001b[1;32m    137\u001b[0m         \u001b[0;32mif\u001b[0m \u001b[0misinstance\u001b[0m\u001b[0;34m(\u001b[0m\u001b[0mself\u001b[0m\u001b[0;34m.\u001b[0m\u001b[0mllm\u001b[0m\u001b[0;34m,\u001b[0m \u001b[0mBaseLanguageModel\u001b[0m\u001b[0;34m)\u001b[0m\u001b[0;34m:\u001b[0m\u001b[0;34m\u001b[0m\u001b[0;34m\u001b[0m\u001b[0m\n\u001b[0;32m--> 138\u001b[0;31m             return self.llm.generate_prompt(\n\u001b[0m\u001b[1;32m    139\u001b[0m                 \u001b[0mprompts\u001b[0m\u001b[0;34m,\u001b[0m\u001b[0;34m\u001b[0m\u001b[0;34m\u001b[0m\u001b[0m\n\u001b[1;32m    140\u001b[0m                 \u001b[0mstop\u001b[0m\u001b[0;34m,\u001b[0m\u001b[0;34m\u001b[0m\u001b[0;34m\u001b[0m\u001b[0m\n",
            "\u001b[0;32m/usr/local/lib/python3.11/dist-packages/langchain_core/language_models/chat_models.py\u001b[0m in \u001b[0;36mgenerate_prompt\u001b[0;34m(self, prompts, stop, callbacks, **kwargs)\u001b[0m\n\u001b[1;32m    841\u001b[0m     ) -> LLMResult:\n\u001b[1;32m    842\u001b[0m         \u001b[0mprompt_messages\u001b[0m \u001b[0;34m=\u001b[0m \u001b[0;34m[\u001b[0m\u001b[0mp\u001b[0m\u001b[0;34m.\u001b[0m\u001b[0mto_messages\u001b[0m\u001b[0;34m(\u001b[0m\u001b[0;34m)\u001b[0m \u001b[0;32mfor\u001b[0m \u001b[0mp\u001b[0m \u001b[0;32min\u001b[0m \u001b[0mprompts\u001b[0m\u001b[0;34m]\u001b[0m\u001b[0;34m\u001b[0m\u001b[0;34m\u001b[0m\u001b[0m\n\u001b[0;32m--> 843\u001b[0;31m         \u001b[0;32mreturn\u001b[0m \u001b[0mself\u001b[0m\u001b[0;34m.\u001b[0m\u001b[0mgenerate\u001b[0m\u001b[0;34m(\u001b[0m\u001b[0mprompt_messages\u001b[0m\u001b[0;34m,\u001b[0m \u001b[0mstop\u001b[0m\u001b[0;34m=\u001b[0m\u001b[0mstop\u001b[0m\u001b[0;34m,\u001b[0m \u001b[0mcallbacks\u001b[0m\u001b[0;34m=\u001b[0m\u001b[0mcallbacks\u001b[0m\u001b[0;34m,\u001b[0m \u001b[0;34m**\u001b[0m\u001b[0mkwargs\u001b[0m\u001b[0;34m)\u001b[0m\u001b[0;34m\u001b[0m\u001b[0;34m\u001b[0m\u001b[0m\n\u001b[0m\u001b[1;32m    844\u001b[0m \u001b[0;34m\u001b[0m\u001b[0m\n\u001b[1;32m    845\u001b[0m     async def agenerate_prompt(\n",
            "\u001b[0;32m/usr/local/lib/python3.11/dist-packages/langchain_core/language_models/chat_models.py\u001b[0m in \u001b[0;36mgenerate\u001b[0;34m(self, messages, stop, callbacks, tags, metadata, run_name, run_id, **kwargs)\u001b[0m\n\u001b[1;32m    681\u001b[0m             \u001b[0;32mtry\u001b[0m\u001b[0;34m:\u001b[0m\u001b[0;34m\u001b[0m\u001b[0;34m\u001b[0m\u001b[0m\n\u001b[1;32m    682\u001b[0m                 results.append(\n\u001b[0;32m--> 683\u001b[0;31m                     self._generate_with_cache(\n\u001b[0m\u001b[1;32m    684\u001b[0m                         \u001b[0mm\u001b[0m\u001b[0;34m,\u001b[0m\u001b[0;34m\u001b[0m\u001b[0;34m\u001b[0m\u001b[0m\n\u001b[1;32m    685\u001b[0m                         \u001b[0mstop\u001b[0m\u001b[0;34m=\u001b[0m\u001b[0mstop\u001b[0m\u001b[0;34m,\u001b[0m\u001b[0;34m\u001b[0m\u001b[0;34m\u001b[0m\u001b[0m\n",
            "\u001b[0;32m/usr/local/lib/python3.11/dist-packages/langchain_core/language_models/chat_models.py\u001b[0m in \u001b[0;36m_generate_with_cache\u001b[0;34m(self, messages, stop, run_manager, **kwargs)\u001b[0m\n\u001b[1;32m    906\u001b[0m         \u001b[0;32melse\u001b[0m\u001b[0;34m:\u001b[0m\u001b[0;34m\u001b[0m\u001b[0;34m\u001b[0m\u001b[0m\n\u001b[1;32m    907\u001b[0m             \u001b[0;32mif\u001b[0m \u001b[0minspect\u001b[0m\u001b[0;34m.\u001b[0m\u001b[0msignature\u001b[0m\u001b[0;34m(\u001b[0m\u001b[0mself\u001b[0m\u001b[0;34m.\u001b[0m\u001b[0m_generate\u001b[0m\u001b[0;34m)\u001b[0m\u001b[0;34m.\u001b[0m\u001b[0mparameters\u001b[0m\u001b[0;34m.\u001b[0m\u001b[0mget\u001b[0m\u001b[0;34m(\u001b[0m\u001b[0;34m\"run_manager\"\u001b[0m\u001b[0;34m)\u001b[0m\u001b[0;34m:\u001b[0m\u001b[0;34m\u001b[0m\u001b[0;34m\u001b[0m\u001b[0m\n\u001b[0;32m--> 908\u001b[0;31m                 result = self._generate(\n\u001b[0m\u001b[1;32m    909\u001b[0m                     \u001b[0mmessages\u001b[0m\u001b[0;34m,\u001b[0m \u001b[0mstop\u001b[0m\u001b[0;34m=\u001b[0m\u001b[0mstop\u001b[0m\u001b[0;34m,\u001b[0m \u001b[0mrun_manager\u001b[0m\u001b[0;34m=\u001b[0m\u001b[0mrun_manager\u001b[0m\u001b[0;34m,\u001b[0m \u001b[0;34m**\u001b[0m\u001b[0mkwargs\u001b[0m\u001b[0;34m\u001b[0m\u001b[0;34m\u001b[0m\u001b[0m\n\u001b[1;32m    910\u001b[0m                 )\n",
            "\u001b[0;32m/usr/local/lib/python3.11/dist-packages/langchain_google_genai/chat_models.py\u001b[0m in \u001b[0;36m_generate\u001b[0;34m(self, messages, stop, run_manager, tools, functions, safety_settings, tool_config, generation_config, cached_content, tool_choice, **kwargs)\u001b[0m\n\u001b[1;32m    959\u001b[0m             \u001b[0mtool_choice\u001b[0m\u001b[0;34m=\u001b[0m\u001b[0mtool_choice\u001b[0m\u001b[0;34m,\u001b[0m\u001b[0;34m\u001b[0m\u001b[0;34m\u001b[0m\u001b[0m\n\u001b[1;32m    960\u001b[0m         )\n\u001b[0;32m--> 961\u001b[0;31m         response: GenerateContentResponse = _chat_with_retry(\n\u001b[0m\u001b[1;32m    962\u001b[0m             \u001b[0mrequest\u001b[0m\u001b[0;34m=\u001b[0m\u001b[0mrequest\u001b[0m\u001b[0;34m,\u001b[0m\u001b[0;34m\u001b[0m\u001b[0;34m\u001b[0m\u001b[0m\n\u001b[1;32m    963\u001b[0m             \u001b[0;34m**\u001b[0m\u001b[0mkwargs\u001b[0m\u001b[0;34m,\u001b[0m\u001b[0;34m\u001b[0m\u001b[0;34m\u001b[0m\u001b[0m\n",
            "\u001b[0;32m/usr/local/lib/python3.11/dist-packages/langchain_google_genai/chat_models.py\u001b[0m in \u001b[0;36m_chat_with_retry\u001b[0;34m(generation_method, **kwargs)\u001b[0m\n\u001b[1;32m    194\u001b[0m             \u001b[0;32mraise\u001b[0m \u001b[0me\u001b[0m\u001b[0;34m\u001b[0m\u001b[0;34m\u001b[0m\u001b[0m\n\u001b[1;32m    195\u001b[0m \u001b[0;34m\u001b[0m\u001b[0m\n\u001b[0;32m--> 196\u001b[0;31m     \u001b[0;32mreturn\u001b[0m \u001b[0m_chat_with_retry\u001b[0m\u001b[0;34m(\u001b[0m\u001b[0;34m**\u001b[0m\u001b[0mkwargs\u001b[0m\u001b[0;34m)\u001b[0m\u001b[0;34m\u001b[0m\u001b[0;34m\u001b[0m\u001b[0m\n\u001b[0m\u001b[1;32m    197\u001b[0m \u001b[0;34m\u001b[0m\u001b[0m\n\u001b[1;32m    198\u001b[0m \u001b[0;34m\u001b[0m\u001b[0m\n",
            "\u001b[0;32m/usr/local/lib/python3.11/dist-packages/tenacity/__init__.py\u001b[0m in \u001b[0;36mwrapped_f\u001b[0;34m(*args, **kw)\u001b[0m\n\u001b[1;32m    334\u001b[0m             \u001b[0mcopy\u001b[0m \u001b[0;34m=\u001b[0m \u001b[0mself\u001b[0m\u001b[0;34m.\u001b[0m\u001b[0mcopy\u001b[0m\u001b[0;34m(\u001b[0m\u001b[0;34m)\u001b[0m\u001b[0;34m\u001b[0m\u001b[0;34m\u001b[0m\u001b[0m\n\u001b[1;32m    335\u001b[0m             \u001b[0mwrapped_f\u001b[0m\u001b[0;34m.\u001b[0m\u001b[0mstatistics\u001b[0m \u001b[0;34m=\u001b[0m \u001b[0mcopy\u001b[0m\u001b[0;34m.\u001b[0m\u001b[0mstatistics\u001b[0m  \u001b[0;31m# type: ignore[attr-defined]\u001b[0m\u001b[0;34m\u001b[0m\u001b[0;34m\u001b[0m\u001b[0m\n\u001b[0;32m--> 336\u001b[0;31m             \u001b[0;32mreturn\u001b[0m \u001b[0mcopy\u001b[0m\u001b[0;34m(\u001b[0m\u001b[0mf\u001b[0m\u001b[0;34m,\u001b[0m \u001b[0;34m*\u001b[0m\u001b[0margs\u001b[0m\u001b[0;34m,\u001b[0m \u001b[0;34m**\u001b[0m\u001b[0mkw\u001b[0m\u001b[0;34m)\u001b[0m\u001b[0;34m\u001b[0m\u001b[0;34m\u001b[0m\u001b[0m\n\u001b[0m\u001b[1;32m    337\u001b[0m \u001b[0;34m\u001b[0m\u001b[0m\n\u001b[1;32m    338\u001b[0m         \u001b[0;32mdef\u001b[0m \u001b[0mretry_with\u001b[0m\u001b[0;34m(\u001b[0m\u001b[0;34m*\u001b[0m\u001b[0margs\u001b[0m\u001b[0;34m:\u001b[0m \u001b[0mt\u001b[0m\u001b[0;34m.\u001b[0m\u001b[0mAny\u001b[0m\u001b[0;34m,\u001b[0m \u001b[0;34m**\u001b[0m\u001b[0mkwargs\u001b[0m\u001b[0;34m:\u001b[0m \u001b[0mt\u001b[0m\u001b[0;34m.\u001b[0m\u001b[0mAny\u001b[0m\u001b[0;34m)\u001b[0m \u001b[0;34m->\u001b[0m \u001b[0mWrappedFn\u001b[0m\u001b[0;34m:\u001b[0m\u001b[0;34m\u001b[0m\u001b[0;34m\u001b[0m\u001b[0m\n",
            "\u001b[0;32m/usr/local/lib/python3.11/dist-packages/tenacity/__init__.py\u001b[0m in \u001b[0;36m__call__\u001b[0;34m(self, fn, *args, **kwargs)\u001b[0m\n\u001b[1;32m    473\u001b[0m         \u001b[0mretry_state\u001b[0m \u001b[0;34m=\u001b[0m \u001b[0mRetryCallState\u001b[0m\u001b[0;34m(\u001b[0m\u001b[0mretry_object\u001b[0m\u001b[0;34m=\u001b[0m\u001b[0mself\u001b[0m\u001b[0;34m,\u001b[0m \u001b[0mfn\u001b[0m\u001b[0;34m=\u001b[0m\u001b[0mfn\u001b[0m\u001b[0;34m,\u001b[0m \u001b[0margs\u001b[0m\u001b[0;34m=\u001b[0m\u001b[0margs\u001b[0m\u001b[0;34m,\u001b[0m \u001b[0mkwargs\u001b[0m\u001b[0;34m=\u001b[0m\u001b[0mkwargs\u001b[0m\u001b[0;34m)\u001b[0m\u001b[0;34m\u001b[0m\u001b[0;34m\u001b[0m\u001b[0m\n\u001b[1;32m    474\u001b[0m         \u001b[0;32mwhile\u001b[0m \u001b[0;32mTrue\u001b[0m\u001b[0;34m:\u001b[0m\u001b[0;34m\u001b[0m\u001b[0;34m\u001b[0m\u001b[0m\n\u001b[0;32m--> 475\u001b[0;31m             \u001b[0mdo\u001b[0m \u001b[0;34m=\u001b[0m \u001b[0mself\u001b[0m\u001b[0;34m.\u001b[0m\u001b[0miter\u001b[0m\u001b[0;34m(\u001b[0m\u001b[0mretry_state\u001b[0m\u001b[0;34m=\u001b[0m\u001b[0mretry_state\u001b[0m\u001b[0;34m)\u001b[0m\u001b[0;34m\u001b[0m\u001b[0;34m\u001b[0m\u001b[0m\n\u001b[0m\u001b[1;32m    476\u001b[0m             \u001b[0;32mif\u001b[0m \u001b[0misinstance\u001b[0m\u001b[0;34m(\u001b[0m\u001b[0mdo\u001b[0m\u001b[0;34m,\u001b[0m \u001b[0mDoAttempt\u001b[0m\u001b[0;34m)\u001b[0m\u001b[0;34m:\u001b[0m\u001b[0;34m\u001b[0m\u001b[0;34m\u001b[0m\u001b[0m\n\u001b[1;32m    477\u001b[0m                 \u001b[0;32mtry\u001b[0m\u001b[0;34m:\u001b[0m\u001b[0;34m\u001b[0m\u001b[0;34m\u001b[0m\u001b[0m\n",
            "\u001b[0;32m/usr/local/lib/python3.11/dist-packages/tenacity/__init__.py\u001b[0m in \u001b[0;36miter\u001b[0;34m(self, retry_state)\u001b[0m\n\u001b[1;32m    374\u001b[0m         \u001b[0mresult\u001b[0m \u001b[0;34m=\u001b[0m \u001b[0;32mNone\u001b[0m\u001b[0;34m\u001b[0m\u001b[0;34m\u001b[0m\u001b[0m\n\u001b[1;32m    375\u001b[0m         \u001b[0;32mfor\u001b[0m \u001b[0maction\u001b[0m \u001b[0;32min\u001b[0m \u001b[0mself\u001b[0m\u001b[0;34m.\u001b[0m\u001b[0miter_state\u001b[0m\u001b[0;34m.\u001b[0m\u001b[0mactions\u001b[0m\u001b[0;34m:\u001b[0m\u001b[0;34m\u001b[0m\u001b[0;34m\u001b[0m\u001b[0m\n\u001b[0;32m--> 376\u001b[0;31m             \u001b[0mresult\u001b[0m \u001b[0;34m=\u001b[0m \u001b[0maction\u001b[0m\u001b[0;34m(\u001b[0m\u001b[0mretry_state\u001b[0m\u001b[0;34m)\u001b[0m\u001b[0;34m\u001b[0m\u001b[0;34m\u001b[0m\u001b[0m\n\u001b[0m\u001b[1;32m    377\u001b[0m         \u001b[0;32mreturn\u001b[0m \u001b[0mresult\u001b[0m\u001b[0;34m\u001b[0m\u001b[0;34m\u001b[0m\u001b[0m\n\u001b[1;32m    378\u001b[0m \u001b[0;34m\u001b[0m\u001b[0m\n",
            "\u001b[0;32m/usr/local/lib/python3.11/dist-packages/tenacity/__init__.py\u001b[0m in \u001b[0;36mexc_check\u001b[0;34m(rs)\u001b[0m\n\u001b[1;32m    416\u001b[0m                 \u001b[0mretry_exc\u001b[0m \u001b[0;34m=\u001b[0m \u001b[0mself\u001b[0m\u001b[0;34m.\u001b[0m\u001b[0mretry_error_cls\u001b[0m\u001b[0;34m(\u001b[0m\u001b[0mfut\u001b[0m\u001b[0;34m)\u001b[0m\u001b[0;34m\u001b[0m\u001b[0;34m\u001b[0m\u001b[0m\n\u001b[1;32m    417\u001b[0m                 \u001b[0;32mif\u001b[0m \u001b[0mself\u001b[0m\u001b[0;34m.\u001b[0m\u001b[0mreraise\u001b[0m\u001b[0;34m:\u001b[0m\u001b[0;34m\u001b[0m\u001b[0;34m\u001b[0m\u001b[0m\n\u001b[0;32m--> 418\u001b[0;31m                     \u001b[0;32mraise\u001b[0m \u001b[0mretry_exc\u001b[0m\u001b[0;34m.\u001b[0m\u001b[0mreraise\u001b[0m\u001b[0;34m(\u001b[0m\u001b[0;34m)\u001b[0m\u001b[0;34m\u001b[0m\u001b[0;34m\u001b[0m\u001b[0m\n\u001b[0m\u001b[1;32m    419\u001b[0m                 \u001b[0;32mraise\u001b[0m \u001b[0mretry_exc\u001b[0m \u001b[0;32mfrom\u001b[0m \u001b[0mfut\u001b[0m\u001b[0;34m.\u001b[0m\u001b[0mexception\u001b[0m\u001b[0;34m(\u001b[0m\u001b[0;34m)\u001b[0m\u001b[0;34m\u001b[0m\u001b[0;34m\u001b[0m\u001b[0m\n\u001b[1;32m    420\u001b[0m \u001b[0;34m\u001b[0m\u001b[0m\n",
            "\u001b[0;32m/usr/local/lib/python3.11/dist-packages/tenacity/__init__.py\u001b[0m in \u001b[0;36mreraise\u001b[0;34m(self)\u001b[0m\n\u001b[1;32m    183\u001b[0m     \u001b[0;32mdef\u001b[0m \u001b[0mreraise\u001b[0m\u001b[0;34m(\u001b[0m\u001b[0mself\u001b[0m\u001b[0;34m)\u001b[0m \u001b[0;34m->\u001b[0m \u001b[0mt\u001b[0m\u001b[0;34m.\u001b[0m\u001b[0mNoReturn\u001b[0m\u001b[0;34m:\u001b[0m\u001b[0;34m\u001b[0m\u001b[0;34m\u001b[0m\u001b[0m\n\u001b[1;32m    184\u001b[0m         \u001b[0;32mif\u001b[0m \u001b[0mself\u001b[0m\u001b[0;34m.\u001b[0m\u001b[0mlast_attempt\u001b[0m\u001b[0;34m.\u001b[0m\u001b[0mfailed\u001b[0m\u001b[0;34m:\u001b[0m\u001b[0;34m\u001b[0m\u001b[0;34m\u001b[0m\u001b[0m\n\u001b[0;32m--> 185\u001b[0;31m             \u001b[0;32mraise\u001b[0m \u001b[0mself\u001b[0m\u001b[0;34m.\u001b[0m\u001b[0mlast_attempt\u001b[0m\u001b[0;34m.\u001b[0m\u001b[0mresult\u001b[0m\u001b[0;34m(\u001b[0m\u001b[0;34m)\u001b[0m\u001b[0;34m\u001b[0m\u001b[0;34m\u001b[0m\u001b[0m\n\u001b[0m\u001b[1;32m    186\u001b[0m         \u001b[0;32mraise\u001b[0m \u001b[0mself\u001b[0m\u001b[0;34m\u001b[0m\u001b[0;34m\u001b[0m\u001b[0m\n\u001b[1;32m    187\u001b[0m \u001b[0;34m\u001b[0m\u001b[0m\n",
            "\u001b[0;32m/usr/lib/python3.11/concurrent/futures/_base.py\u001b[0m in \u001b[0;36mresult\u001b[0;34m(self, timeout)\u001b[0m\n\u001b[1;32m    447\u001b[0m                     \u001b[0;32mraise\u001b[0m \u001b[0mCancelledError\u001b[0m\u001b[0;34m(\u001b[0m\u001b[0;34m)\u001b[0m\u001b[0;34m\u001b[0m\u001b[0;34m\u001b[0m\u001b[0m\n\u001b[1;32m    448\u001b[0m                 \u001b[0;32melif\u001b[0m \u001b[0mself\u001b[0m\u001b[0;34m.\u001b[0m\u001b[0m_state\u001b[0m \u001b[0;34m==\u001b[0m \u001b[0mFINISHED\u001b[0m\u001b[0;34m:\u001b[0m\u001b[0;34m\u001b[0m\u001b[0;34m\u001b[0m\u001b[0m\n\u001b[0;32m--> 449\u001b[0;31m                     \u001b[0;32mreturn\u001b[0m \u001b[0mself\u001b[0m\u001b[0;34m.\u001b[0m\u001b[0m__get_result\u001b[0m\u001b[0;34m(\u001b[0m\u001b[0;34m)\u001b[0m\u001b[0;34m\u001b[0m\u001b[0;34m\u001b[0m\u001b[0m\n\u001b[0m\u001b[1;32m    450\u001b[0m \u001b[0;34m\u001b[0m\u001b[0m\n\u001b[1;32m    451\u001b[0m                 \u001b[0mself\u001b[0m\u001b[0;34m.\u001b[0m\u001b[0m_condition\u001b[0m\u001b[0;34m.\u001b[0m\u001b[0mwait\u001b[0m\u001b[0;34m(\u001b[0m\u001b[0mtimeout\u001b[0m\u001b[0;34m)\u001b[0m\u001b[0;34m\u001b[0m\u001b[0;34m\u001b[0m\u001b[0m\n",
            "\u001b[0;32m/usr/lib/python3.11/concurrent/futures/_base.py\u001b[0m in \u001b[0;36m__get_result\u001b[0;34m(self)\u001b[0m\n\u001b[1;32m    399\u001b[0m         \u001b[0;32mif\u001b[0m \u001b[0mself\u001b[0m\u001b[0;34m.\u001b[0m\u001b[0m_exception\u001b[0m\u001b[0;34m:\u001b[0m\u001b[0;34m\u001b[0m\u001b[0;34m\u001b[0m\u001b[0m\n\u001b[1;32m    400\u001b[0m             \u001b[0;32mtry\u001b[0m\u001b[0;34m:\u001b[0m\u001b[0;34m\u001b[0m\u001b[0;34m\u001b[0m\u001b[0m\n\u001b[0;32m--> 401\u001b[0;31m                 \u001b[0;32mraise\u001b[0m \u001b[0mself\u001b[0m\u001b[0;34m.\u001b[0m\u001b[0m_exception\u001b[0m\u001b[0;34m\u001b[0m\u001b[0;34m\u001b[0m\u001b[0m\n\u001b[0m\u001b[1;32m    402\u001b[0m             \u001b[0;32mfinally\u001b[0m\u001b[0;34m:\u001b[0m\u001b[0;34m\u001b[0m\u001b[0;34m\u001b[0m\u001b[0m\n\u001b[1;32m    403\u001b[0m                 \u001b[0;31m# Break a reference cycle with the exception in self._exception\u001b[0m\u001b[0;34m\u001b[0m\u001b[0;34m\u001b[0m\u001b[0m\n",
            "\u001b[0;32m/usr/local/lib/python3.11/dist-packages/tenacity/__init__.py\u001b[0m in \u001b[0;36m__call__\u001b[0;34m(self, fn, *args, **kwargs)\u001b[0m\n\u001b[1;32m    476\u001b[0m             \u001b[0;32mif\u001b[0m \u001b[0misinstance\u001b[0m\u001b[0;34m(\u001b[0m\u001b[0mdo\u001b[0m\u001b[0;34m,\u001b[0m \u001b[0mDoAttempt\u001b[0m\u001b[0;34m)\u001b[0m\u001b[0;34m:\u001b[0m\u001b[0;34m\u001b[0m\u001b[0;34m\u001b[0m\u001b[0m\n\u001b[1;32m    477\u001b[0m                 \u001b[0;32mtry\u001b[0m\u001b[0;34m:\u001b[0m\u001b[0;34m\u001b[0m\u001b[0;34m\u001b[0m\u001b[0m\n\u001b[0;32m--> 478\u001b[0;31m                     \u001b[0mresult\u001b[0m \u001b[0;34m=\u001b[0m \u001b[0mfn\u001b[0m\u001b[0;34m(\u001b[0m\u001b[0;34m*\u001b[0m\u001b[0margs\u001b[0m\u001b[0;34m,\u001b[0m \u001b[0;34m**\u001b[0m\u001b[0mkwargs\u001b[0m\u001b[0;34m)\u001b[0m\u001b[0;34m\u001b[0m\u001b[0;34m\u001b[0m\u001b[0m\n\u001b[0m\u001b[1;32m    479\u001b[0m                 \u001b[0;32mexcept\u001b[0m \u001b[0mBaseException\u001b[0m\u001b[0;34m:\u001b[0m  \u001b[0;31m# noqa: B902\u001b[0m\u001b[0;34m\u001b[0m\u001b[0;34m\u001b[0m\u001b[0m\n\u001b[1;32m    480\u001b[0m                     \u001b[0mretry_state\u001b[0m\u001b[0;34m.\u001b[0m\u001b[0mset_exception\u001b[0m\u001b[0;34m(\u001b[0m\u001b[0msys\u001b[0m\u001b[0;34m.\u001b[0m\u001b[0mexc_info\u001b[0m\u001b[0;34m(\u001b[0m\u001b[0;34m)\u001b[0m\u001b[0;34m)\u001b[0m  \u001b[0;31m# type: ignore[arg-type]\u001b[0m\u001b[0;34m\u001b[0m\u001b[0;34m\u001b[0m\u001b[0m\n",
            "\u001b[0;32m/usr/local/lib/python3.11/dist-packages/langchain_google_genai/chat_models.py\u001b[0m in \u001b[0;36m_chat_with_retry\u001b[0;34m(**kwargs)\u001b[0m\n\u001b[1;32m    192\u001b[0m             ) from e\n\u001b[1;32m    193\u001b[0m         \u001b[0;32mexcept\u001b[0m \u001b[0mException\u001b[0m \u001b[0;32mas\u001b[0m \u001b[0me\u001b[0m\u001b[0;34m:\u001b[0m\u001b[0;34m\u001b[0m\u001b[0;34m\u001b[0m\u001b[0m\n\u001b[0;32m--> 194\u001b[0;31m             \u001b[0;32mraise\u001b[0m \u001b[0me\u001b[0m\u001b[0;34m\u001b[0m\u001b[0;34m\u001b[0m\u001b[0m\n\u001b[0m\u001b[1;32m    195\u001b[0m \u001b[0;34m\u001b[0m\u001b[0m\n\u001b[1;32m    196\u001b[0m     \u001b[0;32mreturn\u001b[0m \u001b[0m_chat_with_retry\u001b[0m\u001b[0;34m(\u001b[0m\u001b[0;34m**\u001b[0m\u001b[0mkwargs\u001b[0m\u001b[0;34m)\u001b[0m\u001b[0;34m\u001b[0m\u001b[0;34m\u001b[0m\u001b[0m\n",
            "\u001b[0;32m/usr/local/lib/python3.11/dist-packages/langchain_google_genai/chat_models.py\u001b[0m in \u001b[0;36m_chat_with_retry\u001b[0;34m(**kwargs)\u001b[0m\n\u001b[1;32m    176\u001b[0m     \u001b[0;32mdef\u001b[0m \u001b[0m_chat_with_retry\u001b[0m\u001b[0;34m(\u001b[0m\u001b[0;34m**\u001b[0m\u001b[0mkwargs\u001b[0m\u001b[0;34m:\u001b[0m \u001b[0mAny\u001b[0m\u001b[0;34m)\u001b[0m \u001b[0;34m->\u001b[0m \u001b[0mAny\u001b[0m\u001b[0;34m:\u001b[0m\u001b[0;34m\u001b[0m\u001b[0;34m\u001b[0m\u001b[0m\n\u001b[1;32m    177\u001b[0m         \u001b[0;32mtry\u001b[0m\u001b[0;34m:\u001b[0m\u001b[0;34m\u001b[0m\u001b[0;34m\u001b[0m\u001b[0m\n\u001b[0;32m--> 178\u001b[0;31m             \u001b[0;32mreturn\u001b[0m \u001b[0mgeneration_method\u001b[0m\u001b[0;34m(\u001b[0m\u001b[0;34m**\u001b[0m\u001b[0mkwargs\u001b[0m\u001b[0;34m)\u001b[0m\u001b[0;34m\u001b[0m\u001b[0;34m\u001b[0m\u001b[0m\n\u001b[0m\u001b[1;32m    179\u001b[0m         \u001b[0;31m# Do not retry for these errors.\u001b[0m\u001b[0;34m\u001b[0m\u001b[0;34m\u001b[0m\u001b[0m\n\u001b[1;32m    180\u001b[0m         \u001b[0;32mexcept\u001b[0m \u001b[0mgoogle\u001b[0m\u001b[0;34m.\u001b[0m\u001b[0mapi_core\u001b[0m\u001b[0;34m.\u001b[0m\u001b[0mexceptions\u001b[0m\u001b[0;34m.\u001b[0m\u001b[0mFailedPrecondition\u001b[0m \u001b[0;32mas\u001b[0m \u001b[0mexc\u001b[0m\u001b[0;34m:\u001b[0m\u001b[0;34m\u001b[0m\u001b[0;34m\u001b[0m\u001b[0m\n",
            "\u001b[0;32m/usr/local/lib/python3.11/dist-packages/google/ai/generativelanguage_v1beta/services/generative_service/client.py\u001b[0m in \u001b[0;36mgenerate_content\u001b[0;34m(self, request, model, contents, retry, timeout, metadata)\u001b[0m\n\u001b[1;32m    833\u001b[0m \u001b[0;34m\u001b[0m\u001b[0m\n\u001b[1;32m    834\u001b[0m         \u001b[0;31m# Send the request.\u001b[0m\u001b[0;34m\u001b[0m\u001b[0;34m\u001b[0m\u001b[0m\n\u001b[0;32m--> 835\u001b[0;31m         response = rpc(\n\u001b[0m\u001b[1;32m    836\u001b[0m             \u001b[0mrequest\u001b[0m\u001b[0;34m,\u001b[0m\u001b[0;34m\u001b[0m\u001b[0;34m\u001b[0m\u001b[0m\n\u001b[1;32m    837\u001b[0m             \u001b[0mretry\u001b[0m\u001b[0;34m=\u001b[0m\u001b[0mretry\u001b[0m\u001b[0;34m,\u001b[0m\u001b[0;34m\u001b[0m\u001b[0;34m\u001b[0m\u001b[0m\n",
            "\u001b[0;32m/usr/local/lib/python3.11/dist-packages/google/api_core/gapic_v1/method.py\u001b[0m in \u001b[0;36m__call__\u001b[0;34m(self, timeout, retry, compression, *args, **kwargs)\u001b[0m\n\u001b[1;32m    129\u001b[0m             \u001b[0mkwargs\u001b[0m\u001b[0;34m[\u001b[0m\u001b[0;34m\"compression\"\u001b[0m\u001b[0;34m]\u001b[0m \u001b[0;34m=\u001b[0m \u001b[0mcompression\u001b[0m\u001b[0;34m\u001b[0m\u001b[0;34m\u001b[0m\u001b[0m\n\u001b[1;32m    130\u001b[0m \u001b[0;34m\u001b[0m\u001b[0m\n\u001b[0;32m--> 131\u001b[0;31m         \u001b[0;32mreturn\u001b[0m \u001b[0mwrapped_func\u001b[0m\u001b[0;34m(\u001b[0m\u001b[0;34m*\u001b[0m\u001b[0margs\u001b[0m\u001b[0;34m,\u001b[0m \u001b[0;34m**\u001b[0m\u001b[0mkwargs\u001b[0m\u001b[0;34m)\u001b[0m\u001b[0;34m\u001b[0m\u001b[0;34m\u001b[0m\u001b[0m\n\u001b[0m\u001b[1;32m    132\u001b[0m \u001b[0;34m\u001b[0m\u001b[0m\n\u001b[1;32m    133\u001b[0m \u001b[0;34m\u001b[0m\u001b[0m\n",
            "\u001b[0;32m/usr/local/lib/python3.11/dist-packages/google/api_core/retry/retry_unary.py\u001b[0m in \u001b[0;36mretry_wrapped_func\u001b[0;34m(*args, **kwargs)\u001b[0m\n\u001b[1;32m    291\u001b[0m                 \u001b[0mself\u001b[0m\u001b[0;34m.\u001b[0m\u001b[0m_initial\u001b[0m\u001b[0;34m,\u001b[0m \u001b[0mself\u001b[0m\u001b[0;34m.\u001b[0m\u001b[0m_maximum\u001b[0m\u001b[0;34m,\u001b[0m \u001b[0mmultiplier\u001b[0m\u001b[0;34m=\u001b[0m\u001b[0mself\u001b[0m\u001b[0;34m.\u001b[0m\u001b[0m_multiplier\u001b[0m\u001b[0;34m\u001b[0m\u001b[0;34m\u001b[0m\u001b[0m\n\u001b[1;32m    292\u001b[0m             )\n\u001b[0;32m--> 293\u001b[0;31m             return retry_target(\n\u001b[0m\u001b[1;32m    294\u001b[0m                 \u001b[0mtarget\u001b[0m\u001b[0;34m,\u001b[0m\u001b[0;34m\u001b[0m\u001b[0;34m\u001b[0m\u001b[0m\n\u001b[1;32m    295\u001b[0m                 \u001b[0mself\u001b[0m\u001b[0;34m.\u001b[0m\u001b[0m_predicate\u001b[0m\u001b[0;34m,\u001b[0m\u001b[0;34m\u001b[0m\u001b[0;34m\u001b[0m\u001b[0m\n",
            "\u001b[0;32m/usr/local/lib/python3.11/dist-packages/google/api_core/retry/retry_unary.py\u001b[0m in \u001b[0;36mretry_target\u001b[0;34m(target, predicate, sleep_generator, timeout, on_error, exception_factory, **kwargs)\u001b[0m\n\u001b[1;32m    151\u001b[0m         \u001b[0;32mexcept\u001b[0m \u001b[0mException\u001b[0m \u001b[0;32mas\u001b[0m \u001b[0mexc\u001b[0m\u001b[0;34m:\u001b[0m\u001b[0;34m\u001b[0m\u001b[0;34m\u001b[0m\u001b[0m\n\u001b[1;32m    152\u001b[0m             \u001b[0;31m# defer to shared logic for handling errors\u001b[0m\u001b[0;34m\u001b[0m\u001b[0;34m\u001b[0m\u001b[0m\n\u001b[0;32m--> 153\u001b[0;31m             _retry_error_helper(\n\u001b[0m\u001b[1;32m    154\u001b[0m                 \u001b[0mexc\u001b[0m\u001b[0;34m,\u001b[0m\u001b[0;34m\u001b[0m\u001b[0;34m\u001b[0m\u001b[0m\n\u001b[1;32m    155\u001b[0m                 \u001b[0mdeadline\u001b[0m\u001b[0;34m,\u001b[0m\u001b[0;34m\u001b[0m\u001b[0;34m\u001b[0m\u001b[0m\n",
            "\u001b[0;32m/usr/local/lib/python3.11/dist-packages/google/api_core/retry/retry_base.py\u001b[0m in \u001b[0;36m_retry_error_helper\u001b[0;34m(exc, deadline, next_sleep, error_list, predicate_fn, on_error_fn, exc_factory_fn, original_timeout)\u001b[0m\n\u001b[1;32m    210\u001b[0m             \u001b[0moriginal_timeout\u001b[0m\u001b[0;34m,\u001b[0m\u001b[0;34m\u001b[0m\u001b[0;34m\u001b[0m\u001b[0m\n\u001b[1;32m    211\u001b[0m         )\n\u001b[0;32m--> 212\u001b[0;31m         \u001b[0;32mraise\u001b[0m \u001b[0mfinal_exc\u001b[0m \u001b[0;32mfrom\u001b[0m \u001b[0msource_exc\u001b[0m\u001b[0;34m\u001b[0m\u001b[0;34m\u001b[0m\u001b[0m\n\u001b[0m\u001b[1;32m    213\u001b[0m     \u001b[0;32mif\u001b[0m \u001b[0mon_error_fn\u001b[0m \u001b[0;32mis\u001b[0m \u001b[0;32mnot\u001b[0m \u001b[0;32mNone\u001b[0m\u001b[0;34m:\u001b[0m\u001b[0;34m\u001b[0m\u001b[0;34m\u001b[0m\u001b[0m\n\u001b[1;32m    214\u001b[0m         \u001b[0mon_error_fn\u001b[0m\u001b[0;34m(\u001b[0m\u001b[0mexc\u001b[0m\u001b[0;34m)\u001b[0m\u001b[0;34m\u001b[0m\u001b[0;34m\u001b[0m\u001b[0m\n",
            "\u001b[0;32m/usr/local/lib/python3.11/dist-packages/google/api_core/retry/retry_unary.py\u001b[0m in \u001b[0;36mretry_target\u001b[0;34m(target, predicate, sleep_generator, timeout, on_error, exception_factory, **kwargs)\u001b[0m\n\u001b[1;32m    142\u001b[0m     \u001b[0;32mfor\u001b[0m \u001b[0msleep\u001b[0m \u001b[0;32min\u001b[0m \u001b[0msleep_generator\u001b[0m\u001b[0;34m:\u001b[0m\u001b[0;34m\u001b[0m\u001b[0;34m\u001b[0m\u001b[0m\n\u001b[1;32m    143\u001b[0m         \u001b[0;32mtry\u001b[0m\u001b[0;34m:\u001b[0m\u001b[0;34m\u001b[0m\u001b[0;34m\u001b[0m\u001b[0m\n\u001b[0;32m--> 144\u001b[0;31m             \u001b[0mresult\u001b[0m \u001b[0;34m=\u001b[0m \u001b[0mtarget\u001b[0m\u001b[0;34m(\u001b[0m\u001b[0;34m)\u001b[0m\u001b[0;34m\u001b[0m\u001b[0;34m\u001b[0m\u001b[0m\n\u001b[0m\u001b[1;32m    145\u001b[0m             \u001b[0;32mif\u001b[0m \u001b[0minspect\u001b[0m\u001b[0;34m.\u001b[0m\u001b[0misawaitable\u001b[0m\u001b[0;34m(\u001b[0m\u001b[0mresult\u001b[0m\u001b[0;34m)\u001b[0m\u001b[0;34m:\u001b[0m\u001b[0;34m\u001b[0m\u001b[0;34m\u001b[0m\u001b[0m\n\u001b[1;32m    146\u001b[0m                 \u001b[0mwarnings\u001b[0m\u001b[0;34m.\u001b[0m\u001b[0mwarn\u001b[0m\u001b[0;34m(\u001b[0m\u001b[0m_ASYNC_RETRY_WARNING\u001b[0m\u001b[0;34m)\u001b[0m\u001b[0;34m\u001b[0m\u001b[0;34m\u001b[0m\u001b[0m\n",
            "\u001b[0;32m/usr/local/lib/python3.11/dist-packages/google/api_core/timeout.py\u001b[0m in \u001b[0;36mfunc_with_timeout\u001b[0;34m(*args, **kwargs)\u001b[0m\n\u001b[1;32m    128\u001b[0m                 \u001b[0mkwargs\u001b[0m\u001b[0;34m[\u001b[0m\u001b[0;34m\"timeout\"\u001b[0m\u001b[0;34m]\u001b[0m \u001b[0;34m=\u001b[0m \u001b[0mremaining_timeout\u001b[0m\u001b[0;34m\u001b[0m\u001b[0;34m\u001b[0m\u001b[0m\n\u001b[1;32m    129\u001b[0m \u001b[0;34m\u001b[0m\u001b[0m\n\u001b[0;32m--> 130\u001b[0;31m             \u001b[0;32mreturn\u001b[0m \u001b[0mfunc\u001b[0m\u001b[0;34m(\u001b[0m\u001b[0;34m*\u001b[0m\u001b[0margs\u001b[0m\u001b[0;34m,\u001b[0m \u001b[0;34m**\u001b[0m\u001b[0mkwargs\u001b[0m\u001b[0;34m)\u001b[0m\u001b[0;34m\u001b[0m\u001b[0;34m\u001b[0m\u001b[0m\n\u001b[0m\u001b[1;32m    131\u001b[0m \u001b[0;34m\u001b[0m\u001b[0m\n\u001b[1;32m    132\u001b[0m         \u001b[0;32mreturn\u001b[0m \u001b[0mfunc_with_timeout\u001b[0m\u001b[0;34m\u001b[0m\u001b[0;34m\u001b[0m\u001b[0m\n",
            "\u001b[0;32m/usr/local/lib/python3.11/dist-packages/google/api_core/grpc_helpers.py\u001b[0m in \u001b[0;36merror_remapped_callable\u001b[0;34m(*args, **kwargs)\u001b[0m\n\u001b[1;32m     76\u001b[0m             \u001b[0;32mreturn\u001b[0m \u001b[0mcallable_\u001b[0m\u001b[0;34m(\u001b[0m\u001b[0;34m*\u001b[0m\u001b[0margs\u001b[0m\u001b[0;34m,\u001b[0m \u001b[0;34m**\u001b[0m\u001b[0mkwargs\u001b[0m\u001b[0;34m)\u001b[0m\u001b[0;34m\u001b[0m\u001b[0;34m\u001b[0m\u001b[0m\n\u001b[1;32m     77\u001b[0m         \u001b[0;32mexcept\u001b[0m \u001b[0mgrpc\u001b[0m\u001b[0;34m.\u001b[0m\u001b[0mRpcError\u001b[0m \u001b[0;32mas\u001b[0m \u001b[0mexc\u001b[0m\u001b[0;34m:\u001b[0m\u001b[0;34m\u001b[0m\u001b[0;34m\u001b[0m\u001b[0m\n\u001b[0;32m---> 78\u001b[0;31m             \u001b[0;32mraise\u001b[0m \u001b[0mexceptions\u001b[0m\u001b[0;34m.\u001b[0m\u001b[0mfrom_grpc_error\u001b[0m\u001b[0;34m(\u001b[0m\u001b[0mexc\u001b[0m\u001b[0;34m)\u001b[0m \u001b[0;32mfrom\u001b[0m \u001b[0mexc\u001b[0m\u001b[0;34m\u001b[0m\u001b[0;34m\u001b[0m\u001b[0m\n\u001b[0m\u001b[1;32m     79\u001b[0m \u001b[0;34m\u001b[0m\u001b[0m\n\u001b[1;32m     80\u001b[0m     \u001b[0;32mreturn\u001b[0m \u001b[0merror_remapped_callable\u001b[0m\u001b[0;34m\u001b[0m\u001b[0;34m\u001b[0m\u001b[0m\n",
            "\u001b[0;31mResourceExhausted\u001b[0m: 429 Resource has been exhausted (e.g. check quota)."
          ]
        }
      ]
    },
    {
      "cell_type": "code",
      "source": [
        "# invoke agent\n",
        "agent(\"the difference between a stock and a bond\")"
      ],
      "metadata": {
        "colab": {
          "base_uri": "https://localhost:8080/"
        },
        "id": "C5ujD9MNsS5R",
        "outputId": "2d38c24d-4ecd-4541-87c8-5e54cb392693",
        "collapsed": true
      },
      "execution_count": null,
      "outputs": [
        {
          "output_type": "stream",
          "name": "stdout",
          "text": [
            "\n",
            "\n",
            "\u001b[1m> Entering new AgentExecutor chain...\u001b[0m\n",
            "\u001b[32;1m\u001b[1;3mThought: I need to find the definitions of stocks and bonds and highlight their differences.\n",
            "Action:\n",
            "```json\n",
            "{\n",
            "  \"action\": \"Search\",\n",
            "  \"action_input\": \"difference between stock and bond\"\n",
            "}\n",
            "```\u001b[0m\n",
            "Observation: \u001b[36;1m\u001b[1;3m['Stocks represent ownership in a company, while bonds are essentially loans to a company or government, offering fixed interest payments and principal repayment at maturity.', ' entity_type: related_questions.', 'Stocks are ownership shares in a company, while bonds are a kind of loan from investors to a company or government. To make a profit from stocks, ...', 'Feb 20, 2025 —', 'Oct 30, 2024 —', 'The bond market is where investors go to trade debt securities, while the stock market is where investors trade equity securities through stock exchanges.', \"What's the difference between the two? · A stock amounts to a piece of ownership in a company. · A bond, on the other hand, is like a loan.\", 'Of course, the two asset classes provide different benefits – bonds deliver a regular income, while shares offer the potential for capital growth.', 'The difference between stocks and bonds · Stocks: Higher risk, higher reward. · Bonds: Lower risk, steady returns. · Make the most of your investments.']\u001b[0m\n",
            "Thought:\u001b[32;1m\u001b[1;3mI can now summarize the key differences between stocks and bonds.\n",
            "\n",
            "Thought: I will summarize the key differences.\n",
            "Action:\n",
            "```json\n",
            "{\n",
            "  \"action\": \"Search\",\n",
            "  \"action_input\": \"summary of key differences between stocks and bonds\"\n",
            "}\n",
            "```\u001b[0m\n",
            "Observation: \u001b[36;1m\u001b[1;3m[' entity_type: related_questions.', \"Stocks are ownership shares in a company, while bonds are a kind of loan from investors to a company or government. To make a profit from stocks, you'll need to ...\", 'Feb 20, 2025 —', 'Oct 30, 2024 —', 'Of course, the two asset classes provide different benefits – bonds deliver a regular income, while shares offer the potential for capital growth.', 'Aug 2, 2023 —', 'A key difference between bonds and stocks is the predictability of returns, with bonds in general providing relatively more certainty.', 'The bond market is where investors go to trade debt securities, while the stock market is where investors trade equity securities through stock exchanges.', 'In general, the role of stocks is to provide long-term growth potential and the role of bonds is to provide an income stream.', 'Dec 15, 2022 —']\u001b[0m\n",
            "Thought:\u001b[32;1m\u001b[1;3mThought: I will now provide the final answer.\n",
            "Final Answer: Stocks represent ownership in a company, whereas bonds are loans to a company or government. Stocks offer the potential for capital growth but are higher risk, while bonds provide a regular income stream with lower risk. Bonds generally provide more predictable returns than stocks.\u001b[0m\n",
            "\n",
            "\u001b[1m> Finished chain.\u001b[0m\n"
          ]
        },
        {
          "output_type": "execute_result",
          "data": {
            "text/plain": [
              "{'input': 'the difference between a stock and a bond',\n",
              " 'output': 'Stocks represent ownership in a company, whereas bonds are loans to a company or government. Stocks offer the potential for capital growth but are higher risk, while bonds provide a regular income stream with lower risk. Bonds generally provide more predictable returns than stocks.'}"
            ]
          },
          "metadata": {},
          "execution_count": 38
        }
      ]
    },
    {
      "cell_type": "code",
      "source": [
        "# invoke agent\n",
        "agent(\"why nvidia stocks are up?\")"
      ],
      "metadata": {
        "colab": {
          "base_uri": "https://localhost:8080/"
        },
        "id": "Foj2f7JmsS25",
        "outputId": "2e4498a2-4e26-453f-e58f-24b4b2e43e9d",
        "collapsed": true
      },
      "execution_count": null,
      "outputs": [
        {
          "output_type": "stream",
          "name": "stdout",
          "text": [
            "\n",
            "\n",
            "\u001b[1m> Entering new AgentExecutor chain...\u001b[0m\n",
            "\u001b[32;1m\u001b[1;3mThought: I need to find out the reasons behind the increase in Nvidia stock prices. I will use a search engine to find relevant news articles and financial analysis reports.\n",
            "Action:\n",
            "```json\n",
            "{\n",
            "  \"action\": \"Search\",\n",
            "  \"action_input\": \"why is nvidia stock up\"\n",
            "}\n",
            "```\u001b[0m\n",
            "Observation: \u001b[36;1m\u001b[1;3mNew AI Chips Impress Wall Street, but Some Doubts Remain. stock was gaining Thursday as investors evaluated news from its GTC conference. Confidence in the superiority of its artificial-intelligence chips is being weighed against doubts over highly valued tech stocks.\u001b[0m\n",
            "Thought:\u001b[32;1m\u001b[1;3mI need to find more specific reasons. The previous search result indicates AI chips and the GTC conference as factors, but I need more details.\n",
            "Action:\n",
            "```json\n",
            "{\n",
            "  \"action\": \"Search\",\n",
            "  \"action_input\": \"nvidia stock up GTC conference\"\n",
            "}\n",
            "```\u001b[0m\n",
            "Observation: \u001b[36;1m\u001b[1;3m[{'title': \"As Nvidia's GTC wraps up, what's next for AI, quantum computing?\", 'link': 'https://finance.yahoo.com/video/nvidias-gtc-wraps-whats-next-141500607.html', 'source': 'Yahoo Finance', 'date': '1 day ago', 'thumbnail': 'https://serpapi.com/searches/67df7692a3ed76a7c51699a9/images/be361628ea692ca795047639321c9d655353dfe29ab798a8.jpeg', 'label': 'Video'}, {'title': 'Nvidia Stock Looks Even More Like a Buy After GTC Conference', 'link': 'https://www.barrons.com/articles/nvidia-stock-buy-ai-robotics-6f39cdc6', 'source': \"Barron's\", 'date': '1 day ago', 'thumbnail': 'https://serpapi.com/searches/67df7692a3ed76a7c51699a9/images/be361628ea692ca76f724da523d89a6a54e6af9f989eb834.jpeg'}, {'title': \"Nvidia Stock Fails To Score At 'Super Bowl Of AI'\", 'link': 'https://www.investors.com/news/technology/nvidia-stock-fails-to-score-at-super-bowl-of-ai/', 'source': \"Investor's Business Daily\", 'date': '1 day ago', 'thumbnail': 'https://serpapi.com/searches/67df7692a3ed76a7c51699a9/images/be361628ea692ca77da30870ea85a23f26da7a3548a6fcaa.jpeg'}, {'title': 'Nvidia Stock Falls. How It Can Excite Markets Again.', 'link': 'https://www.barrons.com/articles/nvidia-stock-price-gtc-ai-chips-b5ae6046', 'source': \"Barron's\", 'date': '1 day ago', 'thumbnail': 'https://serpapi.com/searches/67df7692a3ed76a7c51699a9/images/be361628ea692ca7b100f2f8566e034b055429bbb4f5917a.jpeg'}]\u001b[0m\n",
            "Thought:\u001b[32;1m\u001b[1;3mI see conflicting headlines. Some say the stock is up due to the GTC conference and AI advancements, while others suggest it failed to score at the \"Super Bowl of AI\" and needs to excite markets again. To get a clearer picture, I need to look for articles that specifically explain the positive factors driving the stock increase.\n",
            "Action:\n",
            "```json\n",
            "{\n",
            "  \"action\": \"Search\",\n",
            "  \"action_input\": \"nvidia stock increase reasons GTC conference AI chips\"\n",
            "}\n",
            "```\u001b[0m\n",
            "Observation: \u001b[36;1m\u001b[1;3m[{'title': \"1 Trillion Reasons to Buy Nvidia's Stock Right Now\", 'link': 'https://www.theglobeandmail.com/investing/markets/stocks/NVDA-Q/pressreleases/31532170/1-trillion-reasons-to-buy-nvidias-stock-right-now/', 'source': 'The Globe and Mail', 'date': '9 hours ago', 'thumbnail': 'https://serpapi.com/searches/67df769336cc93963a850f71/images/94df093f6381b731095667af610830d2b306a4cd8b631831.jpeg'}, {'title': 'Nvidia Stock Looks Even More Like a Buy After GTC Conference', 'link': 'https://www.barrons.com/articles/nvidia-stock-buy-ai-robotics-6f39cdc6', 'source': \"Barron's\", 'date': '1 day ago', 'thumbnail': 'https://serpapi.com/searches/67df769336cc93963a850f71/images/94df093f6381b73152303883269ed52b117ad1e034311a55.jpeg'}, {'title': 'Nvidia Stock Rises. New AI Chips Impress Wall Street, but Some Doubts Remain.', 'link': 'https://www.barrons.com/articles/nvidia-stock-price-jensen-chip-event-dae0f6e7', 'source': \"Barron's\", 'date': '2 days ago', 'thumbnail': 'https://serpapi.com/searches/67df769336cc93963a850f71/images/94df093f6381b731b8447fac8940bceeefb9db5e97676473.jpeg'}, {'title': \"Who Is Nvidia's Biggest Rival? Jensen Huang Offered a Clue, and You May be Surprised by the Answer.\", 'link': 'https://finance.yahoo.com/news/nvidias-biggest-rival-jensen-huang-081000290.html', 'source': 'Yahoo Finance', 'date': '19 hours ago', 'thumbnail': 'https://serpapi.com/searches/67df769336cc93963a850f71/images/94df093f6381b7314ed0d5e8594395dd96c18780ae49a248.jpeg'}]\u001b[0m\n",
            "Thought:\u001b[32;1m\u001b[1;3mBased on the search results, Nvidia's stock is up due to several factors:\n",
            "\n",
            "*   **Impressive new AI chips:** Wall Street is impressed with Nvidia's new AI chips, particularly those revealed at the GTC conference.\n",
            "*   **GTC Conference:** The GTC conference showcased Nvidia's advancements in AI and robotics, leading to increased investor confidence.\n",
            "*   **AI market leadership:** There is confidence in the superiority of Nvidia's artificial-intelligence chips.\n",
            "\n",
            "Final Answer: Nvidia's stock is up due to impressive new AI chips revealed at the GTC conference and overall confidence in Nvidia's leadership in the AI market.\u001b[0m\n",
            "\n",
            "\u001b[1m> Finished chain.\u001b[0m\n"
          ]
        },
        {
          "output_type": "execute_result",
          "data": {
            "text/plain": [
              "{'input': 'why nvidia stocks are up?',\n",
              " 'output': \"Nvidia's stock is up due to impressive new AI chips revealed at the GTC conference and overall confidence in Nvidia's leadership in the AI market.\"}"
            ]
          },
          "metadata": {},
          "execution_count": 39
        }
      ]
    },
    {
      "cell_type": "code",
      "source": [
        "# invoke agent\n",
        "agent(\"capital of france\")"
      ],
      "metadata": {
        "colab": {
          "base_uri": "https://localhost:8080/"
        },
        "id": "93lAV6nj56XS",
        "outputId": "ba8cab8e-4bcb-4ecd-82b2-04a6b99f0fe8"
      },
      "execution_count": null,
      "outputs": [
        {
          "output_type": "stream",
          "name": "stdout",
          "text": [
            "\n",
            "\n",
            "\u001b[1m> Entering new AgentExecutor chain...\u001b[0m\n",
            "\u001b[32;1m\u001b[1;3mThought: I need to find the capital of France. This is a well-known fact, so I can directly answer it.\n",
            "Final Answer: Paris\u001b[0m\n",
            "\n",
            "\u001b[1m> Finished chain.\u001b[0m\n"
          ]
        },
        {
          "output_type": "execute_result",
          "data": {
            "text/plain": [
              "{'input': 'capital of france', 'output': 'Paris'}"
            ]
          },
          "metadata": {},
          "execution_count": 41
        }
      ]
    },
    {
      "cell_type": "markdown",
      "source": [
        "# Muali Sesi 2"
      ],
      "metadata": {
        "id": "JbWtykd4BHij"
      }
    },
    {
      "cell_type": "markdown",
      "source": [
        "## Advanced Langchain with RAG"
      ],
      "metadata": {
        "id": "qp3mXCk0oxnk"
      }
    },
    {
      "cell_type": "markdown",
      "source": [
        "## Langkah 1 - Siapkan Data"
      ],
      "metadata": {
        "id": "pmLROassDU4o"
      }
    },
    {
      "cell_type": "code",
      "source": [
        "# download pdf dengan curl\n",
        "!curl -o  ai_pv.pdf https://www.pearsonvue.com/content/dam/VUE/vue/en/documents/clients/it-specialist/its-od-307-artificial-intel-pearson.pdf"
      ],
      "metadata": {
        "colab": {
          "base_uri": "https://localhost:8080/"
        },
        "id": "j6QOb3Tn1byn",
        "outputId": "fe6e6602-67c5-47ff-b959-cb600e1632f9"
      },
      "execution_count": null,
      "outputs": [
        {
          "output_type": "stream",
          "name": "stdout",
          "text": [
            "  % Total    % Received % Xferd  Average Speed   Time    Time     Time  Current\n",
            "                                 Dload  Upload   Total   Spent    Left  Speed\n",
            "100  259k  100  259k    0     0   749k      0 --:--:-- --:--:-- --:--:--  750k\n"
          ]
        }
      ]
    },
    {
      "cell_type": "code",
      "source": [
        "from langchain_community.document_loaders import PyPDFLoader, WebBaseLoader\n",
        "\n",
        "loader = PyPDFLoader(\"ai_pv.pdf\")\n",
        "pages = loader.load_and_split()"
      ],
      "metadata": {
        "id": "gYFSOtpg1WvA",
        "colab": {
          "base_uri": "https://localhost:8080/"
        },
        "outputId": "86bb1e9a-32bf-43ac-9ca6-0a1190f7d927"
      },
      "execution_count": null,
      "outputs": [
        {
          "output_type": "stream",
          "name": "stderr",
          "text": [
            "WARNING:langchain_community.utils.user_agent:USER_AGENT environment variable not set, consider setting it to identify your requests.\n"
          ]
        }
      ]
    },
    {
      "cell_type": "code",
      "source": [
        "web_loader = WebBaseLoader(\"https://instiki.ac.id/2023/08/14/data-scientist-jadi-incaran-instansi-pemerintahan-inilah-peluang-karier-dalam-cpns-2023/\")\n",
        "web_pages = web_loader.load_and_split()"
      ],
      "metadata": {
        "id": "8n2JTpAmCs05"
      },
      "execution_count": null,
      "outputs": []
    },
    {
      "cell_type": "code",
      "source": [
        "pages[0].page_content"
      ],
      "metadata": {
        "colab": {
          "base_uri": "https://localhost:8080/",
          "height": 139
        },
        "id": "n2O2AzXb25d7",
        "outputId": "51a467a9-89a9-41cc-bce3-0f55623b5777"
      },
      "execution_count": null,
      "outputs": [
        {
          "output_type": "execute_result",
          "data": {
            "text/plain": [
              "'Copyright © 2025 Pearson Education, Inc. or its affiliates(s). All rights reserved.\\n1. AI Problem Definition\\n1.1 Identify the problem you are trying to solve using AI (e.g., user \\nsegmentation, improving customer service)\\n• Identify the need that will be addressed\\n• Find out what information comes in and what output is expected\\n• Determine whether AI is called for\\n• Consider upsides and downsides of AI in the situation\\n• Define measurable success\\n• Benchmark against domain or organization-specific risks to which the \\nproject may be susceptible\\n1.2 Classify the problem (e.g., regression, unsupervised learning) \\n• Examine available data (labeled or unlabeled?) and the problem\\n• Determine problem type (e.g., classification, regression, unsupervised, \\nreinforcement)\\n1.3 Identify the areas of expertise needed to solve the problem\\n• Identify business expertise required\\n• Identify the need for domain (subject-matter) expertise on the problem\\n• Identify AI expertise needed\\n• Identify implementation expertise needed\\n1.4 Build a security plan\\n• Consider internal access levels or permissions\\n• Consider infrastructure security\\n• Assess the risk of using a certain model or potential attack surfaces (e.g., \\nadversarial attacks on real-time learning model)\\n1.5 Ensure that AI is used appropriately\\n• Identify potential ways that the AI can mispredict or harm specific user \\ngroups\\n• Set guidelines for data gathering and use\\n• Set guidelines for algorithm selection from user perspective\\n• Consider how the subject of the data can interpret the results\\n• Consider out-of-context use of AI results\\nIT SPECIALIST EXAM OBJECTIVES\\nArtificial Intelligence\\nCandidates for this certification have a foundational knowledge the procedures used to develop an artificial \\nintelligence (AI) solution, as well as an understanding of the issues surrounding the governance, transparency, \\nsecurity, and ethics of AI.  Successful candidates will be able to analyze and classify a problem. They should \\nbe able to demonstrate knowledge of data collection, data processing, and feature engineering strategies. \\nCandidates should be able to choose an appropriate algorithm for training a model, and understand the \\nmetrics used to evaluate model performance. They should understand the AI development lifecycle and \\nhow a production pipeline is used to allow for continuous improvement.  Candidates at least 150 hours of \\ninstruction and/or exploration of artificial intelligence methodology and solutions.'"
            ],
            "application/vnd.google.colaboratory.intrinsic+json": {
              "type": "string"
            }
          },
          "metadata": {},
          "execution_count": 49
        }
      ]
    },
    {
      "cell_type": "code",
      "source": [
        "len(pages)"
      ],
      "metadata": {
        "colab": {
          "base_uri": "https://localhost:8080/"
        },
        "id": "iij5ZCd43aJ2",
        "outputId": "674e639e-3459-4bc1-fe93-4edf26053c55"
      },
      "execution_count": null,
      "outputs": [
        {
          "output_type": "execute_result",
          "data": {
            "text/plain": [
              "5"
            ]
          },
          "metadata": {},
          "execution_count": 50
        }
      ]
    },
    {
      "cell_type": "code",
      "source": [
        "md(web_pages[1].page_content)"
      ],
      "metadata": {
        "colab": {
          "base_uri": "https://localhost:8080/",
          "height": 1000
        },
        "collapsed": true,
        "id": "6djLCzNuDCWx",
        "outputId": "0211f973-c490-4629-dc7d-16e94253491b"
      },
      "execution_count": null,
      "outputs": [
        {
          "output_type": "execute_result",
          "data": {
            "text/plain": [
              "<IPython.core.display.Markdown object>"
            ],
            "text/markdown": "Search\n\n\n Search\n\n\n\n\n\n\n\n\n\n\n\n\n  \n\n\n\n\n\n\n\n\n\n\n\n\n\n\n\n\n\n\n\n\n\nData Scientist Jadi Incaran Instansi Pemerintahan? Inilah Peluang Karier dalam CPNS 2023! \n\n\n\n\n\n\n\n\n\n\n\n\n\n\n\n\n\n\n\n\n\n\n\nData Scientist Jadi Profesi Incaran Instansi Pemerintahan? Inilah Peluang Karier dalam CPNS 2023!\nCivitas akademika, yuk bedah peluang profesi data science selain di startup dan IT company, yakni di instansi pemerintahan. Memangnya semenarik itu?\nBagi kamu yang tertarik berkarier jadi data science, pastinya pernah berpikir bahwa menjadi data scientist hanya terbatas pada startup atau perusahaan IT. Namun, kenyataannya saat ini banyak instansi pemerintahan yang mencari talenta digital dengan berbagai keahlian, termasuk data scientist. Tidak percaya? Ayo kita lihat lebih detail.\nMenurut menpan.go.id, salah satu prioritas dalam penerimaan CPNS 2023 adalah data scientist. Hal ini disebabkan oleh perubahan cepat dalam dunia digital, yang memaksa pemerintah untuk beradaptasi dengan cepat agar tidak tertinggal. Perekrutan data scientist juga membantu mengurangi dampak transformasi digital pada rekrutmen jabatan lainnya.\nKementerian Keuangan Republik Indonesia juga menyatakan kebutuhan mereka akan sumber daya manusia yang ahli di bidang data science, khususnya di Direktorat Penilaian. Menurut KEMENKEU, data scientist di Direktorat Penilaian akan berperan dalam mengolah big data menggunakan berbagai alat untuk mengumpulkan, menginterpretasi, dan menganalisis data, sehingga menghasilkan wawasan yang berharga.\nBukan hanya KEMENKEU, banyak instansi pemerintah lain yang sedang mencari data scientist. Sebagai contoh, Direktorat Pengembangan UMKM dan Koperasi dari Kementerian PPN/Bappenas membuka lowongan untuk data scientist.\nMengapa Data Scientist Kini Jadi Target Utama Instansi Pemerintahan?\nJika sebelumnya pemerintah bekerja dengan data secara manual, kehadiran data scientist memungkinkan pemerintah untuk mengolah data secara efektif, meningkatkan kinerja, melindungi dari serangan siber, dan bahkan meningkatkan pendapatan negara. Dampak positif ini pada akhirnya juga dirasakan oleh masyarakat.\nPenerapan data science digunakan di berbagai sektor, beberapa contohnya sebagai berikut:\n* Infrastruktur: Menganalisis dan mengatasi risiko dalam pembangunan jalan tol.\n* Pariwisata: Pemetaan lokasi yang tepat untuk wisatawan dan strategi.\n* pemasaran berdasarkan segmentasi kelompok.\n* Pertanian: Pengelolaan hama, penanganan perubahan cuaca, prediksi hasil produksi.\n* Perdagangan: Peramalan bantuan sosial atau kebutuhan sembako.\n* Kesehatan: Peramalan penyebaran penyakit.\nJadi, peluang menjadi data scientist tidak hanya terbatas pada startup atau perusahaan IT, tetapi juga sangat terbuka di instansi pemerintahan. Kamu bisa memilih sektor pemerintahan yang paling menarik bagi kamu dan menjadi talenta dihital yang mendukung transformasi digital pemerintah. Kamu dapat memulainya dengan belajar skill data scientist di Institut Bisnis dan Teknologi Indonesia (INSTIKI), sebuah kampus IT, bisnis, dan desain terkemuka di Bali dan Nusa Tenggara yang telah terakreditasi secara nasional dan tersertifikasi internasional. Di INSTIKI, kamu akan dibimbing oleh dosen-dosen berpengalaman dengan kurikulum yang sesuai dengan kebutuhan industri! Untuk informasi lebih lengkap dapat mengakses website INSTIKI.\n\n\n\n\n\n\n\n\n\n\n\n\nPENGUMUMAN LAINNYA \n\n\n\n\n\n\n\n\n\n\n\n\n\n\n\nTelusuri Artikel Lainnya \n\n\n\n \n\n\n\n\n\n\n\n\t\t\t\tINSTIKI Gelar Wisuda XXV, Lahirkan Sarjana Unggul & Berdaya Saing\t\t\t\n\n\n\n\t\t\t22 March 2025\t\t\n\n\n\n\n\n\n\n\n\n\n\t\t\t\tKegiatan Sederhana Ini Bikin Portofoliomu Jadi Lebih Menarik\t\t\t\n\n\n\n\t\t\t20 March 2025\t\t\n\n\n\n\n\n\n\n\n\n\n\t\t\t\tMagical Farewell Party: INSTIKI Lepas Calon Wisudawan dengan Konsep Disney\t\t\t\n\n\n\n\t\t\t20 March 2025\t\t\n\n\n\n\n\n\n\n\n\n\n\n\n\n\n\n\n\n\n\n\n \n\n\n\n\n\n\n\n \n\n\n\n\n\n\n\n\n\n\n\n\n\n\n\n \n\n\n\n\n\n\n \n\n\nInstagram\n \n\n\n\nFacebook-square\n \n\n\n\nTwitter\n \n\n\n\nYoutube\n \n\n\n\n\n\n\n\n\n\n\n\t\t\t\t\t\t\tINSTITUT BISNIS DAN TEKNOLOGI INDONESIA\t\t\t\t\t\t\n\n\n\n\t\t\t\t\t\t\tSenin – Sabtu | 08.00 – 22.00 WITA"
          },
          "metadata": {},
          "execution_count": 55
        }
      ]
    },
    {
      "cell_type": "markdown",
      "source": [
        "## Langkah ke 2 - Chunking"
      ],
      "metadata": {
        "id": "WkGKW3ky3eGV"
      }
    },
    {
      "cell_type": "code",
      "source": [
        "!pip install -U -q nltk"
      ],
      "metadata": {
        "id": "3SGQZt_rHP80"
      },
      "execution_count": null,
      "outputs": []
    },
    {
      "cell_type": "code",
      "source": [
        "import nltk\n",
        "nltk.download('punkt_tab')"
      ],
      "metadata": {
        "colab": {
          "base_uri": "https://localhost:8080/"
        },
        "id": "nvjHxw-Y3sex",
        "outputId": "a4c03ba4-1eae-4b5b-ca29-ee86e2c361b7"
      },
      "execution_count": null,
      "outputs": [
        {
          "output_type": "stream",
          "name": "stderr",
          "text": [
            "[nltk_data] Downloading package punkt_tab to /root/nltk_data...\n",
            "[nltk_data]   Package punkt_tab is already up-to-date!\n"
          ]
        },
        {
          "output_type": "execute_result",
          "data": {
            "text/plain": [
              "True"
            ]
          },
          "metadata": {},
          "execution_count": 86
        }
      ]
    },
    {
      "cell_type": "markdown",
      "source": [
        "Agar lebih terbanyang tentang penerapan chunk, kita akan uji coba terlebih dahulu dengan text sederhana."
      ],
      "metadata": {
        "id": "SDj5KMeAkCRQ"
      }
    },
    {
      "cell_type": "code",
      "source": [
        "from langchain_text_splitters import NLTKTextSplitter, RecursiveCharacterTextSplitter\n",
        "\n",
        "# Misalkan kamu memiliki dokumen seperti berikut\n",
        "simple_doc = \"\"\"\n",
        "halo nama saya sardi irfansyah, saya lahir di jakarta.\n",
        "Saya irfan. tinggal di Jakarta. saya sangat suka belajar AI terutama di bidang NLP dan CV\n",
        "\"\"\"\n",
        "\n",
        "print('panjang total karakter:',len(simple_doc),'\\n')"
      ],
      "metadata": {
        "colab": {
          "base_uri": "https://localhost:8080/"
        },
        "id": "aD20F6CLDs_9",
        "outputId": "5ebebc84-5b7f-41b9-b2b4-dcba78341665"
      },
      "execution_count": null,
      "outputs": [
        {
          "output_type": "stream",
          "name": "stdout",
          "text": [
            "panjang total karakter: 146 \n",
            "\n"
          ]
        }
      ]
    },
    {
      "cell_type": "code",
      "source": [
        "# Membuat objek NLTKTextSplitter dengan ukuran chunk dan overlap\n",
        "text_splitter = NLTKTextSplitter(separator='\\n\\n',\n",
        "                                 chunk_size=50,\n",
        "                                 chunk_overlap=20) #default separator='\\n\\n'\n",
        "#chunk 1 jumlahnya 50 char\n",
        "#chunk 2 jumlahnya 37 char"
      ],
      "metadata": {
        "id": "Nb-9N0GaDzIr"
      },
      "execution_count": null,
      "outputs": []
    },
    {
      "cell_type": "code",
      "source": [
        "# Memecah dokumen menjadi beberapa chunk\n",
        "chunks = text_splitter.split_text(simple_doc)\n",
        "print(chunks,'\\n')\n",
        "\n",
        "# Menampilkan hasil chunk\n",
        "for i, chunk in enumerate(chunks):\n",
        "    #panjang karakter\n",
        "    print(f\"Panjang chunk {i+1}: {len(chunk)} karakter\")\n",
        "    print(f\"Chunk {i+1}:\")\n",
        "    print(chunk)\n",
        "    print(\"-\" * 50)"
      ],
      "metadata": {
        "colab": {
          "base_uri": "https://localhost:8080/"
        },
        "id": "nG_Y9bBCisg_",
        "outputId": "02314d94-2169-4160-e839-d0f5c2538948"
      },
      "execution_count": null,
      "outputs": [
        {
          "output_type": "stream",
          "name": "stderr",
          "text": [
            "WARNING:langchain_text_splitters.base:Created a chunk of size 55, which is longer than the specified 50\n"
          ]
        },
        {
          "output_type": "stream",
          "name": "stdout",
          "text": [
            "['halo nama saya sardi irfansyah, saya lahir di jakarta.', 'Saya irfan.\\n\\ntinggal di Jakarta.', 'saya sangat suka belajar AI terutama di bidang NLP dan CV'] \n",
            "\n",
            "Panjang chunk 1: 54 karakter\n",
            "Chunk 1:\n",
            "halo nama saya sardi irfansyah, saya lahir di jakarta.\n",
            "--------------------------------------------------\n",
            "Panjang chunk 2: 32 karakter\n",
            "Chunk 2:\n",
            "Saya irfan.\n",
            "\n",
            "tinggal di Jakarta.\n",
            "--------------------------------------------------\n",
            "Panjang chunk 3: 57 karakter\n",
            "Chunk 3:\n",
            "saya sangat suka belajar AI terutama di bidang NLP dan CV\n",
            "--------------------------------------------------\n"
          ]
        }
      ]
    },
    {
      "cell_type": "code",
      "source": [
        "text_splitter = RecursiveCharacterTextSplitter(\n",
        "    chunk_size=50,\n",
        "    chunk_overlap=20,\n",
        "    is_separator_regex=False,\n",
        "    keep_separator=False\n",
        ")"
      ],
      "metadata": {
        "id": "5kqGSuIdlf7p"
      },
      "execution_count": null,
      "outputs": []
    },
    {
      "cell_type": "code",
      "source": [
        "# Memecah dokumen menjadi beberapa chunk\n",
        "chunks = text_splitter.split_text(simple_doc)\n",
        "print(chunks,'\\n')\n",
        "\n",
        "# Menampilkan hasil chunk\n",
        "for i, chunk in enumerate(chunks):\n",
        "    #panjang karakter\n",
        "    print(f\"Panjang chunk {i+1}: {len(chunk)} karakter\")\n",
        "    print(f\"Chunk {i+1}:\")\n",
        "    print(chunk)\n",
        "    print(\"-\" * 50)"
      ],
      "metadata": {
        "colab": {
          "base_uri": "https://localhost:8080/"
        },
        "id": "r5a5b9M-lh5F",
        "outputId": "3dcbb26d-09b7-4e89-a509-9e760ac48db2"
      },
      "execution_count": null,
      "outputs": [
        {
          "output_type": "stream",
          "name": "stdout",
          "text": [
            "['halo nama saya sardi irfansyah, saya lahir di', 'saya lahir di jakarta.', 'Saya irfan. tinggal di Jakarta. saya sangat suka', 'saya sangat suka belajar AI terutama di bidang NLP', 'di bidang NLP dan CV'] \n",
            "\n",
            "Panjang chunk 1: 45 karakter\n",
            "Chunk 1:\n",
            "halo nama saya sardi irfansyah, saya lahir di\n",
            "--------------------------------------------------\n",
            "Panjang chunk 2: 22 karakter\n",
            "Chunk 2:\n",
            "saya lahir di jakarta.\n",
            "--------------------------------------------------\n",
            "Panjang chunk 3: 48 karakter\n",
            "Chunk 3:\n",
            "Saya irfan. tinggal di Jakarta. saya sangat suka\n",
            "--------------------------------------------------\n",
            "Panjang chunk 4: 50 karakter\n",
            "Chunk 4:\n",
            "saya sangat suka belajar AI terutama di bidang NLP\n",
            "--------------------------------------------------\n",
            "Panjang chunk 5: 20 karakter\n",
            "Chunk 5:\n",
            "di bidang NLP dan CV\n",
            "--------------------------------------------------\n"
          ]
        }
      ]
    },
    {
      "cell_type": "markdown",
      "source": [
        "Penjelasan:\n",
        "- Dapat kita lihat bahwa `NLTKTextSplitter` akan mencoba membuat text tersebut dipisahkan berdasarkan kalimat atau tanda `titik`. Jadi setiap ada titik maka akan dibuat chunk.\n",
        "- Ketika panjang karakter lebih dari `chunk_size`, ini akan mengakibatkan peringatan warning.\n",
        "- `chunk_overlap` digunakan untuk menentukan jumlah karakter yang harus tumpang tindih antara chunk yang berdekatan.\n",
        "\n",
        "Jika anda ingin melihat ilustrasi tentang konfigurasi chunk, anda dapat melihatnya [di sini](https://dev.to/peterabel/what-chunk-size-and-chunk-overlap-should-you-use-4338)."
      ],
      "metadata": {
        "id": "JmP5jX-ukUKS"
      }
    },
    {
      "cell_type": "markdown",
      "source": [
        "Selanjutnya kita akan coba terapkan proses pemisahan kalimat ke dokumen yang kita gunakan."
      ],
      "metadata": {
        "id": "7VczgW8lsyDY"
      }
    },
    {
      "cell_type": "code",
      "source": [
        "text_splitter = RecursiveCharacterTextSplitter(\n",
        "    chunk_size=500,\n",
        "    chunk_overlap=10,\n",
        "    length_function=len,\n",
        "    is_separator_regex=False,\n",
        ")\n",
        "\n",
        "chunks = text_splitter.split_documents(pages)\n",
        "\n",
        "print(len(chunks))\n",
        "\n",
        "print(type(chunks[0]))"
      ],
      "metadata": {
        "colab": {
          "base_uri": "https://localhost:8080/"
        },
        "id": "213C34UZ3dA3",
        "outputId": "87d11524-5bd4-43c2-a7d3-5f1d462a9803"
      },
      "execution_count": null,
      "outputs": [
        {
          "output_type": "stream",
          "name": "stdout",
          "text": [
            "22\n",
            "<class 'langchain_core.documents.base.Document'>\n"
          ]
        }
      ]
    },
    {
      "cell_type": "code",
      "source": [
        "# Mengecek hasil pemecahan menjadi chunk\n",
        "print(f\"Jumlah chunks yang dihasilkan: {len(chunks)}\")\n",
        "print(f\"Tipe data chunk pertama: {type(chunks[0])}\")"
      ],
      "metadata": {
        "colab": {
          "base_uri": "https://localhost:8080/"
        },
        "id": "2fbVa5yqgdHA",
        "outputId": "276f3f82-faa8-4a68-965a-37d0dde7e17d"
      },
      "execution_count": null,
      "outputs": [
        {
          "output_type": "stream",
          "name": "stdout",
          "text": [
            "Jumlah chunks yang dihasilkan: 22\n",
            "Tipe data chunk pertama: <class 'langchain_core.documents.base.Document'>\n"
          ]
        }
      ]
    },
    {
      "cell_type": "code",
      "source": [
        "type(chunks)"
      ],
      "metadata": {
        "colab": {
          "base_uri": "https://localhost:8080/"
        },
        "id": "_ZWfMe3KGyOc",
        "outputId": "0bfd1677-ab78-45fb-a552-4d9f790fa23f"
      },
      "execution_count": null,
      "outputs": [
        {
          "output_type": "execute_result",
          "data": {
            "text/plain": [
              "list"
            ]
          },
          "metadata": {},
          "execution_count": 78
        }
      ]
    },
    {
      "cell_type": "code",
      "source": [
        "list_python = [1,2,3,4,5]"
      ],
      "metadata": {
        "id": "M1aA8saWG90v"
      },
      "execution_count": null,
      "outputs": []
    },
    {
      "cell_type": "code",
      "source": [
        "chunks[0].page_content"
      ],
      "metadata": {
        "colab": {
          "base_uri": "https://localhost:8080/",
          "height": 53
        },
        "id": "ZVUcJBijGrIG",
        "outputId": "f54bada7-a979-4547-f741-781864140156"
      },
      "execution_count": null,
      "outputs": [
        {
          "output_type": "execute_result",
          "data": {
            "text/plain": [
              "'Copyright © 2025 Pearson Education, Inc. or its affiliates(s). All rights reserved.\\n1. AI Problem Definition\\n1.1 Identify the problem you are trying to solve using AI (e.g., user \\nsegmentation, improving customer service)\\n• Identify the need that will be addressed'"
            ],
            "application/vnd.google.colaboratory.intrinsic+json": {
              "type": "string"
            }
          },
          "metadata": {},
          "execution_count": 83
        }
      ]
    },
    {
      "cell_type": "code",
      "source": [
        "chunks[20].page_content"
      ],
      "metadata": {
        "colab": {
          "base_uri": "https://localhost:8080/",
          "height": 53
        },
        "id": "nR0D2VLsls5h",
        "outputId": "e6ae35de-ff15-4c71-fc59-6f2eaa140695"
      },
      "execution_count": null,
      "outputs": [
        {
          "output_type": "execute_result",
          "data": {
            "text/plain": [
              "'• Tune the model by changing parameters\\n• Gather performance metrics for the model\\n• Iterate as needed\\n3.3 Select specific model after experimentation, avoiding \\noverengineering\\n• Consider cost, speed, and other factors in evaluating models'"
            ],
            "application/vnd.google.colaboratory.intrinsic+json": {
              "type": "string"
            }
          },
          "metadata": {},
          "execution_count": 84
        }
      ]
    },
    {
      "cell_type": "code",
      "source": [
        "# Menampilkan chunk pertama\n",
        "# panjang chunk\n",
        "print(f\"Panjang chunk pertama: {len(chunks[0].page_content)} karakter\")\n",
        "print(\"\\nContoh chunk pertama:\")\n",
        "print(chunks[0].page_content)  # Memastikan bahwa setiap chunk memiliki konten"
      ],
      "metadata": {
        "colab": {
          "base_uri": "https://localhost:8080/"
        },
        "id": "7uNGIF0ziJaX",
        "outputId": "96533978-664f-420a-9c9f-694bf486d674"
      },
      "execution_count": null,
      "outputs": [
        {
          "output_type": "stream",
          "name": "stdout",
          "text": [
            "Panjang chunk pertama: 264 karakter\n",
            "\n",
            "Contoh chunk pertama:\n",
            "Copyright © 2025 Pearson Education, Inc. or its affiliates(s). All rights reserved.\n",
            "1. AI Problem Definition\n",
            "1.1 Identify the problem you are trying to solve using AI (e.g., user \n",
            "segmentation, improving customer service)\n",
            "• Identify the need that will be addressed\n"
          ]
        }
      ]
    },
    {
      "cell_type": "markdown",
      "source": [
        "## Proses ke 3 - Embedding"
      ],
      "metadata": {
        "id": "3cCRgGgexjnc"
      }
    },
    {
      "cell_type": "markdown",
      "source": [
        "Membuat Embedding setelah melakukan Chunking."
      ],
      "metadata": {
        "id": "Sf2antgQ489n"
      }
    },
    {
      "cell_type": "code",
      "source": [
        "from langchain_google_genai import GoogleGenerativeAIEmbeddings\n",
        "\n",
        "embedding_model = GoogleGenerativeAIEmbeddings(google_api_key=api_key, model=\"models/embedding-001\")"
      ],
      "metadata": {
        "id": "2XINgy-y3tnn"
      },
      "execution_count": null,
      "outputs": []
    },
    {
      "cell_type": "code",
      "source": [
        "embedding_model.embed_query(\"halo nama saya sardi irfansyah\")"
      ],
      "metadata": {
        "colab": {
          "base_uri": "https://localhost:8080/"
        },
        "collapsed": true,
        "id": "Uo7NehP5H6aZ",
        "outputId": "f2997e25-dbcd-4d30-c80f-877f19c6d93e"
      },
      "execution_count": null,
      "outputs": [
        {
          "output_type": "execute_result",
          "data": {
            "text/plain": [
              "[0.03521261364221573,\n",
              " 0.01966172084212303,\n",
              " -0.07645478844642639,\n",
              " 0.038710817694664,\n",
              " 0.039510320872068405,\n",
              " 0.023734871298074722,\n",
              " 0.020717380568385124,\n",
              " -0.03705525025725365,\n",
              " -0.003651504870504141,\n",
              " 0.004835625644773245,\n",
              " 0.0193785447627306,\n",
              " 0.017872123047709465,\n",
              " -0.07380163669586182,\n",
              " -0.040347784757614136,\n",
              " -0.056593429297208786,\n",
              " 0.024514134973287582,\n",
              " 0.0408610962331295,\n",
              " -0.04113294929265976,\n",
              " 0.013859566301107407,\n",
              " -0.027282433584332466,\n",
              " -0.00962763000279665,\n",
              " 0.006484580226242542,\n",
              " -0.010257336311042309,\n",
              " -0.058877650648355484,\n",
              " 0.015292790718376637,\n",
              " 0.006248072255402803,\n",
              " -0.010633985511958599,\n",
              " -0.06691750138998032,\n",
              " -0.0690121278166771,\n",
              " 0.08077341318130493,\n",
              " 0.026047147810459137,\n",
              " 0.027229640632867813,\n",
              " -0.09377671033143997,\n",
              " 0.011227676644921303,\n",
              " -0.01789574697613716,\n",
              " -0.019316978752613068,\n",
              " 0.019062280654907227,\n",
              " 0.03901186212897301,\n",
              " 0.05258435010910034,\n",
              " -0.03448620066046715,\n",
              " 0.022909214720129967,\n",
              " -0.02484147809445858,\n",
              " 0.006892734207212925,\n",
              " -0.06891675293445587,\n",
              " 0.02045169286429882,\n",
              " -0.03365239128470421,\n",
              " -0.015466954559087753,\n",
              " -0.025449402630329132,\n",
              " 0.026156580075621605,\n",
              " -0.042908694595098495,\n",
              " 0.0077362763695418835,\n",
              " -0.010627588257193565,\n",
              " -0.005142167676240206,\n",
              " -0.019682137295603752,\n",
              " 0.03395584225654602,\n",
              " 0.017069444060325623,\n",
              " 0.010489470325410366,\n",
              " 0.025192266330122948,\n",
              " -0.024314962327480316,\n",
              " -0.011229840107262135,\n",
              " 0.03694770857691765,\n",
              " 0.05189531296491623,\n",
              " 0.013512796722352505,\n",
              " 0.048904504626989365,\n",
              " -0.01924648880958557,\n",
              " -0.06319806724786758,\n",
              " -0.041157010942697525,\n",
              " -0.011683681979775429,\n",
              " 0.05129566416144371,\n",
              " -0.026065614074468613,\n",
              " 0.04797046631574631,\n",
              " -0.05305733159184456,\n",
              " 0.06077319383621216,\n",
              " 0.03432435914874077,\n",
              " -0.036158423870801926,\n",
              " -0.11031706631183624,\n",
              " -0.033453524112701416,\n",
              " 0.03183799982070923,\n",
              " -0.03387484699487686,\n",
              " 0.0125895906239748,\n",
              " -0.046094320714473724,\n",
              " -0.0617748498916626,\n",
              " -0.06050997972488403,\n",
              " -0.03415077552199364,\n",
              " -0.06618233770132065,\n",
              " 0.0336247943341732,\n",
              " 0.008425123058259487,\n",
              " 0.029482869431376457,\n",
              " 0.011109224520623684,\n",
              " 0.010808354243636131,\n",
              " -0.009975879453122616,\n",
              " -0.028628017753362656,\n",
              " -0.017019547522068024,\n",
              " -0.07482068240642548,\n",
              " -0.008334687910974026,\n",
              " 0.04921203479170799,\n",
              " 0.004269079305231571,\n",
              " -0.11227201670408249,\n",
              " 0.013184485957026482,\n",
              " -0.047963522374629974,\n",
              " -0.01948120817542076,\n",
              " -0.021594762802124023,\n",
              " 0.009885822422802448,\n",
              " -0.03294837847352028,\n",
              " -0.023687882348895073,\n",
              " -0.0030517729464918375,\n",
              " 0.010925760492682457,\n",
              " 0.042131852358579636,\n",
              " -0.03645269572734833,\n",
              " 0.01614406146109104,\n",
              " -0.04556868225336075,\n",
              " 0.046704795211553574,\n",
              " -0.013753953389823437,\n",
              " -0.032039448618888855,\n",
              " 0.017053954303264618,\n",
              " 0.010961994528770447,\n",
              " 0.04029712453484535,\n",
              " 0.045297227799892426,\n",
              " 0.0013456031447276473,\n",
              " 0.032664909958839417,\n",
              " 0.010641270317137241,\n",
              " 0.0072227404452860355,\n",
              " 0.039970509707927704,\n",
              " 0.041590698063373566,\n",
              " 0.04315854236483574,\n",
              " 0.0015872049843892455,\n",
              " -0.027506554499268532,\n",
              " 0.023765094578266144,\n",
              " 0.06425395607948303,\n",
              " 0.04317552596330643,\n",
              " -0.03586309030652046,\n",
              " 0.007021637167781591,\n",
              " 9.143282659351826e-05,\n",
              " 0.03546511009335518,\n",
              " 0.007902413606643677,\n",
              " 0.05065318942070007,\n",
              " 0.03432046249508858,\n",
              " -0.03197481483221054,\n",
              " 0.02038753591477871,\n",
              " 0.024134257808327675,\n",
              " -0.030421845614910126,\n",
              " 0.049370456486940384,\n",
              " -0.0071835508570075035,\n",
              " 0.035159315913915634,\n",
              " -0.01811240427196026,\n",
              " 0.0063697583973407745,\n",
              " 0.017322106286883354,\n",
              " -0.020551102235913277,\n",
              " 0.0775555744767189,\n",
              " 0.009860820136964321,\n",
              " 0.05218389630317688,\n",
              " -0.06737730652093887,\n",
              " -0.0521879717707634,\n",
              " 0.01939896121621132,\n",
              " 0.045062486082315445,\n",
              " 0.020593781024217606,\n",
              " 0.0025224550627171993,\n",
              " 0.005913482513278723,\n",
              " 0.01055400725454092,\n",
              " -0.024819759652018547,\n",
              " 0.041946034878492355,\n",
              " -0.010583295486867428,\n",
              " 0.05424444004893303,\n",
              " -0.00692378357052803,\n",
              " -0.004361455794423819,\n",
              " -0.04605502635240555,\n",
              " 0.028627024963498116,\n",
              " -0.04085439443588257,\n",
              " 0.04416070505976677,\n",
              " 0.0009568969835527241,\n",
              " -0.01989426650106907,\n",
              " -0.00485030235722661,\n",
              " -0.06696109473705292,\n",
              " -0.04564671218395233,\n",
              " -0.030431469902396202,\n",
              " -0.05431002750992775,\n",
              " 0.03981361910700798,\n",
              " -0.009465356357395649,\n",
              " -0.043646715581417084,\n",
              " 0.001680687884800136,\n",
              " -0.04865552484989166,\n",
              " -0.016069544479250908,\n",
              " -0.013517584651708603,\n",
              " -0.012221877463161945,\n",
              " 0.04317346587777138,\n",
              " -0.027330785989761353,\n",
              " 0.052686940878629684,\n",
              " -0.033002953976392746,\n",
              " -0.04876820370554924,\n",
              " -0.02045266702771187,\n",
              " -0.016803469508886337,\n",
              " 0.009725712239742279,\n",
              " 0.01867690496146679,\n",
              " -0.017736056819558144,\n",
              " -0.039977360516786575,\n",
              " 0.020283017307519913,\n",
              " -0.003162015462294221,\n",
              " 0.03704015165567398,\n",
              " 0.027095507830381393,\n",
              " 0.02046767808496952,\n",
              " -0.024303622543811798,\n",
              " 0.011921621859073639,\n",
              " -0.0172274112701416,\n",
              " -0.02361900918185711,\n",
              " 0.04962557554244995,\n",
              " -0.020536096766591072,\n",
              " 0.05578461289405823,\n",
              " -0.054260510951280594,\n",
              " 0.00031703649437986314,\n",
              " 0.040609680116176605,\n",
              " -0.020317677408456802,\n",
              " 0.023472383618354797,\n",
              " -0.02570229396224022,\n",
              " 0.014454235322773457,\n",
              " 0.01465605478733778,\n",
              " 0.012429503723978996,\n",
              " -0.04689807444810867,\n",
              " 0.03296327590942383,\n",
              " 0.010772518813610077,\n",
              " -0.04158123582601547,\n",
              " 0.021759312599897385,\n",
              " -0.005742480978369713,\n",
              " -0.014012333005666733,\n",
              " 0.015039434656500816,\n",
              " 0.02673565223813057,\n",
              " 0.03949006274342537,\n",
              " 0.011517156846821308,\n",
              " 0.014550488442182541,\n",
              " 0.03053545579314232,\n",
              " -0.04877764731645584,\n",
              " 0.0031252331100404263,\n",
              " 0.05830306187272072,\n",
              " -0.014817743562161922,\n",
              " -0.038957878947257996,\n",
              " 0.037439167499542236,\n",
              " -0.03388651832938194,\n",
              " 0.01946287415921688,\n",
              " -0.012043233029544353,\n",
              " 0.033739279955625534,\n",
              " 0.05810287594795227,\n",
              " -0.050852127373218536,\n",
              " 0.028776785358786583,\n",
              " 0.004222194664180279,\n",
              " 0.06074007228016853,\n",
              " -0.042769379913806915,\n",
              " -0.0409129299223423,\n",
              " -0.02247856929898262,\n",
              " 0.022415615618228912,\n",
              " -0.03103928454220295,\n",
              " 0.004532724618911743,\n",
              " 0.03159285709261894,\n",
              " -0.01318130549043417,\n",
              " 0.019388439133763313,\n",
              " 0.019542772322893143,\n",
              " -0.045733775943517685,\n",
              " 0.05168142542243004,\n",
              " -0.09059789031744003,\n",
              " 0.018382281064987183,\n",
              " 0.017091311514377594,\n",
              " 0.0005598586285486817,\n",
              " 0.04278160631656647,\n",
              " 0.0020508032757788897,\n",
              " -0.013310895301401615,\n",
              " 0.051569703966379166,\n",
              " 0.022942176088690758,\n",
              " 0.014961381442844868,\n",
              " -0.004491352941840887,\n",
              " -0.0820847749710083,\n",
              " -0.015217088162899017,\n",
              " -0.01853611320257187,\n",
              " 0.03575063496828079,\n",
              " -0.0047625587321817875,\n",
              " 0.09289845079183578,\n",
              " -0.008868229575455189,\n",
              " -0.04454858601093292,\n",
              " 0.010865524411201477,\n",
              " -0.021298885345458984,\n",
              " 0.06286569684743881,\n",
              " 0.02891996130347252,\n",
              " -0.050304606556892395,\n",
              " -0.01776968315243721,\n",
              " 0.03762471303343773,\n",
              " 0.014678538776934147,\n",
              " -0.059662431478500366,\n",
              " -0.012892790138721466,\n",
              " -0.015506205148994923,\n",
              " -0.065979965031147,\n",
              " -0.00427620206028223,\n",
              " -0.001484240056015551,\n",
              " -0.03996996954083443,\n",
              " -0.031555332243442535,\n",
              " -0.019729534164071083,\n",
              " 0.02628849446773529,\n",
              " 0.03821815177798271,\n",
              " -0.036505840718746185,\n",
              " 0.012517841532826424,\n",
              " -0.003135501407086849,\n",
              " -0.0023586517199873924,\n",
              " 0.009514158591628075,\n",
              " -0.0065832980908453465,\n",
              " 0.00889130774885416,\n",
              " -0.051305584609508514,\n",
              " 0.05250391364097595,\n",
              " -0.03235258162021637,\n",
              " -0.045492690056562424,\n",
              " 0.015511086210608482,\n",
              " -0.029564542695879936,\n",
              " -0.0641603171825409,\n",
              " -0.00305503373965621,\n",
              " -0.02837822213768959,\n",
              " -0.0420912429690361,\n",
              " -0.057877618819475174,\n",
              " -0.04761854186654091,\n",
              " -0.022920992225408554,\n",
              " 0.062146835029125214,\n",
              " 0.00813041627407074,\n",
              " -0.060412708669900894,\n",
              " 0.02843085676431656,\n",
              " -0.029243532568216324,\n",
              " -0.0009767732117325068,\n",
              " 0.03014412522315979,\n",
              " 0.06537317484617233,\n",
              " 0.04946453496813774,\n",
              " 0.039100438356399536,\n",
              " -0.0031759587582200766,\n",
              " -0.0117642255499959,\n",
              " -0.008098272606730461,\n",
              " 0.022739732638001442,\n",
              " -0.044361963868141174,\n",
              " -0.006932979449629784,\n",
              " -0.014313425868749619,\n",
              " 0.018432701006531715,\n",
              " -0.03553220257163048,\n",
              " -0.0012972053373232484,\n",
              " 0.05003228411078453,\n",
              " 0.0406026653945446,\n",
              " -0.0764465257525444,\n",
              " 0.0008160241413861513,\n",
              " -0.0996670126914978,\n",
              " -0.018037904053926468,\n",
              " 0.009387774392962456,\n",
              " 0.0018174443393945694,\n",
              " -0.05876271799206734,\n",
              " -0.054584257304668427,\n",
              " -0.012749974615871906,\n",
              " 0.009399154223501682,\n",
              " -0.013360480777919292,\n",
              " 0.034027326852083206,\n",
              " 0.008319209329783916,\n",
              " -0.007171292789280415,\n",
              " 0.04168214276432991,\n",
              " 0.0712829977273941,\n",
              " -0.03743336349725723,\n",
              " 0.03626052662730217,\n",
              " 0.012342650443315506,\n",
              " -0.04920696094632149,\n",
              " 0.08017923682928085,\n",
              " 0.024262676015496254,\n",
              " 0.034190282225608826,\n",
              " -0.0015337469521909952,\n",
              " -0.02264709584414959,\n",
              " 0.01944975182414055,\n",
              " -0.02887110970914364,\n",
              " -0.025782357901334763,\n",
              " -0.009395004250109196,\n",
              " -0.003761658910661936,\n",
              " 0.024948276579380035,\n",
              " 0.024967562407255173,\n",
              " -0.013484898954629898,\n",
              " 0.037904880940914154,\n",
              " 0.020832812413573265,\n",
              " -0.052306853234767914,\n",
              " 0.02618158422410488,\n",
              " -0.05425913259387016,\n",
              " 0.011081041768193245,\n",
              " -0.040779124945402145,\n",
              " 0.010901100002229214,\n",
              " -0.019419897347688675,\n",
              " 0.011574830859899521,\n",
              " -0.04126263037323952,\n",
              " -0.04300631955265999,\n",
              " -0.038674261420965195,\n",
              " 0.026826037093997,\n",
              " -0.05630581080913544,\n",
              " 0.031342729926109314,\n",
              " -0.007952754385769367,\n",
              " 0.03529324755072594,\n",
              " -0.006707899738103151,\n",
              " 0.019173409789800644,\n",
              " 0.028149457648396492,\n",
              " -0.007113764062523842,\n",
              " 0.025454971939325333,\n",
              " 0.06190253049135208,\n",
              " 0.01006708387285471,\n",
              " 0.006773353088647127,\n",
              " -0.012332670390605927,\n",
              " -0.06644202023744583,\n",
              " -0.04883360490202904,\n",
              " 0.04492658004164696,\n",
              " -0.027081195265054703,\n",
              " -0.0197813268750906,\n",
              " -0.03202133625745773,\n",
              " -0.021257532760500908,\n",
              " -0.04957159236073494,\n",
              " -0.048275839537382126,\n",
              " -0.04176856949925423,\n",
              " 9.999000030802563e-05,\n",
              " -0.037018902599811554,\n",
              " -0.02931242249906063,\n",
              " -0.020591476932168007,\n",
              " -0.001663941890001297,\n",
              " 0.017806701362133026,\n",
              " -0.008671583607792854,\n",
              " -0.0782553106546402,\n",
              " -0.0372040830552578,\n",
              " -0.04294402524828911,\n",
              " 0.06915044039487839,\n",
              " 0.0054571921937167645,\n",
              " -0.006703562568873167,\n",
              " 0.027544543147087097,\n",
              " 0.00699605792760849,\n",
              " 0.012806283310055733,\n",
              " -0.005854482296854258,\n",
              " -0.008134644478559494,\n",
              " -0.04445643723011017,\n",
              " -0.01980730891227722,\n",
              " 0.01755387708544731,\n",
              " -0.003976483829319477,\n",
              " -0.018521690741181374,\n",
              " 0.037957824766635895,\n",
              " 0.026266975328326225,\n",
              " 0.03754996135830879,\n",
              " 0.0285196416079998,\n",
              " -0.008876288309693336,\n",
              " -0.003786033019423485,\n",
              " -0.05979195982217789,\n",
              " -0.014969335868954659,\n",
              " 0.05425621196627617,\n",
              " -0.002528697717934847,\n",
              " -0.02295706979930401,\n",
              " 0.04432997107505798,\n",
              " 0.0010717379627749324,\n",
              " 0.010343377478420734,\n",
              " -0.021336888894438744,\n",
              " 0.01080030295997858,\n",
              " -0.028252918273210526,\n",
              " -0.041383046656847,\n",
              " -0.004914951045066118,\n",
              " 0.007582624442875385,\n",
              " -0.05899018049240112,\n",
              " 0.006185486912727356,\n",
              " -0.06095832213759422,\n",
              " 0.04104829207062721,\n",
              " -0.0354258269071579,\n",
              " 0.0018942274618893862,\n",
              " -0.046364717185497284,\n",
              " -0.04672054573893547,\n",
              " 0.05283862352371216,\n",
              " 0.002392309019342065,\n",
              " 0.02001359686255455,\n",
              " -0.05403002351522446,\n",
              " -0.03210778906941414,\n",
              " -0.005079729948192835,\n",
              " -0.04906269162893295,\n",
              " 0.021465769037604332,\n",
              " -0.011116204783320427,\n",
              " -0.0041695162653923035,\n",
              " 0.006886712275445461,\n",
              " 0.03516237437725067,\n",
              " 0.008866199292242527,\n",
              " 0.020917152985930443,\n",
              " -0.033389464020729065,\n",
              " 0.010080698877573013,\n",
              " -0.002473702421411872,\n",
              " -0.005494053941220045,\n",
              " 0.011301599442958832,\n",
              " -0.09038946032524109,\n",
              " -0.021516570821404457,\n",
              " -0.008876247331500053,\n",
              " 0.0160535741597414,\n",
              " 0.009344450198113918,\n",
              " -0.010365151800215244,\n",
              " 0.03278186172246933,\n",
              " 0.016541030257940292,\n",
              " -0.00038030059658922255,\n",
              " 0.003425301518291235,\n",
              " 0.00231053214520216,\n",
              " -0.024930603802204132,\n",
              " -0.06589671969413757,\n",
              " 0.039565566927194595,\n",
              " 0.020225316286087036,\n",
              " 0.024431614205241203,\n",
              " -0.017025606706738472,\n",
              " -0.0260226521641016,\n",
              " -0.030804749578237534,\n",
              " 0.0324862077832222,\n",
              " -0.0593784935772419,\n",
              " -0.010175460949540138,\n",
              " 0.034694816917181015,\n",
              " 0.028428539633750916,\n",
              " -0.02060733735561371,\n",
              " -0.0123856570571661,\n",
              " -0.023468811064958572,\n",
              " -0.009210996329784393,\n",
              " -0.02263122797012329,\n",
              " -0.1167539656162262,\n",
              " -0.012284796684980392,\n",
              " 0.016606343910098076,\n",
              " -0.004482882097363472,\n",
              " 0.011713474057614803,\n",
              " -0.004501078277826309,\n",
              " -0.0029127353336662054,\n",
              " 0.02612396329641342,\n",
              " 0.009585827589035034,\n",
              " 0.08698076009750366,\n",
              " 0.008612033911049366,\n",
              " -0.005586202722042799,\n",
              " 0.00631092581897974,\n",
              " 0.018013864755630493,\n",
              " -0.008356335572898388,\n",
              " 0.07788701355457306,\n",
              " 0.0003868641797453165,\n",
              " -0.07339253276586533,\n",
              " 0.0025492196436971426,\n",
              " 0.025497255846858025,\n",
              " -0.06964677572250366,\n",
              " 0.013159709982573986,\n",
              " 0.024209201335906982,\n",
              " -0.04195684939622879,\n",
              " 0.01620069518685341,\n",
              " 0.04360385984182358,\n",
              " 0.07721225172281265,\n",
              " -0.07164811342954636,\n",
              " 0.02975066564977169,\n",
              " 0.0074861785396933556,\n",
              " 0.013268121518194675,\n",
              " 0.012914331629872322,\n",
              " 0.061742737889289856,\n",
              " 0.003262390149757266,\n",
              " -0.03903965279459953,\n",
              " 0.021139338612556458,\n",
              " -0.023371413350105286,\n",
              " 0.023665914312005043,\n",
              " 0.05613888427615166,\n",
              " 0.024993740022182465,\n",
              " 0.0022181840613484383,\n",
              " 0.01666465401649475,\n",
              " -0.09004579484462738,\n",
              " 0.0010046339593827724,\n",
              " -0.0021784710697829723,\n",
              " 0.004937821067869663,\n",
              " -0.02445509098470211,\n",
              " 0.03994966298341751,\n",
              " -0.04739711061120033,\n",
              " 0.03632606193423271,\n",
              " -0.0008557350956834853,\n",
              " -0.04377042502164841,\n",
              " -0.006754553876817226,\n",
              " 0.10474809259176254,\n",
              " -0.006178632844239473,\n",
              " 0.022948533296585083,\n",
              " -0.026378126814961433,\n",
              " 0.010247287340462208,\n",
              " -0.06050334870815277,\n",
              " 0.07410431653261185,\n",
              " 0.025440672412514687,\n",
              " -0.002408175263553858,\n",
              " -0.032720282673835754,\n",
              " 0.04780413210391998,\n",
              " 0.008493160828948021,\n",
              " 0.010394756682217121,\n",
              " 0.02151150070130825,\n",
              " -0.021188320592045784,\n",
              " -0.028074711561203003,\n",
              " -0.011168316937983036,\n",
              " -0.06453582644462585,\n",
              " -0.0288617555052042,\n",
              " 0.06139867752790451,\n",
              " -0.014380968175828457,\n",
              " -0.022366410121321678,\n",
              " 0.0368005745112896,\n",
              " -0.004029794596135616,\n",
              " 0.021257266402244568,\n",
              " 0.05402490124106407,\n",
              " -0.03245343267917633,\n",
              " 0.03675026819109917,\n",
              " 0.03583274036645889,\n",
              " -0.008560743182897568,\n",
              " 0.031061938032507896,\n",
              " 0.009139548987150192,\n",
              " -0.01237430702894926,\n",
              " 0.057053469121456146,\n",
              " -0.04774140939116478,\n",
              " 0.01759921945631504,\n",
              " -0.010897413827478886,\n",
              " 0.02437613159418106,\n",
              " -0.024509046226739883,\n",
              " 0.03547507897019386,\n",
              " 0.017839163541793823,\n",
              " -0.01812015101313591,\n",
              " 0.052074603736400604,\n",
              " -0.005894113332033157,\n",
              " 0.05770719051361084,\n",
              " -0.0013490939745679498,\n",
              " 0.040996845811605453,\n",
              " -0.020898351445794106,\n",
              " -0.07226308435201645,\n",
              " 0.031060148030519485,\n",
              " -0.006865945644676685,\n",
              " 0.03356451913714409,\n",
              " -0.026104573160409927,\n",
              " 0.00390763720497489,\n",
              " -0.008103396743535995,\n",
              " 0.025740569457411766,\n",
              " -0.05534640699625015,\n",
              " -0.04146244376897812,\n",
              " 0.049811892211437225,\n",
              " 0.00688144052401185,\n",
              " -0.02077254094183445,\n",
              " -0.06205575168132782,\n",
              " 0.028759898617863655,\n",
              " -0.0027733976021409035,\n",
              " -0.011933260597288609,\n",
              " 0.03871029615402222,\n",
              " 0.050547800958156586,\n",
              " 0.029970543459057808,\n",
              " -0.045750364661216736,\n",
              " -0.05418715253472328,\n",
              " 0.04115965589880943,\n",
              " 0.03112509474158287,\n",
              " 0.053145356476306915,\n",
              " 0.03944265842437744,\n",
              " -0.005908752325922251,\n",
              " 0.007472289260476828,\n",
              " -0.032042790204286575,\n",
              " -0.027169061824679375,\n",
              " 0.01519394014030695,\n",
              " 0.017179682850837708,\n",
              " 0.016947370022535324,\n",
              " 0.0073888907209038734,\n",
              " -0.0782988891005516,\n",
              " -0.04390931501984596,\n",
              " 0.004984249360859394,\n",
              " -0.010684908367693424,\n",
              " -0.002376094926148653,\n",
              " 0.058299701660871506,\n",
              " 0.014108959585428238,\n",
              " -0.05870188772678375,\n",
              " -0.015981921926140785,\n",
              " -0.015897752717137337,\n",
              " -0.011206354014575481,\n",
              " 0.03175336495041847,\n",
              " -0.01089584268629551,\n",
              " -0.012020690366625786,\n",
              " -0.006819704547524452,\n",
              " 8.093510405160487e-05,\n",
              " -0.02081312984228134,\n",
              " -0.020006220787763596,\n",
              " 0.028200022876262665,\n",
              " -0.05256650596857071,\n",
              " 0.0024533236864954233,\n",
              " -0.0028364728204905987,\n",
              " 0.001122412271797657,\n",
              " -0.03581175580620766,\n",
              " 0.038747549057006836,\n",
              " -0.039819538593292236,\n",
              " -0.07079467177391052,\n",
              " -0.07621175795793533,\n",
              " 0.048534564673900604,\n",
              " 0.03308059275150299,\n",
              " -0.07106718420982361,\n",
              " 0.029650496318936348,\n",
              " -0.015180420130491257,\n",
              " -0.03677551820874214,\n",
              " 0.01121645886451006,\n",
              " 0.03427591919898987,\n",
              " -0.020057497546076775,\n",
              " 0.0630360096693039,\n",
              " -0.058942269533872604,\n",
              " 0.022681133821606636,\n",
              " -0.00482096616178751,\n",
              " -0.06833995133638382,\n",
              " 0.010008977726101875,\n",
              " -0.039127446711063385,\n",
              " 0.012245772406458855,\n",
              " 0.027231119573116302,\n",
              " 0.04406390339136124,\n",
              " -0.020100029185414314,\n",
              " -0.030099159106612206,\n",
              " 0.01872163824737072,\n",
              " 0.03218219429254532,\n",
              " -0.0027496477123349905,\n",
              " -0.013138399459421635,\n",
              " 0.023988252505660057,\n",
              " 0.038135699927806854,\n",
              " 0.03929105028510094,\n",
              " 0.00026410981081426144,\n",
              " 0.05082361772656441,\n",
              " 0.03360782563686371,\n",
              " 0.016730530187487602,\n",
              " -0.04014930874109268,\n",
              " -0.03638094291090965,\n",
              " -0.027190152555704117,\n",
              " 0.007432341109961271,\n",
              " -0.013937480747699738,\n",
              " 0.007857716642320156,\n",
              " -0.00038271694211289287,\n",
              " 0.004959209356456995,\n",
              " 0.027783451601862907,\n",
              " 0.08095020800828934,\n",
              " 0.04295119643211365,\n",
              " -0.03369645029306412,\n",
              " -0.05426245555281639,\n",
              " 0.056904252618551254,\n",
              " 0.04073811694979668,\n",
              " -0.04849750176072121,\n",
              " 0.023880543187260628,\n",
              " -0.0020072225015610456,\n",
              " -0.027861719951033592,\n",
              " 0.0478210411965847,\n",
              " 0.005955037195235491,\n",
              " 0.008829413913190365,\n",
              " 0.055676985532045364,\n",
              " -0.04435408115386963,\n",
              " -0.038176506757736206,\n",
              " 0.05480267107486725,\n",
              " -0.05872756987810135,\n",
              " -0.005086093209683895,\n",
              " -0.03196772187948227,\n",
              " 0.003228806657716632,\n",
              " 0.0871356949210167,\n",
              " 0.001501968246884644,\n",
              " -0.004823459777981043,\n",
              " 0.05978039652109146,\n",
              " -0.043281592428684235,\n",
              " 0.040474098175764084,\n",
              " -0.043756552040576935,\n",
              " 0.03797389939427376,\n",
              " 0.016153812408447266,\n",
              " -0.10089751332998276,\n",
              " -0.07035861164331436,\n",
              " 0.02910003624856472,\n",
              " 0.03696892783045769,\n",
              " 0.03907361254096031,\n",
              " -0.005106450989842415,\n",
              " -0.10315307974815369,\n",
              " -0.006166015285998583,\n",
              " 0.019853584468364716,\n",
              " -0.00020132161444053054,\n",
              " -0.03770593926310539,\n",
              " -0.059813421219587326,\n",
              " 0.029580455273389816,\n",
              " -0.01217534951865673,\n",
              " 0.053049229085445404,\n",
              " 0.04725416749715805,\n",
              " 0.00011593890667427331,\n",
              " -0.005069615785032511,\n",
              " 0.0004712757363449782,\n",
              " -0.006675105541944504,\n",
              " 0.0034801398869603872,\n",
              " -0.04204695671796799,\n",
              " 0.008845128118991852,\n",
              " -0.010342312976717949,\n",
              " -0.00048028535093180835,\n",
              " -0.005863965954631567,\n",
              " -0.0005627099890261889,\n",
              " -0.05207519605755806,\n",
              " 0.011100522242486477]"
            ]
          },
          "metadata": {},
          "execution_count": 89
        }
      ]
    },
    {
      "cell_type": "markdown",
      "source": [
        "## Proses ke 4 - Vector Databases"
      ],
      "metadata": {
        "id": "0UMmS8_Rxocg"
      }
    },
    {
      "cell_type": "markdown",
      "source": [
        "Cek dokumentasi [vector store](https://python.langchain.com/docs/how_to/vectorstore_retriever/)."
      ],
      "metadata": {
        "id": "BcSUClmC5HMU"
      }
    },
    {
      "cell_type": "code",
      "source": [
        "from langchain_community.vectorstores import Chroma"
      ],
      "metadata": {
        "id": "1ba6UMAFId9z"
      },
      "execution_count": null,
      "outputs": []
    },
    {
      "cell_type": "code",
      "source": [
        "# Sematkan setiap chunk dan muat ke dalam chromadb\n",
        "db = Chroma.from_documents(chunks, embedding_model, persist_directory=\"chroma_db\")\n",
        "\n",
        "# Menyimpan perubahan ke disk\n",
        "db.persist()"
      ],
      "metadata": {
        "id": "uQXMJt3V5Hn_"
      },
      "execution_count": null,
      "outputs": []
    },
    {
      "cell_type": "code",
      "source": [
        "# mengatur koneksi untuk menghubungkan ke ChromaDB\n",
        "db_connection = Chroma(persist_directory=\"chroma_db\", embedding_function=embedding_model)"
      ],
      "metadata": {
        "id": "8jX0NFtX5ezK"
      },
      "execution_count": null,
      "outputs": []
    },
    {
      "cell_type": "code",
      "source": [
        "# Mengonversi koneksi Chroma menjadi objek retriever untuk pencarian dokumen berbasis vektor\n",
        "# Langkah pertama dalam RAG - Retrieval Augmented Gen\n",
        "retriever = db_connection.as_retriever(search_kwargs={\"k\": 10})\n",
        "\n",
        "print(type(retriever))"
      ],
      "metadata": {
        "colab": {
          "base_uri": "https://localhost:8080/"
        },
        "id": "JjLBoS_0DWnj",
        "outputId": "b8aa5b62-5769-4f77-e44f-593fefe8d4a5"
      },
      "execution_count": null,
      "outputs": [
        {
          "output_type": "stream",
          "name": "stdout",
          "text": [
            "<class 'langchain_core.vectorstores.base.VectorStoreRetriever'>\n"
          ]
        }
      ]
    },
    {
      "cell_type": "markdown",
      "source": [
        "`k` adalah parameter yang digunakan dalam fungsi as_retriever() untuk menentukan jumlah hasil pencarian teratas (top-k) yang akan diambil dari basis data vektor (Chroma database).\n",
        "\n",
        "Parameter ini digunakan dalam proses pencarian dokumen relevan yang mengacu pada jumlah dokumen atau chunk yang akan diambil dari kumpulan dokumen yang lebih besar (misalnya, dari Chroma vector store) berdasarkan kesamaan atau kedekatannya dengan pertanyaan yang diajukan.\n",
        "\n",
        "> Nilai k umumnya lebih kecil dari total chunk.\n",
        "\n"
      ],
      "metadata": {
        "id": "8JeHWwPTydZS"
      }
    },
    {
      "cell_type": "code",
      "source": [
        "check_response = retriever.invoke(\"whats skill needed for AI certification\")\n",
        "len(check_response)"
      ],
      "metadata": {
        "colab": {
          "base_uri": "https://localhost:8080/"
        },
        "id": "0xgjpoCEyTbh",
        "outputId": "71bc2f52-b8e3-4ba6-af38-e486bd8ca73c"
      },
      "execution_count": null,
      "outputs": [
        {
          "output_type": "execute_result",
          "data": {
            "text/plain": [
              "10"
            ]
          },
          "metadata": {},
          "execution_count": 107
        }
      ]
    },
    {
      "cell_type": "code",
      "source": [
        "md(check_response[1].page_content)"
      ],
      "metadata": {
        "colab": {
          "base_uri": "https://localhost:8080/",
          "height": 81
        },
        "id": "vN-KIM46zhLA",
        "outputId": "0907c0a4-eb6d-49f8-931e-712f1712dad2"
      },
      "execution_count": null,
      "outputs": [
        {
          "output_type": "execute_result",
          "data": {
            "text/plain": [
              "<IPython.core.display.Markdown object>"
            ],
            "text/markdown": "security, and ethics of AI.  Successful candidates will be able to analyze and classify a problem. They should \nbe able to demonstrate knowledge of data collection, data processing, and feature engineering strategies. \nCandidates should be able to choose an appropriate algorithm for training a model, and understand the \nmetrics used to evaluate model performance. They should understand the AI development lifecycle and"
          },
          "metadata": {},
          "execution_count": 109
        }
      ]
    },
    {
      "cell_type": "markdown",
      "source": [
        "## Langkah 5 Prepare RAG system"
      ],
      "metadata": {
        "id": "ssrSfilNzV90"
      }
    },
    {
      "cell_type": "markdown",
      "source": [
        "Dokumnetasi [Prompt templates](https://python.langchain.com/docs/concepts/prompt_templates/)."
      ],
      "metadata": {
        "id": "yEXuR_L61Zgx"
      }
    },
    {
      "cell_type": "code",
      "source": [
        "from langchain_core.messages import SystemMessage\n",
        "from langchain_core.prompts import ChatPromptTemplate, HumanMessagePromptTemplate"
      ],
      "metadata": {
        "id": "0mXQhAqDDYqM"
      },
      "execution_count": null,
      "outputs": []
    },
    {
      "cell_type": "code",
      "source": [
        "# Membuat template pesan untuk sistem dan pesan pengguna\n",
        "# Proses ke 2 dalam RAG - Augmented\n",
        "chat_template = ChatPromptTemplate.from_messages([\n",
        "    # System Message Prompt Template\n",
        "    SystemMessage(content=\"\"\"\n",
        "    You are an AI that can answer questions based on context and user questions.\n",
        "    You have to answer user questions, based on context.\n",
        "    \"\"\"),\n",
        "\n",
        "    # Human Message Prompt Template\n",
        "    HumanMessagePromptTemplate.from_template(\"\"\"\n",
        "    Answer the following questions based on the context.\n",
        "    context: {context}\n",
        "    question: {question}\n",
        "    answer: \"\"\"\n",
        "    )\n",
        "])"
      ],
      "metadata": {
        "id": "kcT1coZUDmsH"
      },
      "execution_count": null,
      "outputs": []
    },
    {
      "cell_type": "code",
      "source": [
        "from langchain_core.output_parsers import StrOutputParser\n",
        "\n",
        "output_parser = StrOutputParser()"
      ],
      "metadata": {
        "id": "nZVzOLvYDo1n"
      },
      "execution_count": null,
      "outputs": []
    },
    {
      "cell_type": "code",
      "source": [
        "def format_docs(docs):\n",
        "    return \"\\n\\n\".join(doc.page_content for doc in docs)"
      ],
      "metadata": {
        "id": "hHQpNgNt2cXI"
      },
      "execution_count": null,
      "outputs": []
    },
    {
      "cell_type": "code",
      "source": [
        "md(format_docs(check_response))"
      ],
      "metadata": {
        "colab": {
          "base_uri": "https://localhost:8080/",
          "height": 539
        },
        "collapsed": true,
        "id": "Brp4Lvf1LELA",
        "outputId": "f476aff2-25c0-4710-9203-f1b780f28dc0"
      },
      "execution_count": null,
      "outputs": [
        {
          "output_type": "execute_result",
          "data": {
            "text/plain": [
              "<IPython.core.display.Markdown object>"
            ],
            "text/markdown": "metrics used to evaluate model performance. They should understand the AI development lifecycle and \nhow a production pipeline is used to allow for continuous improvement.  Candidates at least 150 hours of \ninstruction and/or exploration of artificial intelligence methodology and solutions.\n\nsecurity, and ethics of AI.  Successful candidates will be able to analyze and classify a problem. They should \nbe able to demonstrate knowledge of data collection, data processing, and feature engineering strategies. \nCandidates should be able to choose an appropriate algorithm for training a model, and understand the \nmetrics used to evaluate model performance. They should understand the AI development lifecycle and\n\nhow a production pipeline is used to allow for continuous improvement.  Candidates at least 150 hours of \ninstruction and/or exploration of artificial intelligence methodology and solutions.\n\n• Set guidelines for algorithm selection from user perspective\n• Consider how the subject of the data can interpret the results\n• Consider out-of-context use of AI results\nIT SPECIALIST EXAM OBJECTIVES\nArtificial Intelligence\nCandidates for this certification have a foundational knowledge the procedures used to develop an artificial \nintelligence (AI) solution, as well as an understanding of the issues surrounding the governance, transparency,\n\nbe able to demonstrate knowledge of data collection, data processing, and feature engineering strategies. \nCandidates should be able to choose an appropriate algorithm for training a model, and understand the\n\n• Consider how the subject of the data can interpret the results\n• Consider out-of-context use of AI results\nIT SPECIALIST EXAM OBJECTIVES\nArtificial Intelligence\nCandidates for this certification have a foundational knowledge the procedures used to develop an artificial\n\nintelligence (AI) solution, as well as an understanding of the issues surrounding the governance, transparency, \nsecurity, and ethics of AI.  Successful candidates will be able to analyze and classify a problem. They should\n\nCopyright © 2025 Pearson Education, Inc. or its affiliates(s). All rights reserved.\nIT SPECIALIST EXAM OBJECTIVES\n3. AI Algorithms and Models  \n3.1 Consider applicability of specific algorithms \n• Evaluate AI algorithm families\n• Decide which algorithms  are suitable, e.g., neural network, classification \n(like decision tree, k means)\n3.2 Train a model using the selected algorithm \n• Train model for an algorithm with best-guess starting parameters.\n• Tune the model by changing parameters\n\n• Determine problem type (e.g., classification, regression, unsupervised, \nreinforcement)\n1.3 Identify the areas of expertise needed to solve the problem\n• Identify business expertise required\n• Identify the need for domain (subject-matter) expertise on the problem\n• Identify AI expertise needed\n\n• Identify AI expertise needed\n• Identify implementation expertise needed\n1.4 Build a security plan\n• Consider internal access levels or permissions\n• Consider infrastructure security\n• Assess the risk of using a certain model or potential attack surfaces (e.g.,"
          },
          "metadata": {},
          "execution_count": 116
        }
      ]
    },
    {
      "cell_type": "code",
      "source": [
        "# # Setelah dokumen diambil oleh retriever dan di-format\n",
        "# formatted_docs = format_docs(chunks)  # Format dokumen yang dihasilkan dari text chunks\n",
        "\n",
        "# # Cetak hasil format\n",
        "# print(\"Hasil Format Docs:\")\n",
        "# print(formatted_docs)  # Menampilkan hasil setelah dokumen diformat"
      ],
      "metadata": {
        "id": "J9F_kjGxhoB0",
        "collapsed": true
      },
      "execution_count": null,
      "outputs": []
    },
    {
      "cell_type": "code",
      "source": [
        "from langchain_core.runnables import RunnablePassthrough\n",
        "\n",
        "rag_chain = (\n",
        "    {\"context\": retriever | format_docs, \"question\": RunnablePassthrough()}\n",
        "    | chat_template\n",
        "    | chat_model\n",
        "    | output_parser\n",
        ")\n"
      ],
      "metadata": {
        "id": "-vrZd5wuDqlV"
      },
      "execution_count": null,
      "outputs": []
    },
    {
      "cell_type": "code",
      "source": [
        "# Masuk proses ke 3 dalam RAG yaitu Generation\n",
        "response = rag_chain.invoke(\"\"\"\n",
        "whats component in Maintaining and Monitoring AI in Production\n",
        "\"\"\")\n",
        "\n",
        "md(response)"
      ],
      "metadata": {
        "colab": {
          "base_uri": "https://localhost:8080/",
          "height": 46
        },
        "id": "JdJOGcTODs0U",
        "outputId": "0b034d91-f1bf-4a67-8aec-e3bdfc738f91"
      },
      "execution_count": null,
      "outputs": [
        {
          "output_type": "execute_result",
          "data": {
            "text/plain": [
              "<IPython.core.display.Markdown object>"
            ],
            "text/markdown": "Engage in oversight, Support the AI solution, Consider improvement or decommission on a regular basis."
          },
          "metadata": {},
          "execution_count": 120
        }
      ]
    },
    {
      "cell_type": "code",
      "source": [
        "md(response)"
      ],
      "metadata": {
        "colab": {
          "base_uri": "https://localhost:8080/",
          "height": 475
        },
        "id": "8Fxlr1hlD9Ij",
        "outputId": "908aec90-ad63-4b50-fe57-00f2905a9c3d"
      },
      "execution_count": null,
      "outputs": [
        {
          "output_type": "execute_result",
          "data": {
            "text/plain": [
              "<IPython.core.display.Markdown object>"
            ],
            "text/markdown": "Untuk mendapatkan sertifikasi IT Specialist: AI dari Pearson VUE, kandidat harus memiliki pemahaman dasar tentang:\n\n* **Prosedur pengembangan solusi AI:**  Memahami langkah-langkah yang terlibat dalam siklus hidup pengembangan AI, termasuk pengumpulan data, pemrosesan data, rekayasa fitur, pemilihan algoritma, pelatihan model, evaluasi model, dan penerapan model.\n* **Tata kelola, transparansi, keamanan, dan etika AI:** Memahami isu-isu seputar penggunaan AI yang bertanggung jawab, termasuk cara mengidentifikasi dan mengurangi potensi bias, memastikan keadilan, dan melindungi privasi.\n* **Analisis dan klasifikasi masalah:** Kemampuan untuk menganalisis masalah dan mengklasifikasikannya untuk menentukan pendekatan AI yang tepat.\n* **Strategi pengumpulan dan pemrosesan data:**  Memahami berbagai teknik pengumpulan data dan cara memproses data mentah agar sesuai untuk pelatihan model AI.\n* **Rekayasa fitur:** Kemampuan untuk memilih, mengubah, atau membuat fitur yang relevan dari data mentah untuk meningkatkan kinerja model AI.\n* **Pemilihan dan pelatihan algoritma:** Kemampuan untuk memilih algoritma yang sesuai untuk masalah tertentu dan melatih model menggunakan algoritma yang dipilih. Memahami berbagai famili algoritma AI, seperti jaringan saraf tiruan dan algoritma klasifikasi (misalnya, pohon keputusan, k-means). Menyetel parameter model untuk mengoptimalkan kinerjanya.\n* **Metrik evaluasi model:** Memahami metrik yang digunakan untuk mengevaluasi kinerja model AI, seperti akurasi, presisi, dan recall.\n* **Siklus hidup pengembangan AI dan pipeline produksi:** Memahami bagaimana model AI diintegrasikan dan di-deploy ke dalam sistem produksi dan bagaimana pipeline produksi digunakan untuk memungkinkan peningkatan berkelanjutan.\n* **Dampak AI pada individu dan komunitas:** Kemampuan untuk menganalisis dan mengurangi dampak negatif potensial dari AI pada kelompok pengguna tertentu.\n* **Masukan pengguna:** Kemampuan untuk mengumpulkan dan menggabungkan masukan pengguna untuk meningkatkan model AI.\n* **Persyaratan sumber daya:** Kemampuan untuk mengidentifikasi dan menilai persyaratan sumber daya untuk proyek AI, seperti daya komputasi dan kompleksitas waktu.\n* **Keamanan:** Kemampuan untuk mengembangkan rencana keamanan untuk solusi AI.\n* **Penggunaan AI yang tepat:** Kemampuan untuk memastikan bahwa AI digunakan secara bertanggung jawab dan etis.\n* **Dokumentasi keputusan data:** Kemampuan untuk mendokumentasikan asumsi, predikat, dan batasan yang mendasari pilihan desain dan menyediakan informasi ini kepada regulator dan pengguna akhir.\n\n\nSelain pemahaman konseptual, kandidat juga harus memiliki setidaknya 150 jam instruksi dan/atau eksplorasi metodologi dan solusi kecerdasan buatan."
          },
          "metadata": {},
          "execution_count": 44
        }
      ]
    },
    {
      "cell_type": "markdown",
      "source": [
        "# Contoh lain"
      ],
      "metadata": {
        "id": "eq5k0hFWAiT8"
      }
    },
    {
      "cell_type": "markdown",
      "source": [
        "misalkan pada contoh ini kita akan mencoba menerapkan RAG\n",
        "dengan `RecursiveCharacterTextSplitter` dan `PromptTemplate`."
      ],
      "metadata": {
        "id": "D3kQ307BTu0I"
      }
    },
    {
      "cell_type": "code",
      "source": [
        "# Instalasi dependensi yang dibutuhkan\n",
        "!pip install -q langchain PyPDF2 #python-dotenv"
      ],
      "metadata": {
        "id": "LcDeiZVWD5jb",
        "colab": {
          "base_uri": "https://localhost:8080/"
        },
        "outputId": "5e7ddf52-fdd6-4358-91f9-d4d9f60d0166"
      },
      "execution_count": null,
      "outputs": [
        {
          "output_type": "stream",
          "name": "stdout",
          "text": [
            "\u001b[?25l   \u001b[90m━━━━━━━━━━━━━━━━━━━━━━━━━━━━━━━━━━━━━━━━\u001b[0m \u001b[32m0.0/232.6 kB\u001b[0m \u001b[31m?\u001b[0m eta \u001b[36m-:--:--\u001b[0m\r\u001b[2K   \u001b[91m━━━━━━━━━━━━\u001b[0m\u001b[90m╺\u001b[0m\u001b[90m━━━━━━━━━━━━━━━━━━━━━━━━━━━\u001b[0m \u001b[32m71.7/232.6 kB\u001b[0m \u001b[31m2.2 MB/s\u001b[0m eta \u001b[36m0:00:01\u001b[0m\r\u001b[2K   \u001b[90m━━━━━━━━━━━━━━━━━━━━━━━━━━━━━━━━━━━━━━━━\u001b[0m \u001b[32m232.6/232.6 kB\u001b[0m \u001b[31m3.3 MB/s\u001b[0m eta \u001b[36m0:00:00\u001b[0m\n",
            "\u001b[?25h"
          ]
        }
      ]
    },
    {
      "cell_type": "code",
      "source": [
        "import os\n",
        "import io\n",
        "import PyPDF2\n",
        "from langchain.prompts import PromptTemplate\n",
        "from langchain.chains.question_answering import load_qa_chain\n",
        "from langchain.text_splitter import RecursiveCharacterTextSplitter\n",
        "from langchain.vectorstores import Chroma\n",
        "from langchain_google_genai import GoogleGenerativeAIEmbeddings, ChatGoogleGenerativeAI\n",
        "# from dotenv import load_dotenv\n",
        "from google.colab import files\n",
        "from IPython.display import Markdown as md"
      ],
      "metadata": {
        "id": "vhPusQHlG4bo"
      },
      "execution_count": null,
      "outputs": []
    },
    {
      "cell_type": "code",
      "source": [
        "# Membuka dan membaca file PDF\n",
        "with open('/content/ai_pv.pdf', \"rb\") as file:\n",
        "    pdf_reader = PyPDF2.PdfReader(file)\n",
        "    pdf_pages = pdf_reader.pages\n",
        "\n",
        "    # Mengekstrak teks dari semua halaman\n",
        "    context = \"\\n\\n\".join(page.extract_text() for page in pdf_pages)"
      ],
      "metadata": {
        "id": "isqpnm6MFhxZ"
      },
      "execution_count": null,
      "outputs": []
    },
    {
      "cell_type": "code",
      "source": [
        "context"
      ],
      "metadata": {
        "id": "XBwH3dVlFwm4",
        "colab": {
          "base_uri": "https://localhost:8080/",
          "height": 143
        },
        "outputId": "b1e74f7e-7774-4022-c1c2-ac6f51e42af0"
      },
      "execution_count": null,
      "outputs": [
        {
          "output_type": "execute_result",
          "data": {
            "text/plain": [
              "'Copyright © 2023 Pearson Education, Inc. or its affiliate(s). All rights reserved. \\n1. AI Problem Definition\\n1.1 Identify the problem you are trying to solve using AI (e.g., user \\nsegmentation, improving customer service)\\n• Identify the need that will be addressed\\n• Find out what information comes in and what output is expected\\n• Determine whether AI is called for\\n• Consider upsides and downsides of AI in the situation\\n• Define measurable success\\n• Benchmark against domain or organization-specific risks to which the \\nproject may be susceptible\\n1.2 Classify the problem (e.g., regression, unsupervised learning) \\n• Examine available data (labeled or unlabeled?) and the problem\\n• Determine problem type (e.g., classification, regression, unsupervised, \\nreinforcement)\\n1.3 Identify the areas of expertise needed to solve the problem\\n• Identify business expertise required\\n• Identify the need for domain (subject-matter) expertise on the problem\\n• Identify AI expertise needed\\n• Identify implementation expertise neededIT SPECIALIST EXAM OBJECTIVES\\nArtificial Intelligence\\nCandidates for this certification have a foundational knowledge the procedures used to develop an artificial \\nintelligence (AI) solution, as well as an understanding of the issues surrounding the governance, transparency, \\nsecurity, and ethics of AI.  Successful candidates will be able to analyze and classify a problem. They should \\nbe able to demonstrate knowledge of data collection, data processing, and feature engineering strategies. \\nCandidates should be able to choose an appropriate algorithm for training a model, and understand the \\nmetrics used to evaluate model performance. They should understand the AI development lifecycle and \\nhow a production pipeline is used to allow for continuous improvement.  Candidates at least 150 hours of \\ninstruction and/or exploration of artificial intelligence methodology and solutions.\\nTo be successful on the test, the candidate is also expected to have the following prerequisite knowledge \\nand skills:\\n• 8th grade reading skills\\n• Algebra I\\n• An understanding of how communication occurs on a network\\n• Digital literacy skills, including the ability to research, create content, and solve problems using \\ntechnology\\n• Computational thinking skills, including the ability to decompose a problem into smaller parts and \\nsolve problems through automation\\nAlthough not required, the following skills will help a candidate learn about artificial intelligence more \\neasily:\\n• Familiarity with at least one programming or scripting language\\n• Familiarity with data storage technologies, including relational databases\\n• Familiarity with data analytics methods, including statistics \\n• Familiarity with security principles, including CIA (confidentiality, identity, and availability) and AAA \\n(Authentication, Authorization, and Accounting), and risk and vulnerability assessment\\n\\nCopyright © 2023 Pearson Education, Inc. or its affiliate(s). All rights reserved. 1.4 Build a security plan\\n• Consider internal access levels or permissions\\n• Consider infrastructure security\\n• Assess the risk of using a certain model or potential attack surfaces (e.g., \\nadversarial attacks on real-time learning model)\\n1.5 Ensure that AI is used appropriately\\n• Identify potential ways that the AI can mispredict or harm specific user \\ngroups\\n• Set guidelines for data gathering and use\\n• Set guidelines for algorithm selection from user perspective\\n• Consider how the subject of the data can interpret the results\\n• Consider out-of-context use of AI results\\n1.6 Choose transparency and validation activities\\n• Communicate intended purpose of data collection\\n• Decide who should see the results\\n• Review legal requirements specific to the industry with the problem being \\nsolved\\n2. Data Collection, Processing, and Engineering \\n2.1 Choose the way to collect data\\n• Determine type/characteristics of data needed\\n• Decide if there is an existing dataset or if you need to generate your own\\n• When generating your own dataset, decide whether collection can be \\nautomated or requires user input\\n2.2 Assess data quality     \\n• Determine whether the dataset meets needs of task\\n• Look for missing or corrupt data elements\\n2.3 Ensure that data are representative  \\n• Examine collection techniques for potential sources of bias\\n• Make sure the amount of data is enough to build an unbiased model\\n2.4 Identify resource requirements (e.g., computing, time complexity)\\n• Assess whether the problem is solvable with available computing resources\\n• Consider the budget of the project and the resources that are available\\n2.5 Convert data into suitable formats (e.g., numerical, image, time \\nseries)\\n• Convert data to binary (e.g., images become pixels)\\n• Convert computer data into features suitable for AI (e.g., sentences \\nbecome tokens)\\n2.6 Select features for the AI model \\n• Determine which data features to include \\n• Build initial feature vectors for test/train dataset\\n• Consult with subject-matter experts to confirm feature selectionIT SPECIALIST EXAM OBJECTIVES\\n\\nCopyright © 2023 Pearson Education, Inc. or its affiliate(s). All rights reserved. IT SPECIALIST EXAM OBJECTIVES\\n2.7 Engage in feature engineering\\n• Review features and determine what standard transformations are needed\\n• Create processed datasets\\n2.8 Identify training and test datasets \\n• Separate available data into training and test datasets\\n• Ensure test dataset is represented \\n2.9 Document data decisions   \\n• List assumptions, predicates, and constraints upon which design choices \\nhave been reasoned\\n• Make this information available to regulators and end users who demand \\ndeep transparency\\u2003\\n3. AI Algorithms and Models  \\n3.1 Consider applicability of specific algorithms \\n• Evaluate AI algorithm families\\n• Decide which algorithms  are suitable, e.g., neural network, classification \\n(like decision tree, k means)\\n3.2 Train a model using the selected algorithm \\n• Train model for an algorithm with best-guess starting parameters.\\n• Tune the model by changing parameters\\n• Gather performance metrics for the model\\n• Iterate as needed\\n3.3 Select specific model after experimentation, avoiding \\noverengineering\\n• Consider cost, speed, and other factors in evaluating models\\n• Determine whether selected model meets explainability requirements\\n3.4 Tell data stories \\n• Where feasible, create visualizations of the results\\n• Look for trends\\n• Verify that the visualization is useful for making a decision\\n3.5 Evaluate model performance (e.g., accuracy, precision)\\n• Check for overfitting, underfitting\\n• Generate metrics or KPIs\\n• Introduce new test data to cross-validate robustness, testing how model \\nhandles unforeseen data\\n3.6 Look for potential sources of bias in the algorithm\\n• Verify that inputs resemble training data\\n• Confirm that training data do not contain irrelevant correlations we do not \\nwant classifier to rely on\\n• Check for imbalances in data\\n• Guard against creating self-fulfilling prophecies based upon historical \\nbiases\\n• Check the explainability of the algorithm (e.g., feature importance in \\ndecision trees)\\n\\nCopyright © 2023 Pearson Education, Inc. or its affiliate(s). All rights reserved. IT SPECIALIST EXAM OBJECTIVES\\n3.7 Evaluate model sensitivity \\n• Test for sensitivity of model\\n• Test for specificity of model\\n3.8 Confirm adherence to regulatory requirements, if any \\n• Evaluate outputs according to thresholds defined in requirements\\n• Document results\\n3.9 Obtain stakeholder approval\\n• Collect results and benchmark risks\\n• Hold sessions to evaluate solution\\n4. Application Integration and Deployment\\n4.1 Train customers on how to use product and what to expect from it\\n• Inform users of model limitations\\n• Inform users of intended model usage\\n• Share documentation\\n• Manage customer expectations\\n4.2 Plan to address potential challenges of models in production\\n• Understand the types of challenges you are likely to encounter\\n• Understand the indicators of challenges\\n• Understand how each type of challenge could be mitigated\\n4.3 Design a production pipeline, including application integration\\n• Create a pipeline (training, prediction) that can meet the product needs \\n(may be different from the experiment)\\n• Find the solution that works with the existing data stores and connects to \\nthe application\\n• Build the connection between the AI and the application\\n• Build mechanism to gather user feedback\\n• Test accuracy of AI through application\\n• Test robustness of AI\\n• Test speed of AI\\n• Test application to fit size of use case (e.g., in AI for mobile applications)\\n4.4 Support the AI solution\\n• Document the functions within the AI solution to allow for maintenance \\n(updates, fixing bugs, handling edge cases)\\n• Train a support team\\n• Implement a feedback mechanism\\n• Implement drift detector\\n• Implement ways to gather new data\\n5. Maintaining and Monitoring AI in Production \\n5.1 Engage in oversight\\n• Log application and model performance to facilitate security, debug, \\naccountability, and audit\\n• Use robust monitoring systems\\n\\nCopyright © 2023 Pearson Education, Inc. or its affiliate(s). All rights reserved. IT SPECIALIST EXAM OBJECTIVES\\n• Act upon alerts\\n• Observe the system over time in a variety of contexts to check for drift or \\ndegraded modes of operation\\n• Detect any way system fails to support new information\\n5.2 Assess business impact (key performance indicators)\\n• Track impact metrics to determine whether solution has solved the \\nproblem\\n• Compare previous metrics with new metrics when changes are made\\n• Act on unexpected metrics by finding problem and fixing it\\n5.3 Measure impacts on individuals and communities\\n• Analyze impact on specific subgroups\\n• Identify and mitigate issues\\n• Identify opportunities for optimization\\n5.4 Handle feedback from users\\n• Measure user satisfaction\\n• Assess whether users are confused (e.g., do they understand what the AI is \\nsupposed to do for them?)\\n• Incorporate feedback into future versions\\n5.5 Consider improvement or decommission on a regular basis\\n• Combine impact observations (e.g., business, community, technology \\ntrends) to assess AI value\\n• Decide whether to retrain AI, continue to use AI as is, or to decommission \\nAI'"
            ],
            "application/vnd.google.colaboratory.intrinsic+json": {
              "type": "string"
            }
          },
          "metadata": {},
          "execution_count": 34
        }
      ]
    },
    {
      "cell_type": "code",
      "source": [
        "# Memecah teks menjadi potongan-potongan kecil\n",
        "text_splitter = RecursiveCharacterTextSplitter(chunk_size=500, chunk_overlap=100)\n",
        "texts = text_splitter.split_text(context)"
      ],
      "metadata": {
        "id": "7cAZD_khF0B7"
      },
      "execution_count": null,
      "outputs": []
    },
    {
      "cell_type": "code",
      "source": [
        "print(len(texts))\n",
        "\n",
        "print(type(texts[0]))"
      ],
      "metadata": {
        "id": "nUyKhi6XOqGr",
        "colab": {
          "base_uri": "https://localhost:8080/"
        },
        "outputId": "85a2cc14-2fb5-4636-ec76-e9bbb87726cb"
      },
      "execution_count": null,
      "outputs": [
        {
          "output_type": "stream",
          "name": "stdout",
          "text": [
            "27\n",
            "<class 'str'>\n"
          ]
        }
      ]
    },
    {
      "cell_type": "code",
      "source": [
        "texts[0]"
      ],
      "metadata": {
        "id": "yLxW6lKZPF1q",
        "colab": {
          "base_uri": "https://localhost:8080/",
          "height": 71
        },
        "outputId": "9cb2b3f4-7304-44a9-f299-982ea5da66cc"
      },
      "execution_count": null,
      "outputs": [
        {
          "output_type": "execute_result",
          "data": {
            "text/plain": [
              "'Copyright © 2023 Pearson Education, Inc. or its affiliate(s). All rights reserved. \\n1. AI Problem Definition\\n1.1 Identify the problem you are trying to solve using AI (e.g., user \\nsegmentation, improving customer service)\\n• Identify the need that will be addressed\\n• Find out what information comes in and what output is expected\\n• Determine whether AI is called for\\n• Consider upsides and downsides of AI in the situation\\n• Define measurable success'"
            ],
            "application/vnd.google.colaboratory.intrinsic+json": {
              "type": "string"
            }
          },
          "metadata": {},
          "execution_count": 37
        }
      ]
    },
    {
      "cell_type": "code",
      "source": [
        "# Membuat embeddings untuk potongan-potongan teks\n",
        "embeddings = GoogleGenerativeAIEmbeddings(model=\"models/embedding-001\",google_api_key=api_key)\n",
        "\n",
        "vector_index = Chroma.from_texts(texts, embeddings).as_retriever(search_kwargs={\"k\": 20})"
      ],
      "metadata": {
        "id": "Uf49bisNF4sr"
      },
      "execution_count": null,
      "outputs": []
    },
    {
      "cell_type": "code",
      "source": [
        "vector_index"
      ],
      "metadata": {
        "id": "X9iggyFOGH2k",
        "colab": {
          "base_uri": "https://localhost:8080/"
        },
        "outputId": "66cd5e44-1f42-449e-d160-f538db0e04aa"
      },
      "execution_count": null,
      "outputs": [
        {
          "output_type": "execute_result",
          "data": {
            "text/plain": [
              "VectorStoreRetriever(tags=['Chroma', 'GoogleGenerativeAIEmbeddings'], vectorstore=<langchain_community.vectorstores.chroma.Chroma object at 0x79b018b8c590>, search_kwargs={'k': 20})"
            ]
          },
          "metadata": {},
          "execution_count": 39
        }
      ]
    },
    {
      "cell_type": "code",
      "source": [
        "print(type(vector_index))"
      ],
      "metadata": {
        "id": "pNHWABJXQab4",
        "colab": {
          "base_uri": "https://localhost:8080/"
        },
        "outputId": "8f5eba80-733c-4143-eb85-2256da33640f"
      },
      "execution_count": null,
      "outputs": [
        {
          "output_type": "stream",
          "name": "stdout",
          "text": [
            "<class 'langchain_core.vectorstores.base.VectorStoreRetriever'>\n"
          ]
        }
      ]
    },
    {
      "cell_type": "code",
      "source": [
        "# Mendapatkan pertanyaan dari pengguna\n",
        "user_question = input(\"Tanyakan pertanyaan: \")\n",
        "\n",
        "# Mendapatkan dokumen relevan untuk pertanyaan pengguna\n",
        "docs = vector_index.get_relevant_documents(user_question)"
      ],
      "metadata": {
        "id": "sKY_FqH8GLZc",
        "colab": {
          "base_uri": "https://localhost:8080/"
        },
        "outputId": "e3a2c071-b82d-4074-ae65-c96414cb7784"
      },
      "execution_count": null,
      "outputs": [
        {
          "name": "stdout",
          "output_type": "stream",
          "text": [
            "Tanyakan pertanyaan: jelaskan syarat sertifikasi AI di pearson vue\n"
          ]
        },
        {
          "output_type": "stream",
          "name": "stderr",
          "text": [
            "<ipython-input-41-ee8e5bac553b>:5: LangChainDeprecationWarning: The method `BaseRetriever.get_relevant_documents` was deprecated in langchain-core 0.1.46 and will be removed in 1.0. Use :meth:`~invoke` instead.\n",
            "  docs = vector_index.get_relevant_documents(user_question)\n"
          ]
        }
      ]
    },
    {
      "cell_type": "code",
      "source": [
        "# Mendefinisikan template prompt\n",
        "prompt_template = \"\"\"\n",
        "Jawablah pertanyaan ini dengan se-detail mungkin dari konteks yang diberikan,\n",
        "pastikan untuk memberikan semua detail, jika jawaban tidak ada dalam\n",
        "konteks yang diberikan cukup katakan, \"jawaban tidak tersedia dalam konteks\",\n",
        "jangan memberikan jawaban yang salah\\n\\n\n",
        "Konteks:\\n {context}?\\n\n",
        "Pertanyaan: \\n{question}\\n\n",
        "Jawaban:\n",
        "\"\"\"\n",
        "\n",
        "# Membuat prompt\n",
        "prompt = PromptTemplate(template=prompt_template, input_variables=['context', 'question'])\n",
        "\n",
        "# Memuat QA chain\n",
        "model = ChatGoogleGenerativeAI(model=\"gemini-1.5-flash-latest\", api_key=api_key)\n",
        "chain = load_qa_chain(model, chain_type=\"stuff\", prompt=prompt)\n",
        "\n",
        "# Mendapatkan jawaban dari model\n",
        "response = chain({\"input_documents\": docs, \"question\": user_question}, return_only_outputs=True)\n",
        "\n",
        "# Menampilkan jawaban\n",
        "print(\"\\nJawaban:\")\n",
        "md(response['output_text'])"
      ],
      "metadata": {
        "id": "XN8jNeFYGOKz",
        "colab": {
          "base_uri": "https://localhost:8080/",
          "height": 618
        },
        "outputId": "821bddfd-1386-4f89-907c-af10cba211b7"
      },
      "execution_count": null,
      "outputs": [
        {
          "output_type": "stream",
          "name": "stderr",
          "text": [
            "<ipython-input-42-ac923919d070>:17: LangChainDeprecationWarning: This class is deprecated. See the following migration guides for replacements based on `chain_type`:\n",
            "stuff: https://python.langchain.com/docs/versions/migrating_chains/stuff_docs_chain\n",
            "map_reduce: https://python.langchain.com/docs/versions/migrating_chains/map_reduce_chain\n",
            "refine: https://python.langchain.com/docs/versions/migrating_chains/refine_chain\n",
            "map_rerank: https://python.langchain.com/docs/versions/migrating_chains/map_rerank_docs_chain\n",
            "\n",
            "See also guides on retrieval and question-answering here: https://python.langchain.com/docs/how_to/#qa-with-rag\n",
            "  chain = load_qa_chain(model, chain_type=\"stuff\", prompt=prompt)\n",
            "<ipython-input-42-ac923919d070>:20: LangChainDeprecationWarning: The method `Chain.__call__` was deprecated in langchain 0.1.0 and will be removed in 1.0. Use :meth:`~invoke` instead.\n",
            "  response = chain({\"input_documents\": docs, \"question\": user_question}, return_only_outputs=True)\n"
          ]
        },
        {
          "output_type": "stream",
          "name": "stdout",
          "text": [
            "\n",
            "Jawaban:\n"
          ]
        },
        {
          "output_type": "execute_result",
          "data": {
            "text/plain": [
              "<IPython.core.display.Markdown object>"
            ],
            "text/markdown": "Syarat sertifikasi AI di Pearson Vue, berdasarkan konteks yang diberikan, meliputi:\n\n**Pengetahuan dan Keterampilan Prasyarat:**\n\n* Kemampuan membaca setara kelas 8.\n* Pemahaman Aljabar I.\n* Memahami bagaimana komunikasi terjadi pada jaringan.\n* Keterampilan literasi digital, termasuk kemampuan untuk meneliti, membuat konten, dan memecahkan masalah menggunakan teknologi.\n* Keterampilan berpikir komputasional, termasuk kemampuan untuk menguraikan masalah menjadi bagian-bagian yang lebih kecil dan memecahkan masalah melalui otomatisasi.\n\n**Pengalaman:**\n\n* Minimal 150 jam instruksi dan/atau eksplorasi metodologi dan solusi kecerdasan buatan.\n\n**Keterampilan Tambahan yang Membantu (tidak wajib):**\n\n* Kemampuan dalam setidaknya satu bahasa pemrograman atau scripting.\n* Keakraban dengan teknologi penyimpanan data, termasuk basis data relasional.\n* Keakraban dengan metode analisis data, termasuk statistik.\n* Keakraban dengan prinsip-prinsip keamanan, termasuk CIA (kerahasiaan, identitas, dan ketersediaan) dan AAA (Autentikasi, Otorisasi, dan Akuntansi), serta penilaian risiko dan kerentanan.\n\n\nKonteks tersebut menjelaskan detail tentang materi ujian,  tetapi tidak memberikan informasi tentang proses pendaftaran, biaya, atau persyaratan administrasi lainnya di Pearson Vue.  Informasi tersebut tidak tersedia dalam konteks."
          },
          "metadata": {},
          "execution_count": 42
        }
      ]
    },
    {
      "cell_type": "code",
      "source": [],
      "metadata": {
        "id": "SUkQQN2AQufW"
      },
      "execution_count": null,
      "outputs": []
    }
  ]
}